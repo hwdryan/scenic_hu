{
 "cells": [
  {
   "cell_type": "code",
   "execution_count": 27,
   "metadata": {},
   "outputs": [
    {
     "name": "stdout",
     "output_type": "stream",
     "text": [
      "Output: /home/weidong/Tools/apollo\n",
      "\n",
      "Error: \n",
      "Return Code: 0\n"
     ]
    }
   ],
   "source": [
    "import os\n",
    "import subprocess\n",
    "\n",
    "# Replace 'your_command' with the actual command you want to run\n",
    "command_list = {\n",
    "    \"pwd\"\n",
    "}\n",
    "\n",
    "# Expand the ~ character to the home directory\n",
    "home_directory = os.path.expanduser('~')\n",
    "\n",
    "# Path to the Git repository (using ~ in the path)\n",
    "repository_path = [os.path.join(home_directory, 'Tools/apollo/'),0]\n",
    "\n",
    "# Run the command and capture the output\n",
    "for command in command_list:\n",
    "    result = subprocess.Popen(command, cwd=repository_path[0], shell=True, stdout=subprocess.PIPE, stderr=subprocess.PIPE, text=True)\n",
    "stdout, stderr = result.communicate()\n",
    "# Print the output and return code\n",
    "print(\"Output:\", stdout)\n",
    "print(\"Error:\", stderr)\n",
    "print(\"Return Code:\", result.returncode)\n"
   ]
  },
  {
   "cell_type": "code",
   "execution_count": null,
   "metadata": {},
   "outputs": [],
   "source": [
    "import os\n",
    "import subprocess\n",
    "import time\n",
    "\n",
    "home_directory = os.path.expanduser('~')\n",
    "\n",
    "# Commands to run\n",
    "command_list = [\n",
    "    {'command': \"./CarlaUE4.sh\", 'cwd': os.path.join(home_directory, 'Tools/CARLA_0.9.13/')},\n",
    "    {'command': \"./docker/scripts/dev_start.sh\", 'cwd': os.path.join(home_directory, \"Tools/apollo/\")},\n",
    "]\n",
    "\n",
    "# Run the first command in a detached tmux session\n",
    "tmux_command = ['tmux', 'new-session', '-d', '-s', 'carla_session', 'bash', '-c', command_list[0]['command']]\n",
    "subprocess.run(tmux_command, cwd=command_list[0]['cwd'])\n",
    "\n",
    "# Wait for a short time to ensure the first command starts running\n",
    "time.sleep(2)\n",
    "\n",
    "# Run the second command using subprocess without waiting for it to finish\n",
    "subprocess.run(command_list[1]['command'], cwd=command_list[1]['cwd'])\n",
    "\n",
    "# Optionally, you can attach to the tmux session for the first command if needed\n",
    "# subprocess.run(['tmux', 'attach-session', '-t', 'carla_session'])\n"
   ]
  },
  {
   "cell_type": "code",
   "execution_count": 11,
   "metadata": {},
   "outputs": [
    {
     "name": "stdout",
     "output_type": "stream",
     "text": [
      "Running command: ['docker', 'exec', 'apollo_dev_weidong', 'sh', '-c', 'cd', '/apollo/modules/carla_bridge/', '&&', 'chmod', '+x', 'install.sh', '&&', './install.sh', '&&', 'source', '~/.bashrc', '&&', 'python', 'main.py'] in directory /home/weidong\n",
      "Output: \n",
      "Error: \n",
      "Return Code: 0\n"
     ]
    }
   ],
   "source": [
    "import time\n",
    "import os\n",
    "import subprocess\n",
    "\n",
    "\n",
    "# Expand the ~ character to the home directory\n",
    "home_directory = os.path.expanduser('~')\n",
    "\n",
    "command_list = [\n",
    "    {'command': ['docker', 'exec', 'apollo_dev_weidong','shecho $PYTHONPATH ','-c',\n",
    "            'cd', '/apollo/modules/carla_bridge/',\n",
    "            '&&', 'chmod', '+x', 'install.sh',\n",
    "            '&&', './install.sh',\n",
    "            '&&', 'source', '~/.bashrc',\n",
    "            '&&', 'python', 'main.py'\n",
    "            ], 'cwd': home_directory},\n",
    "]\n",
    "\n",
    "# Run the command and capture the output\n",
    "for command in command_list:\n",
    "    print(f\"Running command: {command['command']} in directory {command['cwd']}\")\n",
    "    result = subprocess.run(command['command'], cwd=command['cwd'], shell=False, stdout=subprocess.PIPE, stderr=subprocess.PIPE, text=True)\n",
    "    \n",
    "    # Print the output and return code\n",
    "    print(\"Output:\", result.stdout)\n",
    "    print(\"Error:\", result.stderr)\n",
    "    print(\"Return Code:\", result.returncode)\n",
    "    if result.returncode != 0:\n",
    "        raise Exception(f\"Command: {command['command']} failed. \")\n",
    "    time.sleep(2)\n",
    "\n",
    "\n"
   ]
  },
  {
   "cell_type": "code",
   "execution_count": 34,
   "metadata": {},
   "outputs": [
    {
     "name": "stdout",
     "output_type": "stream",
     "text": [
      "Running command: docker exec -w /apollo/modules/carla_bridge/ -u weidong apollo_dev_weidong sh -c chmod +x install.sh && ./install.sh && source ~/.bashrc && tail ~/.bashrc && echo \"python path: \" $PYTHONPATH && python main.py in directory /home/weidong\n",
      "Command: docker exec -w /apollo/modules/carla_bridge/ -u weidong apollo_dev_weidong sh -c chmod +x install.sh && ./install.sh && source ~/.bashrc && tail ~/.bashrc && echo \"python path: \" $PYTHONPATH && python main.py returns code 1. \n",
      "Output: Defaulting to user installation because normal site-packages is not writeable\n",
      "Looking in indexes: https://pypi.tuna.tsinghua.edu.cn/simple\n",
      "Requirement already satisfied: loguru==0.7.0 in /usr/local/lib/python3.6/dist-packages (from -r requirements.txt (line 3)) (0.7.0)\n",
      "Requirement already satisfied: networkx in /usr/local/lib/python3.6/dist-packages (from -r requirements.txt (line 4)) (2.5.1)\n",
      "Requirement already satisfied: transforms3d==0.4.1 in /usr/local/lib/python3.6/dist-packages (from -r requirements.txt (line 5)) (0.4.1)\n",
      "Requirement already satisfied: aiocontextvars>=0.2.0 in /usr/local/lib/python3.6/dist-packages (from loguru==0.7.0->-r requirements.txt (line 3)) (0.2.2)\n",
      "Requirement already satisfied: decorator<5,>=4.3 in /usr/local/lib/python3.6/dist-packages (from networkx->-r requirements.txt (line 4)) (4.4.2)\n",
      "Requirement already satisfied: contextvars==2.4 in /usr/local/lib/python3.6/dist-packages (from aiocontextvars>=0.2.0->loguru==0.7.0->-r requirements.txt (line 3)) (2.4)\n",
      "Requirement already satisfied: immutables>=0.9 in /usr/local/lib/python3.6/dist-packages (from contextvars==2.4->aiocontextvars>=0.2.0->loguru==0.7.0->-r requirements.txt (line 3)) (0.19)\n",
      "Requirement already satisfied: typing-extensions>=3.7.4.3 in /usr/local/lib/python3.6/dist-packages (from immutables>=0.9->contextvars==2.4->aiocontextvars>=0.2.0->loguru==0.7.0->-r requirements.txt (line 3)) (4.1.1)\n",
      "    . /etc/bash_completion\n",
      "  fi\n",
      "fi\n",
      "source /opt/apollo/neo/setup.sh\n",
      "export PYTHONPATH=$PYTHONPATH:/apollo/cyber\n",
      "export PYTHONPATH=$PYTHONPATH:/apollo/cyber/python\n",
      "export PYTHONPATH=$PYTHONPATH:/apollo\n",
      "export PYTHONPATH=$PYTHONPATH:/apollo/modules\n",
      "export PYTHONPATH=$PYTHONPATH:/apollo/modules/carla_bridge/carla_api/carla-0.9.13-py3.7-linux-x86_64.egg\n",
      "export PYTHONPATH=$PYTHONPATH:/apollo/bazel-bin\n",
      "python path: \n",
      "\n",
      "Error: Traceback (most recent call last):\n",
      "  File \"main.py\", line 11, in <module>\n",
      "    import carla\n",
      "ModuleNotFoundError: No module named 'carla'\n",
      "\n",
      "Return Code: 1\n"
     ]
    },
    {
     "ename": "Exception",
     "evalue": "Command: docker exec -w /apollo/modules/carla_bridge/ -u weidong apollo_dev_weidong sh -c chmod +x install.sh && ./install.sh && source ~/.bashrc && tail ~/.bashrc && echo \"python path: \" $PYTHONPATH && python main.py failed. ",
     "output_type": "error",
     "traceback": [
      "\u001b[0;31m---------------------------------------------------------------------------\u001b[0m",
      "\u001b[0;31mException\u001b[0m                                 Traceback (most recent call last)",
      "Cell \u001b[0;32mIn[34], line 25\u001b[0m\n\u001b[1;32m     23\u001b[0m \u001b[38;5;28mprint\u001b[39m(\u001b[38;5;124m\"\u001b[39m\u001b[38;5;124mReturn Code:\u001b[39m\u001b[38;5;124m\"\u001b[39m, result\u001b[38;5;241m.\u001b[39mreturncode)\n\u001b[1;32m     24\u001b[0m \u001b[38;5;28;01mif\u001b[39;00m result\u001b[38;5;241m.\u001b[39mreturncode \u001b[38;5;241m!=\u001b[39m \u001b[38;5;241m0\u001b[39m:\n\u001b[0;32m---> 25\u001b[0m     \u001b[38;5;28;01mraise\u001b[39;00m \u001b[38;5;167;01mException\u001b[39;00m(\u001b[38;5;124mf\u001b[39m\u001b[38;5;124m\"\u001b[39m\u001b[38;5;124mCommand: \u001b[39m\u001b[38;5;132;01m{\u001b[39;00m\u001b[38;5;124m'\u001b[39m\u001b[38;5;124m \u001b[39m\u001b[38;5;124m'\u001b[39m\u001b[38;5;241m.\u001b[39mjoin(command[\u001b[38;5;124m'\u001b[39m\u001b[38;5;124mcommand\u001b[39m\u001b[38;5;124m'\u001b[39m])\u001b[38;5;132;01m}\u001b[39;00m\u001b[38;5;124m failed. \u001b[39m\u001b[38;5;124m\"\u001b[39m)\n\u001b[1;32m     26\u001b[0m time\u001b[38;5;241m.\u001b[39msleep(\u001b[38;5;241m2\u001b[39m)\n",
      "\u001b[0;31mException\u001b[0m: Command: docker exec -w /apollo/modules/carla_bridge/ -u weidong apollo_dev_weidong sh -c chmod +x install.sh && ./install.sh && source ~/.bashrc && tail ~/.bashrc && echo \"python path: \" $PYTHONPATH && python main.py failed. "
     ]
    }
   ],
   "source": [
    "import time\n",
    "import os\n",
    "import subprocess\n",
    "\n",
    "# Expand the ~ character to the home directory\n",
    "home_directory = os.path.expanduser('~')\n",
    "\n",
    "command_list = [\n",
    "    {'command': ['docker', 'exec', '-w', '/apollo/modules/carla_bridge/', '-u', 'weidong', 'apollo_dev_weidong', 'sh', '-c',\n",
    "                 'chmod +x install.sh && ./install.sh && source ~/.bashrc && tail ~/.bashrc && echo \"python path: \" $PYTHONPATH && python main.py'],\n",
    "     'cwd': home_directory},\n",
    "]\n",
    "\n",
    "# Run the command and capture the output\n",
    "for command in command_list:\n",
    "    print(f\"Running command: {' '.join(command['command'])} in directory {command['cwd']}\")\n",
    "    result = subprocess.run(command['command'], cwd=command['cwd'], shell=False, stdout=subprocess.PIPE, stderr=subprocess.PIPE, text=True)\n",
    "    print(f\"Command: {' '.join(command['command'])} returns code {result.returncode}. \")\n",
    "\n",
    "    # Print the output and return code\n",
    "    print(\"Output:\", result.stdout)\n",
    "    print(\"Error:\", result.stderr)\n",
    "    print(\"Return Code:\", result.returncode)\n",
    "    if result.returncode != 0:\n",
    "        raise Exception(f\"Command: {' '.join(command['command'])} failed. \")\n",
    "    time.sleep(2)\n",
    "\n"
   ]
  }
 ],
 "metadata": {
  "kernelspec": {
   "display_name": "Python 3",
   "language": "python",
   "name": "python3"
  },
  "language_info": {
   "name": "python",
   "version": "3.8.10"
  }
 },
 "nbformat": 4,
 "nbformat_minor": 2
}
