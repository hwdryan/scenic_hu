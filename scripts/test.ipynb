{
 "cells": [
  {
   "cell_type": "code",
   "execution_count": 27,
   "metadata": {},
   "outputs": [
    {
     "name": "stdout",
     "output_type": "stream",
     "text": [
      "Output: /home/weidong/Tools/apollo\n",
      "\n",
      "Error: \n",
      "Return Code: 0\n"
     ]
    }
   ],
   "source": [
    "import os\n",
    "import subprocess\n",
    "\n",
    "# Replace 'your_command' with the actual command you want to run\n",
    "command_list = {\n",
    "    \"pwd\"\n",
    "}\n",
    "\n",
    "# Expand the ~ character to the home directory\n",
    "home_directory = os.path.expanduser('~')\n",
    "\n",
    "# Path to the Git repository (using ~ in the path)\n",
    "repository_path = [os.path.join(home_directory, 'Tools/apollo/'),0]\n",
    "\n",
    "# Run the command and capture the output\n",
    "for command in command_list:\n",
    "    result = subprocess.Popen(command, cwd=repository_path[0], shell=True, stdout=subprocess.PIPE, stderr=subprocess.PIPE, text=True)\n",
    "stdout, stderr = result.communicate()\n",
    "# Print the output and return code\n",
    "print(\"Output:\", stdout)\n",
    "print(\"Error:\", stderr)\n",
    "print(\"Return Code:\", result.returncode)\n"
   ]
  },
  {
   "cell_type": "code",
   "execution_count": null,
   "metadata": {},
   "outputs": [],
   "source": [
    "import os\n",
    "import subprocess\n",
    "import time\n",
    "\n",
    "home_directory = os.path.expanduser('~')\n",
    "\n",
    "# Commands to run\n",
    "command_list = [\n",
    "    {'command': \"./CarlaUE4.sh\", 'cwd': os.path.join(home_directory, 'Tools/CARLA_0.9.13/')},\n",
    "    {'command': \"./docker/scripts/dev_start.sh\", 'cwd': os.path.join(home_directory, \"Tools/apollo/\")},\n",
    "]\n",
    "\n",
    "# Run the first command in a detached tmux session\n",
    "tmux_command = ['tmux', 'new-session', '-d', '-s', 'carla_session', 'bash', '-c', command_list[0]['command']]\n",
    "subprocess.run(tmux_command, cwd=command_list[0]['cwd'])\n",
    "\n",
    "# Wait for a short time to ensure the first command starts running\n",
    "time.sleep(2)\n",
    "\n",
    "# Run the second command using subprocess without waiting for it to finish\n",
    "subprocess.run(command_list[1]['command'], cwd=command_list[1]['cwd'])\n",
    "\n",
    "# Optionally, you can attach to the tmux session for the first command if needed\n",
    "# subprocess.run(['tmux', 'attach-session', '-t', 'carla_session'])\n"
   ]
  },
  {
   "cell_type": "code",
   "execution_count": 11,
   "metadata": {},
   "outputs": [
    {
     "name": "stdout",
     "output_type": "stream",
     "text": [
      "Running command: ['docker', 'exec', 'apollo_dev_weidong', 'sh', '-c', 'cd', '/apollo/modules/carla_bridge/', '&&', 'chmod', '+x', 'install.sh', '&&', './install.sh', '&&', 'source', '~/.bashrc', '&&', 'python', 'main.py'] in directory /home/weidong\n",
      "Output: \n",
      "Error: \n",
      "Return Code: 0\n"
     ]
    }
   ],
   "source": [
    "import time\n",
    "import os\n",
    "import subprocess\n",
    "\n",
    "\n",
    "# Expand the ~ character to the home directory\n",
    "home_directory = os.path.expanduser('~')\n",
    "\n",
    "command_list = [\n",
    "    {'command': ['docker', 'exec', 'apollo_dev_weidong','shecho $PYTHONPATH ','-c',\n",
    "            'cd', '/apollo/modules/carla_bridge/',\n",
    "            '&&', 'chmod', '+x', 'install.sh',\n",
    "            '&&', './install.sh',\n",
    "            '&&', 'source', '~/.bashrc',\n",
    "            '&&', 'python', 'main.py'\n",
    "            ], 'cwd': home_directory},\n",
    "]\n",
    "\n",
    "# Run the command and capture the output\n",
    "for command in command_list:\n",
    "    print(f\"Running command: {command['command']} in directory {command['cwd']}\")\n",
    "    result = subprocess.run(command['command'], cwd=command['cwd'], shell=False, stdout=subprocess.PIPE, stderr=subprocess.PIPE, text=True)\n",
    "    \n",
    "    # Print the output and return code\n",
    "    print(\"Output:\", result.stdout)\n",
    "    print(\"Error:\", result.stderr)\n",
    "    print(\"Return Code:\", result.returncode)\n",
    "    if result.returncode != 0:\n",
    "        raise Exception(f\"Command: {command['command']} failed. \")\n",
    "    time.sleep(2)\n",
    "\n",
    "\n"
   ]
  },
  {
   "cell_type": "code",
   "execution_count": 34,
   "metadata": {},
   "outputs": [
    {
     "name": "stdout",
     "output_type": "stream",
     "text": [
      "Running command: docker exec -w /apollo/modules/carla_bridge/ -u weidong apollo_dev_weidong sh -c chmod +x install.sh && ./install.sh && source ~/.bashrc && tail ~/.bashrc && echo \"python path: \" $PYTHONPATH && python main.py in directory /home/weidong\n",
      "Command: docker exec -w /apollo/modules/carla_bridge/ -u weidong apollo_dev_weidong sh -c chmod +x install.sh && ./install.sh && source ~/.bashrc && tail ~/.bashrc && echo \"python path: \" $PYTHONPATH && python main.py returns code 1. \n",
      "Output: Defaulting to user installation because normal site-packages is not writeable\n",
      "Looking in indexes: https://pypi.tuna.tsinghua.edu.cn/simple\n",
      "Requirement already satisfied: loguru==0.7.0 in /usr/local/lib/python3.6/dist-packages (from -r requirements.txt (line 3)) (0.7.0)\n",
      "Requirement already satisfied: networkx in /usr/local/lib/python3.6/dist-packages (from -r requirements.txt (line 4)) (2.5.1)\n",
      "Requirement already satisfied: transforms3d==0.4.1 in /usr/local/lib/python3.6/dist-packages (from -r requirements.txt (line 5)) (0.4.1)\n",
      "Requirement already satisfied: aiocontextvars>=0.2.0 in /usr/local/lib/python3.6/dist-packages (from loguru==0.7.0->-r requirements.txt (line 3)) (0.2.2)\n",
      "Requirement already satisfied: decorator<5,>=4.3 in /usr/local/lib/python3.6/dist-packages (from networkx->-r requirements.txt (line 4)) (4.4.2)\n",
      "Requirement already satisfied: contextvars==2.4 in /usr/local/lib/python3.6/dist-packages (from aiocontextvars>=0.2.0->loguru==0.7.0->-r requirements.txt (line 3)) (2.4)\n",
      "Requirement already satisfied: immutables>=0.9 in /usr/local/lib/python3.6/dist-packages (from contextvars==2.4->aiocontextvars>=0.2.0->loguru==0.7.0->-r requirements.txt (line 3)) (0.19)\n",
      "Requirement already satisfied: typing-extensions>=3.7.4.3 in /usr/local/lib/python3.6/dist-packages (from immutables>=0.9->contextvars==2.4->aiocontextvars>=0.2.0->loguru==0.7.0->-r requirements.txt (line 3)) (4.1.1)\n",
      "    . /etc/bash_completion\n",
      "  fi\n",
      "fi\n",
      "source /opt/apollo/neo/setup.sh\n",
      "export PYTHONPATH=$PYTHONPATH:/apollo/cyber\n",
      "export PYTHONPATH=$PYTHONPATH:/apollo/cyber/python\n",
      "export PYTHONPATH=$PYTHONPATH:/apollo\n",
      "export PYTHONPATH=$PYTHONPATH:/apollo/modules\n",
      "export PYTHONPATH=$PYTHONPATH:/apollo/modules/carla_bridge/carla_api/carla-0.9.13-py3.7-linux-x86_64.egg\n",
      "export PYTHONPATH=$PYTHONPATH:/apollo/bazel-bin\n",
      "python path: \n",
      "\n",
      "Error: Traceback (most recent call last):\n",
      "  File \"main.py\", line 11, in <module>\n",
      "    import carla\n",
      "ModuleNotFoundError: No module named 'carla'\n",
      "\n",
      "Return Code: 1\n"
     ]
    },
    {
     "ename": "Exception",
     "evalue": "Command: docker exec -w /apollo/modules/carla_bridge/ -u weidong apollo_dev_weidong sh -c chmod +x install.sh && ./install.sh && source ~/.bashrc && tail ~/.bashrc && echo \"python path: \" $PYTHONPATH && python main.py failed. ",
     "output_type": "error",
     "traceback": [
      "\u001b[0;31m---------------------------------------------------------------------------\u001b[0m",
      "\u001b[0;31mException\u001b[0m                                 Traceback (most recent call last)",
      "Cell \u001b[0;32mIn[34], line 25\u001b[0m\n\u001b[1;32m     23\u001b[0m \u001b[38;5;28mprint\u001b[39m(\u001b[38;5;124m\"\u001b[39m\u001b[38;5;124mReturn Code:\u001b[39m\u001b[38;5;124m\"\u001b[39m, result\u001b[38;5;241m.\u001b[39mreturncode)\n\u001b[1;32m     24\u001b[0m \u001b[38;5;28;01mif\u001b[39;00m result\u001b[38;5;241m.\u001b[39mreturncode \u001b[38;5;241m!=\u001b[39m \u001b[38;5;241m0\u001b[39m:\n\u001b[0;32m---> 25\u001b[0m     \u001b[38;5;28;01mraise\u001b[39;00m \u001b[38;5;167;01mException\u001b[39;00m(\u001b[38;5;124mf\u001b[39m\u001b[38;5;124m\"\u001b[39m\u001b[38;5;124mCommand: \u001b[39m\u001b[38;5;132;01m{\u001b[39;00m\u001b[38;5;124m'\u001b[39m\u001b[38;5;124m \u001b[39m\u001b[38;5;124m'\u001b[39m\u001b[38;5;241m.\u001b[39mjoin(command[\u001b[38;5;124m'\u001b[39m\u001b[38;5;124mcommand\u001b[39m\u001b[38;5;124m'\u001b[39m])\u001b[38;5;132;01m}\u001b[39;00m\u001b[38;5;124m failed. \u001b[39m\u001b[38;5;124m\"\u001b[39m)\n\u001b[1;32m     26\u001b[0m time\u001b[38;5;241m.\u001b[39msleep(\u001b[38;5;241m2\u001b[39m)\n",
      "\u001b[0;31mException\u001b[0m: Command: docker exec -w /apollo/modules/carla_bridge/ -u weidong apollo_dev_weidong sh -c chmod +x install.sh && ./install.sh && source ~/.bashrc && tail ~/.bashrc && echo \"python path: \" $PYTHONPATH && python main.py failed. "
     ]
    }
   ],
   "source": [
    "import time\n",
    "import os\n",
    "import subprocess\n",
    "\n",
    "# Expand the ~ character to the home directory\n",
    "home_directory = os.path.expanduser('~')\n",
    "\n",
    "command_list = [\n",
    "    {'command': ['docker', 'exec', '-w', '/apollo/modules/carla_bridge/', '-u', 'weidong', 'apollo_dev_weidong', 'sh', '-c',\n",
    "                 'chmod +x install.sh && ./install.sh && source ~/.bashrc && tail ~/.bashrc && echo \"python path: \" $PYTHONPATH && python main.py'],\n",
    "     'cwd': home_directory},\n",
    "]\n",
    "\n",
    "# Run the command and capture the output\n",
    "for command in command_list:\n",
    "    print(f\"Running command: {' '.join(command['command'])} in directory {command['cwd']}\")\n",
    "    result = subprocess.run(command['command'], cwd=command['cwd'], shell=False, stdout=subprocess.PIPE, stderr=subprocess.PIPE, text=True)\n",
    "    print(f\"Command: {' '.join(command['command'])} returns code {result.returncode}. \")\n",
    "\n",
    "    # Print the output and return code\n",
    "    print(\"Output:\", result.stdout)\n",
    "    print(\"Error:\", result.stderr)\n",
    "    print(\"Return Code:\", result.returncode)\n",
    "    if result.returncode != 0:\n",
    "        raise Exception(f\"Command: {' '.join(command['command'])} failed. \")\n",
    "    time.sleep(2)\n",
    "\n"
   ]
  },
  {
   "cell_type": "code",
   "execution_count": null,
   "metadata": {},
   "outputs": [
    {
     "data": {
      "text/plain": [
       "<subprocess.Popen at 0x7f1c1504cdf0>"
      ]
     },
     "execution_count": 3,
     "metadata": {},
     "output_type": "execute_result"
    },
    {
     "name": "stderr",
     "output_type": "stream",
     "text": [
      "[\u001b[34m\u001b[1mINFO\u001b[0m] Use default GeoLocation settings\n",
      "[\u001b[34m\u001b[1mINFO\u001b[0m] Start pulling docker image apolloauto/apollo:dev-x86_64-18.04-20221124_1708 ...\n",
      "[\u001b[34m\u001b[1mINFO\u001b[0m] Create volume lane_detection_volume_weidonghu from image: apolloauto/apollo:lane_detection_model-x86_64-latest\n",
      "[\u001b[34m\u001b[1mINFO\u001b[0m] Start pulling docker image apolloauto/apollo:lane_detection_model-x86_64-latest ...\n"
     ]
    },
    {
     "name": "stdout",
     "output_type": "stream",
     "text": [
      "4.26.2-0+++UE4+Release-4.26 522 0\n",
      "Disabling core dumps.\n",
      "lane_detection_model-x86_64-latest: Pulling from apolloauto/apollo\n",
      "Digest: sha256:d55346a42c93f53cab1bdfe91b7d0b090a388efaee1b7133eebab1543b6b4942\n",
      "Status: Image is up to date for apolloauto/apollo:lane_detection_model-x86_64-latest\n",
      "docker.io/apolloauto/apollo:lane_detection_model-x86_64-latest\n",
      "map_volume-apollo_virutal_map-latest: Pulling from apolloauto/apollo\n",
      "Digest: sha256:f478d6f7791defd3e4cba20a6163a16646c7174e7fa1161404783c5866dd73ab\n",
      "Status: Image is up to date for apolloauto/apollo:map_volume-apollo_virutal_map-latest\n",
      "docker.io/apolloauto/apollo:map_volume-apollo_virutal_map-latest\n",
      "dev-x86_64-18.04-20221124_1708: Pulling from apolloauto/apollo\n",
      "Digest: sha256:1297e8cbdef666e88567d4d8bfe27a59e0cae8cec2b4738f838f20cc7d6c18af\n",
      "Status: Image is up to date for apolloauto/apollo:dev-x86_64-18.04-20221124_1708\n",
      "docker.io/apolloauto/apollo:dev-x86_64-18.04-20221124_1708\n"
     ]
    },
    {
     "name": "stderr",
     "output_type": "stream",
     "text": [
      "[\u001b[34m\u001b[1mINFO\u001b[0m] Remove existing Apollo Development container ...\n",
      "[\u001b[34m\u001b[1mINFO\u001b[0m] Determine whether host GPU is available ...\n",
      "[\u001b[34m\u001b[1mINFO\u001b[0m] USE_GPU_HOST: 1\n",
      "[\u001b[34m\u001b[1mINFO\u001b[0m] Starting mounting map volumes ...\n",
      "[\u001b[34m\u001b[1mINFO\u001b[0m] Load map sunnyvale_big_loop from image: apolloauto/apollo:map_volume-sunnyvale_big_loop-latest\n",
      "[\u001b[34m\u001b[1mINFO\u001b[0m] Create volume apollo_map_volume-sunnyvale_big_loop_weidonghu from image: apolloauto/apollo:map_volume-sunnyvale_big_loop-latest\n",
      "[\u001b[34m\u001b[1mINFO\u001b[0m] Start pulling docker image apolloauto/apollo:map_volume-sunnyvale_big_loop-latest ...\n",
      "[\u001b[34m\u001b[1mINFO\u001b[0m] Create volume apollo_smoke_volume_weidonghu from image: apolloauto/apollo:smoke_volume-yolo_obstacle_detection_model-x86_64-latest\n",
      "[\u001b[34m\u001b[1mINFO\u001b[0m] Start pulling docker image apolloauto/apollo:smoke_volume-yolo_obstacle_detection_model-x86_64-latest ...\n",
      "docker: Error response from daemon: failed to create task for container: failed to create shim task: OCI runtime create failed: runc create failed: unable to start container process: exec: \"true\": executable file not found in $PATH: unknown.\n",
      "[\u001b[34m\u001b[1mINFO\u001b[0m] Mount other volumes ...\n",
      "[\u001b[34m\u001b[1mINFO\u001b[0m] Create volume apollo_audio_volume_weidonghu from image: apolloauto/apollo:data_volume-audio_model-x86_64-latest\n",
      "[\u001b[34m\u001b[1mINFO\u001b[0m] Start pulling docker image apolloauto/apollo:data_volume-audio_model-x86_64-latest ...\n",
      "LowLevelFatalError [File:Unknown] [Line: 136] \n",
      "Exception thrown: bind: Address already in use\n",
      "Signal 11 caught.\n",
      "Malloc Size=65538 LargeMemoryPoolOffset=65554 \n",
      "Malloc Size=131160 LargeMemoryPoolOffset=196744 \n",
      "Malloc Size=131160 LargeMemoryPoolOffset=327928 \n"
     ]
    },
    {
     "name": "stdout",
     "output_type": "stream",
     "text": [
      "CommonUnixCrashHandler: Signal=11\n",
      "Engine crash handling finished; re-raising signal 11 for the default handler. Good bye.\n"
     ]
    },
    {
     "name": "stderr",
     "output_type": "stream",
     "text": [
      "Segmentation fault\n"
     ]
    },
    {
     "name": "stdout",
     "output_type": "stream",
     "text": [
      "map_volume-sunnyvale_big_loop-latest: Pulling from apolloauto/apollo\n",
      "Digest: sha256:0a27ea953198d397fd7bf3b0e670951f6a9d645d362a8bdc707589a26cde8861\n",
      "Status: Image is up to date for apolloauto/apollo:map_volume-sunnyvale_big_loop-latest\n",
      "docker.io/apolloauto/apollo:map_volume-sunnyvale_big_loop-latest\n"
     ]
    },
    {
     "name": "stderr",
     "output_type": "stream",
     "text": [
      "[\u001b[34m\u001b[1mINFO\u001b[0m] Load map sunnyvale_loop from image: apolloauto/apollo:map_volume-sunnyvale_loop-latest\n",
      "[\u001b[34m\u001b[1mINFO\u001b[0m] Create volume apollo_map_volume-sunnyvale_loop_weidonghu from image: apolloauto/apollo:map_volume-sunnyvale_loop-latest\n",
      "[\u001b[34m\u001b[1mINFO\u001b[0m] Start pulling docker image apolloauto/apollo:map_volume-sunnyvale_loop-latest ...\n"
     ]
    },
    {
     "name": "stdout",
     "output_type": "stream",
     "text": [
      "smoke_volume-yolo_obstacle_detection_model-x86_64-latest: Pulling from apolloauto/apollo\n",
      "Digest: sha256:848c0bc03e73898155a079576568d640ad6c6b2ec665d2ac2f1c46838f5c3fc9\n",
      "Status: Image is up to date for apolloauto/apollo:smoke_volume-yolo_obstacle_detection_model-x86_64-latest\n",
      "docker.io/apolloauto/apollo:smoke_volume-yolo_obstacle_detection_model-x86_64-latest\n",
      "data_volume-audio_model-x86_64-latest: Pulling from apolloauto/apollo\n",
      "Digest: sha256:1491b6de2b71bd6bc6326bf70a945da69360e490724df78849f6d70ff4d00f61\n",
      "Status: Image is up to date for apolloauto/apollo:data_volume-audio_model-x86_64-latest\n",
      "docker.io/apolloauto/apollo:data_volume-audio_model-x86_64-latest\n"
     ]
    },
    {
     "name": "stderr",
     "output_type": "stream",
     "text": [
      "[\u001b[34m\u001b[1mINFO\u001b[0m] Starting Docker container \"apollo_dev_weidonghu\" ...\n",
      "+ docker run --gpus all -itd --privileged --name apollo_dev_weidonghu -e DISPLAY=:1 -e DOCKER_USER=weidonghu -e USER=weidonghu -e DOCKER_USER_ID=1000 -e DOCKER_GRP=weidonghu -e DOCKER_GRP_ID=1000 -e DOCKER_IMG=apolloauto/apollo:dev-x86_64-18.04-20221124_1708 -e USE_GPU_HOST=1 -e NVIDIA_VISIBLE_DEVICES=all -e NVIDIA_DRIVER_CAPABILITIES=compute,video,graphics,utility --volume apollo_map_volume-sunnyvale_big_loop_weidonghu:/apollo/modules/map/data/sunnyvale_big_loop --volume apollo_map_volume-sunnyvale_loop_weidonghu:/apollo/modules/map/data/sunnyvale_loop --volume apollo_map_volume-sunnyvale_with_two_offices_weidonghu:/apollo/modules/map/data/sunnyvale_with_two_offices --volume apollo_map_volume-san_mateo_weidonghu:/apollo/modules/map/data/san_mateo --volume apollo_map_volume-apollo_virutal_map_weidonghu:/apollo/modules/map/data/apollo_virutal_map --volume apollo_audio_volume_weidonghu:/apollo/modules/audio/data/ --volume apollo_tl_detection_volume_weidonghu:/apollo/modules/perception/production/data/perception/camera/models/traffic_light_detection/tl_detection_caffe --volume apollo_tl_horizontal_volume_weidonghu:/apollo/modules/perception/production/data/perception/camera/models/traffic_light_recognition/horizontal_caffe --volume apollo_tl_quadrate_volume_weidonghu:/apollo/modules/perception/production/data/perception/camera/models/traffic_light_recognition/quadrate_caffe --volume apollo_tl_recognition_volume_weidonghu:/apollo/modules/perception/production/data/perception/camera/models/traffic_light_recognition/vertical_caffe --volume yolo_obstacle_volume_weidonghu:/apollo/modules/perception/production/data/perception/camera/models/yolo_obstacle_detector/3d-r4-half_caffe --volume cnnseg_volume_weidonghu:/apollo/modules/perception/production/data/perception/lidar/models/cnnseg/cnnseg64_caffe --volume lane_detection_volume_weidonghu:/apollo/modules/perception/production/data/perception/camera/models/lane_detector/darkSCNN_caffe --volume apollo_smoke_volume_weidonghu:/apollo/modules/perception/production/data/perception/camera/models/yolo_obstacle_detector/smoke_libtorch_model -v /home/weidonghu/.apollo:/home/weidonghu/.apollo -v /home/weidonghu/Tools/apollo:/apollo -v /dev:/dev -v /media:/media -v /tmp/.X11-unix:/tmp/.X11-unix:rw -v /etc/localtime:/etc/localtime:ro -v /usr/src:/usr/src -v /lib/modules:/lib/modules --net host -w /apollo --add-host in-dev-docker:127.0.0.1 --add-host weidonghu-desktop:127.0.0.1 --hostname in-dev-docker --shm-size 2G --pid=host -v /dev/null:/dev/raw1394 apolloauto/apollo:dev-x86_64-18.04-20221124_1708 /bin/bash\n"
     ]
    },
    {
     "name": "stdout",
     "output_type": "stream",
     "text": [
      "039699987e5c859fdc99b76b5bb482c6e0619dd085eb6ceef92ca4a5d32f9a76\n"
     ]
    },
    {
     "name": "stderr",
     "output_type": "stream",
     "text": [
      "[\u001b[34m\u001b[1mINFO\u001b[0m] Create volume apollo_tl_detection_volume_weidonghu from image: apolloauto/apollo:traffic_light-detection_caffe_model-x86_64-latest\n",
      "[\u001b[34m\u001b[1mINFO\u001b[0m] Start pulling docker image apolloauto/apollo:traffic_light-detection_caffe_model-x86_64-latest ...\n",
      "+ '[' 0 -ne 0 ']'\n",
      "+ set +x\n"
     ]
    },
    {
     "name": "stdout",
     "output_type": "stream",
     "text": [
      "Adding group `weidonghu' (GID 1000) ...\n",
      "Done.\n",
      "Adding user `weidonghu' ...\n",
      "Adding new user `weidonghu' (1000) with group `weidonghu' ...\n",
      "The home directory `/home/weidonghu' already exists.  Not copying from `/etc/skel'.\n",
      "map_volume-sunnyvale_loop-latest: Pulling from apolloauto/apollo\n",
      "Digest: sha256:1337ca5d357f33318e38368b6218d343f6138c63a9bb491175ca7cdd39c1a789\n",
      "Status: Image is up to date for apolloauto/apollo:map_volume-sunnyvale_loop-latest\n",
      "docker.io/apolloauto/apollo:map_volume-sunnyvale_loop-latest\n"
     ]
    },
    {
     "name": "stderr",
     "output_type": "stream",
     "text": [
      "adduser: Warning: The home directory `/home/weidonghu' does not belong to the user you are currently creating.\n",
      "cp: -r not specified; omitting directory '/etc/skel/.'\n",
      "cp: -r not specified; omitting directory '/etc/skel/..'\n",
      "[\u001b[34m\u001b[1mINFO\u001b[0m] Executing additional commands inside the Docker container...\n",
      "the input device is not a TTY\n",
      "[\u001b[32m\u001b[1m OK \u001b[0m] Congratulations! You have successfully finished setting up Apollo Dev Environment.\n",
      "[\u001b[32m\u001b[1m OK \u001b[0m] To login into the newly created apollo_dev_weidonghu container, please run the following command:\n",
      "[\u001b[32m\u001b[1m OK \u001b[0m]   bash docker/scripts/dev_into.sh\n",
      "[\u001b[32m\u001b[1m OK \u001b[0m] Enjoy!\n",
      "[\u001b[34m\u001b[1mINFO\u001b[0m] Load map sunnyvale_with_two_offices from image: apolloauto/apollo:map_volume-sunnyvale_with_two_offices-latest\n",
      "[\u001b[34m\u001b[1mINFO\u001b[0m] Create volume apollo_map_volume-sunnyvale_with_two_offices_weidonghu from image: apolloauto/apollo:map_volume-sunnyvale_with_two_offices-latest\n",
      "[\u001b[34m\u001b[1mINFO\u001b[0m] Start pulling docker image apolloauto/apollo:map_volume-sunnyvale_with_two_offices-latest ...\n"
     ]
    },
    {
     "name": "stdout",
     "output_type": "stream",
     "text": [
      "traffic_light-detection_caffe_model-x86_64-latest: Pulling from apolloauto/apollo\n",
      "Digest: sha256:405b4ada33d7de94d62325b28c8dee55e277769ae1d2be21b8f94dcd66ec3ca1\n",
      "Status: Image is up to date for apolloauto/apollo:traffic_light-detection_caffe_model-x86_64-latest\n",
      "docker.io/apolloauto/apollo:traffic_light-detection_caffe_model-x86_64-latest\n"
     ]
    },
    {
     "name": "stderr",
     "output_type": "stream",
     "text": [
      "[\u001b[34m\u001b[1mINFO\u001b[0m] Create volume apollo_tl_horizontal_volume_weidonghu from image: apolloauto/apollo:traffic_light-horizontal_caffe_model-x86_64-latest\n",
      "[\u001b[34m\u001b[1mINFO\u001b[0m] Start pulling docker image apolloauto/apollo:traffic_light-horizontal_caffe_model-x86_64-latest ...\n"
     ]
    },
    {
     "name": "stdout",
     "output_type": "stream",
     "text": [
      "map_volume-sunnyvale_with_two_offices-latest: Pulling from apolloauto/apollo\n",
      "Digest: sha256:5893abb847f7cffb5dd310f9bac307d5c2537797c247eb1c609f36de1943bdf5\n",
      "Status: Image is up to date for apolloauto/apollo:map_volume-sunnyvale_with_two_offices-latest\n",
      "docker.io/apolloauto/apollo:map_volume-sunnyvale_with_two_offices-latest\n"
     ]
    },
    {
     "name": "stderr",
     "output_type": "stream",
     "text": [
      "[\u001b[34m\u001b[1mINFO\u001b[0m] Load map san_mateo from image: apolloauto/apollo:map_volume-san_mateo-latest\n",
      "[\u001b[34m\u001b[1mINFO\u001b[0m] Create volume apollo_map_volume-san_mateo_weidonghu from image: apolloauto/apollo:map_volume-san_mateo-latest\n",
      "[\u001b[34m\u001b[1mINFO\u001b[0m] Start pulling docker image apolloauto/apollo:map_volume-san_mateo-latest ...\n"
     ]
    },
    {
     "name": "stdout",
     "output_type": "stream",
     "text": [
      "traffic_light-horizontal_caffe_model-x86_64-latest: Pulling from apolloauto/apollo\n",
      "Digest: sha256:17fc307e75731c5cedb8aa9300c830ba51eb3d7729f6b572530678fbffd4c531\n",
      "Status: Image is up to date for apolloauto/apollo:traffic_light-horizontal_caffe_model-x86_64-latest\n",
      "docker.io/apolloauto/apollo:traffic_light-horizontal_caffe_model-x86_64-latest\n"
     ]
    },
    {
     "name": "stderr",
     "output_type": "stream",
     "text": [
      "[\u001b[34m\u001b[1mINFO\u001b[0m] Create volume apollo_tl_quadrate_volume_weidonghu from image: apolloauto/apollo:traffic_light-quadrate_caffe_model-x86_64-latest\n",
      "[\u001b[34m\u001b[1mINFO\u001b[0m] Start pulling docker image apolloauto/apollo:traffic_light-quadrate_caffe_model-x86_64-latest ...\n"
     ]
    },
    {
     "name": "stdout",
     "output_type": "stream",
     "text": [
      "map_volume-san_mateo-latest: Pulling from apolloauto/apollo\n",
      "Digest: sha256:12b04dbfa947f7f06dc5c3b7604be08988c560e850c037a2571998478f0ccf80\n",
      "Status: Image is up to date for apolloauto/apollo:map_volume-san_mateo-latest\n",
      "docker.io/apolloauto/apollo:map_volume-san_mateo-latest\n"
     ]
    },
    {
     "name": "stderr",
     "output_type": "stream",
     "text": [
      "[\u001b[34m\u001b[1mINFO\u001b[0m] Load map apollo_virutal_map from image: apolloauto/apollo:map_volume-apollo_virutal_map-latest\n",
      "[\u001b[34m\u001b[1mINFO\u001b[0m] Create volume apollo_map_volume-apollo_virutal_map_weidonghu from image: apolloauto/apollo:map_volume-apollo_virutal_map-latest\n",
      "[\u001b[34m\u001b[1mINFO\u001b[0m] Start pulling docker image apolloauto/apollo:map_volume-apollo_virutal_map-latest ...\n"
     ]
    },
    {
     "name": "stdout",
     "output_type": "stream",
     "text": [
      "traffic_light-quadrate_caffe_model-x86_64-latest: Pulling from apolloauto/apollo\n",
      "Digest: sha256:b1cdfbb8780b771de05723991e09aa9b2eef760a4321338b386759174f4ca9c5\n",
      "Status: Image is up to date for apolloauto/apollo:traffic_light-quadrate_caffe_model-x86_64-latest\n",
      "docker.io/apolloauto/apollo:traffic_light-quadrate_caffe_model-x86_64-latest\n"
     ]
    },
    {
     "name": "stderr",
     "output_type": "stream",
     "text": [
      "[\u001b[34m\u001b[1mINFO\u001b[0m] Create volume apollo_tl_recognition_volume_weidonghu from image: apolloauto/apollo:traffic_light-recognition_caffe_model-x86_64-latest\n",
      "[\u001b[34m\u001b[1mINFO\u001b[0m] Start pulling docker image apolloauto/apollo:traffic_light-recognition_caffe_model-x86_64-latest ...\n"
     ]
    },
    {
     "name": "stdout",
     "output_type": "stream",
     "text": [
      "map_volume-apollo_virutal_map-latest: Pulling from apolloauto/apollo\n",
      "Digest: sha256:f478d6f7791defd3e4cba20a6163a16646c7174e7fa1161404783c5866dd73ab\n",
      "Status: Image is up to date for apolloauto/apollo:map_volume-apollo_virutal_map-latest\n",
      "docker.io/apolloauto/apollo:map_volume-apollo_virutal_map-latest\n"
     ]
    },
    {
     "name": "stderr",
     "output_type": "stream",
     "text": [
      "docker: Error response from daemon: failed to create task for container: failed to create shim task: OCI runtime create failed: runc create failed: unable to start container process: exec: \"true\": executable file not found in $PATH: unknown.\n",
      "[\u001b[34m\u001b[1mINFO\u001b[0m] Mount other volumes ...\n",
      "[\u001b[34m\u001b[1mINFO\u001b[0m] Create volume apollo_audio_volume_weidonghu from image: apolloauto/apollo:data_volume-audio_model-x86_64-latest\n",
      "[\u001b[34m\u001b[1mINFO\u001b[0m] Start pulling docker image apolloauto/apollo:data_volume-audio_model-x86_64-latest ...\n"
     ]
    },
    {
     "name": "stdout",
     "output_type": "stream",
     "text": [
      "traffic_light-recognition_caffe_model-x86_64-latest: Pulling from apolloauto/apollo\n",
      "Digest: sha256:7779dd86ed9a9cf1050ab433904013653211c2ab7889245c9ac8494923af19e9\n",
      "Status: Image is up to date for apolloauto/apollo:traffic_light-recognition_caffe_model-x86_64-latest\n",
      "docker.io/apolloauto/apollo:traffic_light-recognition_caffe_model-x86_64-latest\n",
      "data_volume-audio_model-x86_64-latest: Pulling from apolloauto/apollo\n",
      "Digest: sha256:1491b6de2b71bd6bc6326bf70a945da69360e490724df78849f6d70ff4d00f61\n",
      "Status: Image is up to date for apolloauto/apollo:data_volume-audio_model-x86_64-latest\n",
      "docker.io/apolloauto/apollo:data_volume-audio_model-x86_64-latest\n"
     ]
    },
    {
     "name": "stderr",
     "output_type": "stream",
     "text": [
      "[\u001b[34m\u001b[1mINFO\u001b[0m] Create volume yolo_obstacle_volume_weidonghu from image: apolloauto/apollo:yolo_obstacle_model-x86_64-latest\n",
      "[\u001b[34m\u001b[1mINFO\u001b[0m] Start pulling docker image apolloauto/apollo:yolo_obstacle_model-x86_64-latest ...\n",
      "[\u001b[34m\u001b[1mINFO\u001b[0m] Create volume apollo_tl_detection_volume_weidonghu from image: apolloauto/apollo:traffic_light-detection_caffe_model-x86_64-latest\n",
      "[\u001b[34m\u001b[1mINFO\u001b[0m] Start pulling docker image apolloauto/apollo:traffic_light-detection_caffe_model-x86_64-latest ...\n"
     ]
    },
    {
     "name": "stdout",
     "output_type": "stream",
     "text": [
      "yolo_obstacle_model-x86_64-latest: Pulling from apolloauto/apollo\n",
      "Digest: sha256:5800e9d217413bd36c22b475813fb9d3a36778629cb040fa36fac0d6a224bf3a\n",
      "Status: Image is up to date for apolloauto/apollo:yolo_obstacle_model-x86_64-latest\n",
      "docker.io/apolloauto/apollo:yolo_obstacle_model-x86_64-latest\n"
     ]
    },
    {
     "name": "stderr",
     "output_type": "stream",
     "text": [
      "[\u001b[34m\u001b[1mINFO\u001b[0m] Create volume cnnseg_volume_weidonghu from image: apolloauto/apollo:cnnseg_caffe_model-x86_64-latest\n",
      "[\u001b[34m\u001b[1mINFO\u001b[0m] Start pulling docker image apolloauto/apollo:cnnseg_caffe_model-x86_64-latest ...\n"
     ]
    },
    {
     "name": "stdout",
     "output_type": "stream",
     "text": [
      "traffic_light-detection_caffe_model-x86_64-latest: Pulling from apolloauto/apollo\n",
      "Digest: sha256:405b4ada33d7de94d62325b28c8dee55e277769ae1d2be21b8f94dcd66ec3ca1\n",
      "Status: Image is up to date for apolloauto/apollo:traffic_light-detection_caffe_model-x86_64-latest\n",
      "docker.io/apolloauto/apollo:traffic_light-detection_caffe_model-x86_64-latest\n"
     ]
    },
    {
     "name": "stderr",
     "output_type": "stream",
     "text": [
      "[\u001b[34m\u001b[1mINFO\u001b[0m] Create volume apollo_tl_horizontal_volume_weidonghu from image: apolloauto/apollo:traffic_light-horizontal_caffe_model-x86_64-latest\n",
      "[\u001b[34m\u001b[1mINFO\u001b[0m] Start pulling docker image apolloauto/apollo:traffic_light-horizontal_caffe_model-x86_64-latest ...\n"
     ]
    },
    {
     "name": "stdout",
     "output_type": "stream",
     "text": [
      "cnnseg_caffe_model-x86_64-latest: Pulling from apolloauto/apollo\n",
      "Digest: sha256:8b1ae7dc3d34ce6be4e196b77091846a8c53a5cd82553679387f667b8f2023c9\n",
      "Status: Image is up to date for apolloauto/apollo:cnnseg_caffe_model-x86_64-latest\n",
      "docker.io/apolloauto/apollo:cnnseg_caffe_model-x86_64-latest\n"
     ]
    },
    {
     "name": "stderr",
     "output_type": "stream",
     "text": [
      "[\u001b[34m\u001b[1mINFO\u001b[0m] Create volume lane_detection_volume_weidonghu from image: apolloauto/apollo:lane_detection_model-x86_64-latest\n",
      "[\u001b[34m\u001b[1mINFO\u001b[0m] Start pulling docker image apolloauto/apollo:lane_detection_model-x86_64-latest ...\n"
     ]
    },
    {
     "name": "stdout",
     "output_type": "stream",
     "text": [
      "traffic_light-horizontal_caffe_model-x86_64-latest: Pulling from apolloauto/apollo\n",
      "Digest: sha256:17fc307e75731c5cedb8aa9300c830ba51eb3d7729f6b572530678fbffd4c531\n",
      "Status: Image is up to date for apolloauto/apollo:traffic_light-horizontal_caffe_model-x86_64-latest\n",
      "docker.io/apolloauto/apollo:traffic_light-horizontal_caffe_model-x86_64-latest\n",
      "lane_detection_model-x86_64-latest: Pulling from apolloauto/apollo\n",
      "Digest: sha256:d55346a42c93f53cab1bdfe91b7d0b090a388efaee1b7133eebab1543b6b4942\n",
      "Status: Image is up to date for apolloauto/apollo:lane_detection_model-x86_64-latest\n",
      "docker.io/apolloauto/apollo:lane_detection_model-x86_64-latest\n"
     ]
    },
    {
     "name": "stderr",
     "output_type": "stream",
     "text": [
      "[\u001b[34m\u001b[1mINFO\u001b[0m] Create volume apollo_tl_quadrate_volume_weidonghu from image: apolloauto/apollo:traffic_light-quadrate_caffe_model-x86_64-latest\n",
      "[\u001b[34m\u001b[1mINFO\u001b[0m] Start pulling docker image apolloauto/apollo:traffic_light-quadrate_caffe_model-x86_64-latest ...\n",
      "[\u001b[34m\u001b[1mINFO\u001b[0m] Create volume apollo_smoke_volume_weidonghu from image: apolloauto/apollo:smoke_volume-yolo_obstacle_detection_model-x86_64-latest\n",
      "[\u001b[34m\u001b[1mINFO\u001b[0m] Start pulling docker image apolloauto/apollo:smoke_volume-yolo_obstacle_detection_model-x86_64-latest ...\n"
     ]
    },
    {
     "name": "stdout",
     "output_type": "stream",
     "text": [
      "traffic_light-quadrate_caffe_model-x86_64-latest: Pulling from apolloauto/apollo\n",
      "Digest: sha256:b1cdfbb8780b771de05723991e09aa9b2eef760a4321338b386759174f4ca9c5\n",
      "Status: Image is up to date for apolloauto/apollo:traffic_light-quadrate_caffe_model-x86_64-latest\n",
      "docker.io/apolloauto/apollo:traffic_light-quadrate_caffe_model-x86_64-latest\n",
      "smoke_volume-yolo_obstacle_detection_model-x86_64-latest: Pulling from apolloauto/apollo\n",
      "Digest: sha256:848c0bc03e73898155a079576568d640ad6c6b2ec665d2ac2f1c46838f5c3fc9\n",
      "Status: Image is up to date for apolloauto/apollo:smoke_volume-yolo_obstacle_detection_model-x86_64-latest\n",
      "docker.io/apolloauto/apollo:smoke_volume-yolo_obstacle_detection_model-x86_64-latest\n"
     ]
    },
    {
     "name": "stderr",
     "output_type": "stream",
     "text": [
      "[\u001b[34m\u001b[1mINFO\u001b[0m] Create volume apollo_tl_recognition_volume_weidonghu from image: apolloauto/apollo:traffic_light-recognition_caffe_model-x86_64-latest\n",
      "[\u001b[34m\u001b[1mINFO\u001b[0m] Start pulling docker image apolloauto/apollo:traffic_light-recognition_caffe_model-x86_64-latest ...\n",
      "[\u001b[34m\u001b[1mINFO\u001b[0m] Starting Docker container \"apollo_dev_weidonghu\" ...\n",
      "+ docker run --gpus all -itd --privileged --name apollo_dev_weidonghu -e DISPLAY=:1 -e DOCKER_USER=weidonghu -e USER=weidonghu -e DOCKER_USER_ID=1000 -e DOCKER_GRP=weidonghu -e DOCKER_GRP_ID=1000 -e DOCKER_IMG=apolloauto/apollo:dev-x86_64-18.04-20221124_1708 -e USE_GPU_HOST=1 -e NVIDIA_VISIBLE_DEVICES=all -e NVIDIA_DRIVER_CAPABILITIES=compute,video,graphics,utility --volume apollo_map_volume-sunnyvale_big_loop_weidonghu:/apollo/modules/map/data/sunnyvale_big_loop --volume apollo_map_volume-sunnyvale_loop_weidonghu:/apollo/modules/map/data/sunnyvale_loop --volume apollo_map_volume-sunnyvale_with_two_offices_weidonghu:/apollo/modules/map/data/sunnyvale_with_two_offices --volume apollo_map_volume-san_mateo_weidonghu:/apollo/modules/map/data/san_mateo --volume apollo_map_volume-apollo_virutal_map_weidonghu:/apollo/modules/map/data/apollo_virutal_map --volume apollo_audio_volume_weidonghu:/apollo/modules/audio/data/ --volume apollo_tl_detection_volume_weidonghu:/apollo/modules/perception/production/data/perception/camera/models/traffic_light_detection/tl_detection_caffe --volume apollo_tl_horizontal_volume_weidonghu:/apollo/modules/perception/production/data/perception/camera/models/traffic_light_recognition/horizontal_caffe --volume apollo_tl_quadrate_volume_weidonghu:/apollo/modules/perception/production/data/perception/camera/models/traffic_light_recognition/quadrate_caffe --volume apollo_tl_recognition_volume_weidonghu:/apollo/modules/perception/production/data/perception/camera/models/traffic_light_recognition/vertical_caffe --volume yolo_obstacle_volume_weidonghu:/apollo/modules/perception/production/data/perception/camera/models/yolo_obstacle_detector/3d-r4-half_caffe --volume cnnseg_volume_weidonghu:/apollo/modules/perception/production/data/perception/lidar/models/cnnseg/cnnseg64_caffe --volume lane_detection_volume_weidonghu:/apollo/modules/perception/production/data/perception/camera/models/lane_detector/darkSCNN_caffe --volume apollo_smoke_volume_weidonghu:/apollo/modules/perception/production/data/perception/camera/models/yolo_obstacle_detector/smoke_libtorch_model -v /home/weidonghu/.apollo:/home/weidonghu/.apollo -v /home/weidonghu/Tools/apollo:/apollo -v /dev:/dev -v /media:/media -v /tmp/.X11-unix:/tmp/.X11-unix:rw -v /etc/localtime:/etc/localtime:ro -v /usr/src:/usr/src -v /lib/modules:/lib/modules --net host -w /apollo --add-host in-dev-docker:127.0.0.1 --add-host weidonghu-desktop:127.0.0.1 --hostname in-dev-docker --shm-size 2G --pid=host -v /dev/null:/dev/raw1394 apolloauto/apollo:dev-x86_64-18.04-20221124_1708 /bin/bash\n",
      "docker: Error response from daemon: Conflict. The container name \"/apollo_dev_weidonghu\" is already in use by container \"039699987e5c859fdc99b76b5bb482c6e0619dd085eb6ceef92ca4a5d32f9a76\". You have to remove (or rename) that container to be able to reuse that name.\n",
      "See 'docker run --help'.\n",
      "+ '[' 125 -ne 0 ']'\n",
      "+ error 'Failed to start docker container \"apollo_dev_weidonghu\" based on image: apolloauto/apollo:dev-x86_64-18.04-20221124_1708'\n",
      "+ echo -e '[\\033[0;31mERROR\\033[0m] Failed to start docker container \"apollo_dev_weidonghu\" based on image: apolloauto/apollo:dev-x86_64-18.04-20221124_1708'\n",
      "[\u001b[0;31mERROR\u001b[0m] Failed to start docker container \"apollo_dev_weidonghu\" based on image: apolloauto/apollo:dev-x86_64-18.04-20221124_1708\n",
      "+ exit 1\n"
     ]
    },
    {
     "name": "stdout",
     "output_type": "stream",
     "text": [
      "traffic_light-recognition_caffe_model-x86_64-latest: Pulling from apolloauto/apollo\n",
      "Digest: sha256:7779dd86ed9a9cf1050ab433904013653211c2ab7889245c9ac8494923af19e9\n",
      "Status: Image is up to date for apolloauto/apollo:traffic_light-recognition_caffe_model-x86_64-latest\n",
      "docker.io/apolloauto/apollo:traffic_light-recognition_caffe_model-x86_64-latest\n"
     ]
    },
    {
     "name": "stderr",
     "output_type": "stream",
     "text": [
      "[\u001b[34m\u001b[1mINFO\u001b[0m] Create volume yolo_obstacle_volume_weidonghu from image: apolloauto/apollo:yolo_obstacle_model-x86_64-latest\n",
      "[\u001b[34m\u001b[1mINFO\u001b[0m] Start pulling docker image apolloauto/apollo:yolo_obstacle_model-x86_64-latest ...\n"
     ]
    },
    {
     "name": "stdout",
     "output_type": "stream",
     "text": [
      "yolo_obstacle_model-x86_64-latest: Pulling from apolloauto/apollo\n",
      "Digest: sha256:5800e9d217413bd36c22b475813fb9d3a36778629cb040fa36fac0d6a224bf3a\n",
      "Status: Image is up to date for apolloauto/apollo:yolo_obstacle_model-x86_64-latest\n",
      "docker.io/apolloauto/apollo:yolo_obstacle_model-x86_64-latest\n"
     ]
    },
    {
     "name": "stderr",
     "output_type": "stream",
     "text": [
      "[\u001b[34m\u001b[1mINFO\u001b[0m] Create volume cnnseg_volume_weidonghu from image: apolloauto/apollo:cnnseg_caffe_model-x86_64-latest\n",
      "[\u001b[34m\u001b[1mINFO\u001b[0m] Start pulling docker image apolloauto/apollo:cnnseg_caffe_model-x86_64-latest ...\n"
     ]
    },
    {
     "name": "stdout",
     "output_type": "stream",
     "text": [
      "cnnseg_caffe_model-x86_64-latest: Pulling from apolloauto/apollo\n",
      "Digest: sha256:8b1ae7dc3d34ce6be4e196b77091846a8c53a5cd82553679387f667b8f2023c9\n",
      "Status: Image is up to date for apolloauto/apollo:cnnseg_caffe_model-x86_64-latest\n",
      "docker.io/apolloauto/apollo:cnnseg_caffe_model-x86_64-latest\n"
     ]
    },
    {
     "name": "stderr",
     "output_type": "stream",
     "text": [
      "[\u001b[34m\u001b[1mINFO\u001b[0m] Create volume lane_detection_volume_weidonghu from image: apolloauto/apollo:lane_detection_model-x86_64-latest\n",
      "[\u001b[34m\u001b[1mINFO\u001b[0m] Start pulling docker image apolloauto/apollo:lane_detection_model-x86_64-latest ...\n"
     ]
    },
    {
     "name": "stdout",
     "output_type": "stream",
     "text": [
      "lane_detection_model-x86_64-latest: Pulling from apolloauto/apollo\n",
      "Digest: sha256:d55346a42c93f53cab1bdfe91b7d0b090a388efaee1b7133eebab1543b6b4942\n",
      "Status: Image is up to date for apolloauto/apollo:lane_detection_model-x86_64-latest\n",
      "docker.io/apolloauto/apollo:lane_detection_model-x86_64-latest\n"
     ]
    },
    {
     "name": "stderr",
     "output_type": "stream",
     "text": [
      "[\u001b[34m\u001b[1mINFO\u001b[0m] Create volume apollo_smoke_volume_weidonghu from image: apolloauto/apollo:smoke_volume-yolo_obstacle_detection_model-x86_64-latest\n",
      "[\u001b[34m\u001b[1mINFO\u001b[0m] Start pulling docker image apolloauto/apollo:smoke_volume-yolo_obstacle_detection_model-x86_64-latest ...\n"
     ]
    },
    {
     "name": "stdout",
     "output_type": "stream",
     "text": [
      "smoke_volume-yolo_obstacle_detection_model-x86_64-latest: Pulling from apolloauto/apollo\n",
      "Digest: sha256:848c0bc03e73898155a079576568d640ad6c6b2ec665d2ac2f1c46838f5c3fc9\n",
      "Status: Image is up to date for apolloauto/apollo:smoke_volume-yolo_obstacle_detection_model-x86_64-latest\n",
      "docker.io/apolloauto/apollo:smoke_volume-yolo_obstacle_detection_model-x86_64-latest\n"
     ]
    },
    {
     "name": "stderr",
     "output_type": "stream",
     "text": [
      "[\u001b[34m\u001b[1mINFO\u001b[0m] Starting Docker container \"apollo_dev_weidonghu\" ...\n",
      "+ docker run --gpus all -itd --privileged --name apollo_dev_weidonghu -e DISPLAY=:1 -e DOCKER_USER=weidonghu -e USER=weidonghu -e DOCKER_USER_ID=1000 -e DOCKER_GRP=weidonghu -e DOCKER_GRP_ID=1000 -e DOCKER_IMG=apolloauto/apollo:dev-x86_64-18.04-20221124_1708 -e USE_GPU_HOST=1 -e NVIDIA_VISIBLE_DEVICES=all -e NVIDIA_DRIVER_CAPABILITIES=compute,video,graphics,utility --volume apollo_map_volume-sunnyvale_big_loop_weidonghu:/apollo/modules/map/data/sunnyvale_big_loop --volume apollo_map_volume-sunnyvale_loop_weidonghu:/apollo/modules/map/data/sunnyvale_loop --volume apollo_map_volume-sunnyvale_with_two_offices_weidonghu:/apollo/modules/map/data/sunnyvale_with_two_offices --volume apollo_map_volume-san_mateo_weidonghu:/apollo/modules/map/data/san_mateo --volume apollo_map_volume-apollo_virutal_map_weidonghu:/apollo/modules/map/data/apollo_virutal_map --volume apollo_audio_volume_weidonghu:/apollo/modules/audio/data/ --volume apollo_tl_detection_volume_weidonghu:/apollo/modules/perception/production/data/perception/camera/models/traffic_light_detection/tl_detection_caffe --volume apollo_tl_horizontal_volume_weidonghu:/apollo/modules/perception/production/data/perception/camera/models/traffic_light_recognition/horizontal_caffe --volume apollo_tl_quadrate_volume_weidonghu:/apollo/modules/perception/production/data/perception/camera/models/traffic_light_recognition/quadrate_caffe --volume apollo_tl_recognition_volume_weidonghu:/apollo/modules/perception/production/data/perception/camera/models/traffic_light_recognition/vertical_caffe --volume yolo_obstacle_volume_weidonghu:/apollo/modules/perception/production/data/perception/camera/models/yolo_obstacle_detector/3d-r4-half_caffe --volume cnnseg_volume_weidonghu:/apollo/modules/perception/production/data/perception/lidar/models/cnnseg/cnnseg64_caffe --volume lane_detection_volume_weidonghu:/apollo/modules/perception/production/data/perception/camera/models/lane_detector/darkSCNN_caffe --volume apollo_smoke_volume_weidonghu:/apollo/modules/perception/production/data/perception/camera/models/yolo_obstacle_detector/smoke_libtorch_model -v /home/weidonghu/.apollo:/home/weidonghu/.apollo -v /home/weidonghu/Tools/apollo:/apollo -v /dev:/dev -v /media:/media -v /tmp/.X11-unix:/tmp/.X11-unix:rw -v /etc/localtime:/etc/localtime:ro -v /usr/src:/usr/src -v /lib/modules:/lib/modules --net host -w /apollo --add-host in-dev-docker:127.0.0.1 --add-host weidonghu-desktop:127.0.0.1 --hostname in-dev-docker --shm-size 2G --pid=host -v /dev/null:/dev/raw1394 apolloauto/apollo:dev-x86_64-18.04-20221124_1708 /bin/bash\n",
      "docker: Error response from daemon: Conflict. The container name \"/apollo_dev_weidonghu\" is already in use by container \"039699987e5c859fdc99b76b5bb482c6e0619dd085eb6ceef92ca4a5d32f9a76\". You have to remove (or rename) that container to be able to reuse that name.\n",
      "See 'docker run --help'.\n",
      "+ '[' 125 -ne 0 ']'\n",
      "+ error 'Failed to start docker container \"apollo_dev_weidonghu\" based on image: apolloauto/apollo:dev-x86_64-18.04-20221124_1708'\n",
      "+ echo -e '[\\033[0;31mERROR\\033[0m] Failed to start docker container \"apollo_dev_weidonghu\" based on image: apolloauto/apollo:dev-x86_64-18.04-20221124_1708'\n",
      "[\u001b[0;31mERROR\u001b[0m] Failed to start docker container \"apollo_dev_weidonghu\" based on image: apolloauto/apollo:dev-x86_64-18.04-20221124_1708\n",
      "+ exit 1\n"
     ]
    }
   ],
   "source": [
    "import time\n",
    "import os\n",
    "import subprocess\n",
    "\n",
    "\n",
    "# Expand the ~ character to the home directory\n",
    "home_directory = os.path.expanduser('~')\n",
    "command_list = [\n",
    "    {'command': ['./CarlaUE4.sh'], 'cwd': os.path.join(home_directory, 'Tools/CARLA_0.9.13/'), 'close_fds':True},\n",
    "    {'command': [\"./docker/scripts/dev_start.sh\"], 'cwd': os.path.join(home_directory, \"Tools/apollo/\")},\n",
    "    # {'command': ['docker','exec','-u','weidonghu','apollo_dev_weidonghu','tail','/home/weidonghu/.bashrc'], 'cwd': home_directory},\n",
    "    # {'command': \"./docker/scripts/dev_into.sh\", 'cwd': os.path.join(home_directory, \"Tools/apollo/\")},\n",
    "    {'command': ['git','checkout','--','modules/common/data/global_flagfile.txt'], 'cwd': os.path.join(home_directory, \"Tools/apollo/\")},\n",
    "    {'command': ['docker','exec','-u','weidonghu','apollo_dev_weidonghu','./scripts/bootstrap.sh'], 'cwd': home_directory},\n",
    "    {'command': ['docker','exec','-w','/apollo/modules/carla_bridge/','-u','weidonghu','apollo_dev_weidonghu', 'sh', '-c','source /home/weidonghu/.bashrc && tail /home/weidonghu/.bashrc && echo $PYTHONPATH && python main.py'], 'cwd': home_directory, 'close_fds':True},\n",
    "    {'command': ['python3','./set_destination.py'], 'cwd': os.path.join(home_directory, \"Tools/Scenic/scripts/\")},\n",
    "    # {'command': ['tmux', 'kill-session', '-t', 'carla_session'], 'cwd': home_directory}\n",
    "]\n",
    "\n",
    "subprocess.Popen(['./CarlaUE4.sh'], cwd=os.path.join(home_directory, 'Tools/CARLA_0.9.13/'), close_fds=True)\n",
    "\n",
    "subprocess.Popen([\"./docker/scripts/dev_start.sh\"], cwd=os.path.join(home_directory, \"Tools/apollo/\"))\n"
   ]
  },
  {
   "cell_type": "code",
   "execution_count": 1,
   "metadata": {},
   "outputs": [
    {
     "name": "stderr",
     "output_type": "stream",
     "text": [
      "no server running on /tmp/tmux-1000/default\n"
     ]
    },
    {
     "data": {
      "text/plain": [
       "CompletedProcess(args=['tmux', 'kill-session', '-t', 'carla_session'], returncode=1)"
      ]
     },
     "execution_count": 1,
     "metadata": {},
     "output_type": "execute_result"
    }
   ],
   "source": [
    "import time\n",
    "import os\n",
    "import subprocess\n",
    "\n",
    "\n",
    "# Expand the ~ character to the home directory\n",
    "home_directory = os.path.expanduser('~')\n",
    "subprocess.run(['tmux', 'kill-session', '-t', 'carla_session'])\n",
    "# subprocess.run(['tmux', 'kill-session', '-t', 'bridge_session'])"
   ]
  },
  {
   "cell_type": "code",
   "execution_count": 4,
   "metadata": {},
   "outputs": [
    {
     "ename": "KeyboardInterrupt",
     "evalue": "",
     "output_type": "error",
     "traceback": [
      "\u001b[0;31m---------------------------------------------------------------------------\u001b[0m",
      "\u001b[0;31mKeyboardInterrupt\u001b[0m                         Traceback (most recent call last)",
      "Cell \u001b[0;32mIn[4], line 18\u001b[0m\n\u001b[1;32m     16\u001b[0m \u001b[38;5;28;01mexcept\u001b[39;00m \u001b[38;5;167;01mConnectionRefusedError\u001b[39;00m \u001b[38;5;28;01mas\u001b[39;00m e:\n\u001b[1;32m     17\u001b[0m     \u001b[38;5;28mprint\u001b[39m(\u001b[38;5;124m\"\u001b[39m\u001b[38;5;124mconnection refused.\u001b[39m\u001b[38;5;124m\"\u001b[39m)\n\u001b[0;32m---> 18\u001b[0m data \u001b[38;5;241m=\u001b[39m json\u001b[38;5;241m.\u001b[39mloads(\u001b[43mws\u001b[49m\u001b[38;5;241;43m.\u001b[39;49m\u001b[43mrecv\u001b[49m\u001b[43m(\u001b[49m\u001b[43m)\u001b[49m)\n\u001b[1;32m     19\u001b[0m \u001b[38;5;28;01mif\u001b[39;00m data \u001b[38;5;241m!=\u001b[39m status:\n\u001b[1;32m     20\u001b[0m     status \u001b[38;5;241m=\u001b[39m data\n",
      "File \u001b[0;32m/usr/lib/python3/dist-packages/websocket/_core.py:302\u001b[0m, in \u001b[0;36mWebSocket.recv\u001b[0;34m(self)\u001b[0m\n\u001b[1;32m    296\u001b[0m \u001b[38;5;250m\u001b[39m\u001b[38;5;124;03m\"\"\"\u001b[39;00m\n\u001b[1;32m    297\u001b[0m \u001b[38;5;124;03mReceive string data(byte array) from the server.\u001b[39;00m\n\u001b[1;32m    298\u001b[0m \n\u001b[1;32m    299\u001b[0m \u001b[38;5;124;03mreturn value: string(byte array) value.\u001b[39;00m\n\u001b[1;32m    300\u001b[0m \u001b[38;5;124;03m\"\"\"\u001b[39;00m\n\u001b[1;32m    301\u001b[0m \u001b[38;5;28;01mwith\u001b[39;00m \u001b[38;5;28mself\u001b[39m\u001b[38;5;241m.\u001b[39mreadlock:\n\u001b[0;32m--> 302\u001b[0m     opcode, data \u001b[38;5;241m=\u001b[39m \u001b[38;5;28;43mself\u001b[39;49m\u001b[38;5;241;43m.\u001b[39;49m\u001b[43mrecv_data\u001b[49m\u001b[43m(\u001b[49m\u001b[43m)\u001b[49m\n\u001b[1;32m    303\u001b[0m \u001b[38;5;28;01mif\u001b[39;00m six\u001b[38;5;241m.\u001b[39mPY3 \u001b[38;5;129;01mand\u001b[39;00m opcode \u001b[38;5;241m==\u001b[39m ABNF\u001b[38;5;241m.\u001b[39mOPCODE_TEXT:\n\u001b[1;32m    304\u001b[0m     \u001b[38;5;28;01mreturn\u001b[39;00m data\u001b[38;5;241m.\u001b[39mdecode(\u001b[38;5;124m\"\u001b[39m\u001b[38;5;124mutf-8\u001b[39m\u001b[38;5;124m\"\u001b[39m)\n",
      "File \u001b[0;32m/usr/lib/python3/dist-packages/websocket/_core.py:319\u001b[0m, in \u001b[0;36mWebSocket.recv_data\u001b[0;34m(self, control_frame)\u001b[0m\n\u001b[1;32m    310\u001b[0m \u001b[38;5;28;01mdef\u001b[39;00m \u001b[38;5;21mrecv_data\u001b[39m(\u001b[38;5;28mself\u001b[39m, control_frame\u001b[38;5;241m=\u001b[39m\u001b[38;5;28;01mFalse\u001b[39;00m):\n\u001b[1;32m    311\u001b[0m \u001b[38;5;250m    \u001b[39m\u001b[38;5;124;03m\"\"\"\u001b[39;00m\n\u001b[1;32m    312\u001b[0m \u001b[38;5;124;03m    Receive data with operation code.\u001b[39;00m\n\u001b[1;32m    313\u001b[0m \n\u001b[0;32m   (...)\u001b[0m\n\u001b[1;32m    317\u001b[0m \u001b[38;5;124;03m    return  value: tuple of operation code and string(byte array) value.\u001b[39;00m\n\u001b[1;32m    318\u001b[0m \u001b[38;5;124;03m    \"\"\"\u001b[39;00m\n\u001b[0;32m--> 319\u001b[0m     opcode, frame \u001b[38;5;241m=\u001b[39m \u001b[38;5;28;43mself\u001b[39;49m\u001b[38;5;241;43m.\u001b[39;49m\u001b[43mrecv_data_frame\u001b[49m\u001b[43m(\u001b[49m\u001b[43mcontrol_frame\u001b[49m\u001b[43m)\u001b[49m\n\u001b[1;32m    320\u001b[0m     \u001b[38;5;28;01mreturn\u001b[39;00m opcode, frame\u001b[38;5;241m.\u001b[39mdata\n",
      "File \u001b[0;32m/usr/lib/python3/dist-packages/websocket/_core.py:332\u001b[0m, in \u001b[0;36mWebSocket.recv_data_frame\u001b[0;34m(self, control_frame)\u001b[0m\n\u001b[1;32m    323\u001b[0m \u001b[38;5;250m\u001b[39m\u001b[38;5;124;03m\"\"\"\u001b[39;00m\n\u001b[1;32m    324\u001b[0m \u001b[38;5;124;03mReceive data with operation code.\u001b[39;00m\n\u001b[1;32m    325\u001b[0m \n\u001b[0;32m   (...)\u001b[0m\n\u001b[1;32m    329\u001b[0m \u001b[38;5;124;03mreturn  value: tuple of operation code and string(byte array) value.\u001b[39;00m\n\u001b[1;32m    330\u001b[0m \u001b[38;5;124;03m\"\"\"\u001b[39;00m\n\u001b[1;32m    331\u001b[0m \u001b[38;5;28;01mwhile\u001b[39;00m \u001b[38;5;28;01mTrue\u001b[39;00m:\n\u001b[0;32m--> 332\u001b[0m     frame \u001b[38;5;241m=\u001b[39m \u001b[38;5;28;43mself\u001b[39;49m\u001b[38;5;241;43m.\u001b[39;49m\u001b[43mrecv_frame\u001b[49m\u001b[43m(\u001b[49m\u001b[43m)\u001b[49m\n\u001b[1;32m    333\u001b[0m     \u001b[38;5;28;01mif\u001b[39;00m \u001b[38;5;129;01mnot\u001b[39;00m frame:\n\u001b[1;32m    334\u001b[0m         \u001b[38;5;66;03m# handle error:\u001b[39;00m\n\u001b[1;32m    335\u001b[0m         \u001b[38;5;66;03m# 'NoneType' object has no attribute 'opcode'\u001b[39;00m\n\u001b[1;32m    336\u001b[0m         \u001b[38;5;28;01mraise\u001b[39;00m WebSocketProtocolException(\n\u001b[1;32m    337\u001b[0m             \u001b[38;5;124m\"\u001b[39m\u001b[38;5;124mNot a valid frame \u001b[39m\u001b[38;5;132;01m%s\u001b[39;00m\u001b[38;5;124m\"\u001b[39m \u001b[38;5;241m%\u001b[39m frame)\n",
      "File \u001b[0;32m/usr/lib/python3/dist-packages/websocket/_core.py:366\u001b[0m, in \u001b[0;36mWebSocket.recv_frame\u001b[0;34m(self)\u001b[0m\n\u001b[1;32m    360\u001b[0m \u001b[38;5;28;01mdef\u001b[39;00m \u001b[38;5;21mrecv_frame\u001b[39m(\u001b[38;5;28mself\u001b[39m):\n\u001b[1;32m    361\u001b[0m \u001b[38;5;250m    \u001b[39m\u001b[38;5;124;03m\"\"\"\u001b[39;00m\n\u001b[1;32m    362\u001b[0m \u001b[38;5;124;03m    receive data as frame from server.\u001b[39;00m\n\u001b[1;32m    363\u001b[0m \n\u001b[1;32m    364\u001b[0m \u001b[38;5;124;03m    return value: ABNF frame object.\u001b[39;00m\n\u001b[1;32m    365\u001b[0m \u001b[38;5;124;03m    \"\"\"\u001b[39;00m\n\u001b[0;32m--> 366\u001b[0m     \u001b[38;5;28;01mreturn\u001b[39;00m \u001b[38;5;28;43mself\u001b[39;49m\u001b[38;5;241;43m.\u001b[39;49m\u001b[43mframe_buffer\u001b[49m\u001b[38;5;241;43m.\u001b[39;49m\u001b[43mrecv_frame\u001b[49m\u001b[43m(\u001b[49m\u001b[43m)\u001b[49m\n",
      "File \u001b[0;32m/usr/lib/python3/dist-packages/websocket/_abnf.py:361\u001b[0m, in \u001b[0;36mframe_buffer.recv_frame\u001b[0;34m(self)\u001b[0m\n\u001b[1;32m    358\u001b[0m \u001b[38;5;28;01mwith\u001b[39;00m \u001b[38;5;28mself\u001b[39m\u001b[38;5;241m.\u001b[39mlock:\n\u001b[1;32m    359\u001b[0m     \u001b[38;5;66;03m# Header\u001b[39;00m\n\u001b[1;32m    360\u001b[0m     \u001b[38;5;28;01mif\u001b[39;00m \u001b[38;5;28mself\u001b[39m\u001b[38;5;241m.\u001b[39mhas_received_header():\n\u001b[0;32m--> 361\u001b[0m         \u001b[38;5;28;43mself\u001b[39;49m\u001b[38;5;241;43m.\u001b[39;49m\u001b[43mrecv_header\u001b[49m\u001b[43m(\u001b[49m\u001b[43m)\u001b[49m\n\u001b[1;32m    362\u001b[0m     (fin, rsv1, rsv2, rsv3, opcode, has_mask, _) \u001b[38;5;241m=\u001b[39m \u001b[38;5;28mself\u001b[39m\u001b[38;5;241m.\u001b[39mheader\n\u001b[1;32m    364\u001b[0m     \u001b[38;5;66;03m# Frame length\u001b[39;00m\n",
      "File \u001b[0;32m/usr/lib/python3/dist-packages/websocket/_abnf.py:309\u001b[0m, in \u001b[0;36mframe_buffer.recv_header\u001b[0;34m(self)\u001b[0m\n\u001b[1;32m    308\u001b[0m \u001b[38;5;28;01mdef\u001b[39;00m \u001b[38;5;21mrecv_header\u001b[39m(\u001b[38;5;28mself\u001b[39m):\n\u001b[0;32m--> 309\u001b[0m     header \u001b[38;5;241m=\u001b[39m \u001b[38;5;28;43mself\u001b[39;49m\u001b[38;5;241;43m.\u001b[39;49m\u001b[43mrecv_strict\u001b[49m\u001b[43m(\u001b[49m\u001b[38;5;241;43m2\u001b[39;49m\u001b[43m)\u001b[49m\n\u001b[1;32m    310\u001b[0m     b1 \u001b[38;5;241m=\u001b[39m header[\u001b[38;5;241m0\u001b[39m]\n\u001b[1;32m    312\u001b[0m     \u001b[38;5;28;01mif\u001b[39;00m six\u001b[38;5;241m.\u001b[39mPY2:\n",
      "File \u001b[0;32m/usr/lib/python3/dist-packages/websocket/_abnf.py:396\u001b[0m, in \u001b[0;36mframe_buffer.recv_strict\u001b[0;34m(self, bufsize)\u001b[0m\n\u001b[1;32m    388\u001b[0m shortage \u001b[38;5;241m=\u001b[39m bufsize \u001b[38;5;241m-\u001b[39m \u001b[38;5;28msum\u001b[39m(\u001b[38;5;28mlen\u001b[39m(x) \u001b[38;5;28;01mfor\u001b[39;00m x \u001b[38;5;129;01min\u001b[39;00m \u001b[38;5;28mself\u001b[39m\u001b[38;5;241m.\u001b[39mrecv_buffer)\n\u001b[1;32m    389\u001b[0m \u001b[38;5;28;01mwhile\u001b[39;00m shortage \u001b[38;5;241m>\u001b[39m \u001b[38;5;241m0\u001b[39m:\n\u001b[1;32m    390\u001b[0m     \u001b[38;5;66;03m# Limit buffer size that we pass to socket.recv() to avoid\u001b[39;00m\n\u001b[1;32m    391\u001b[0m     \u001b[38;5;66;03m# fragmenting the heap -- the number of bytes recv() actually\u001b[39;00m\n\u001b[0;32m   (...)\u001b[0m\n\u001b[1;32m    394\u001b[0m     \u001b[38;5;66;03m# buffers allocated and then shrunk, which results in\u001b[39;00m\n\u001b[1;32m    395\u001b[0m     \u001b[38;5;66;03m# fragmentation.\u001b[39;00m\n\u001b[0;32m--> 396\u001b[0m     bytes_ \u001b[38;5;241m=\u001b[39m \u001b[38;5;28;43mself\u001b[39;49m\u001b[38;5;241;43m.\u001b[39;49m\u001b[43mrecv\u001b[49m\u001b[43m(\u001b[49m\u001b[38;5;28;43mmin\u001b[39;49m\u001b[43m(\u001b[49m\u001b[38;5;241;43m16384\u001b[39;49m\u001b[43m,\u001b[49m\u001b[43m \u001b[49m\u001b[43mshortage\u001b[49m\u001b[43m)\u001b[49m\u001b[43m)\u001b[49m\n\u001b[1;32m    397\u001b[0m     \u001b[38;5;28mself\u001b[39m\u001b[38;5;241m.\u001b[39mrecv_buffer\u001b[38;5;241m.\u001b[39mappend(bytes_)\n\u001b[1;32m    398\u001b[0m     shortage \u001b[38;5;241m-\u001b[39m\u001b[38;5;241m=\u001b[39m \u001b[38;5;28mlen\u001b[39m(bytes_)\n",
      "File \u001b[0;32m/usr/lib/python3/dist-packages/websocket/_core.py:441\u001b[0m, in \u001b[0;36mWebSocket._recv\u001b[0;34m(self, bufsize)\u001b[0m\n\u001b[1;32m    439\u001b[0m \u001b[38;5;28;01mdef\u001b[39;00m \u001b[38;5;21m_recv\u001b[39m(\u001b[38;5;28mself\u001b[39m, bufsize):\n\u001b[1;32m    440\u001b[0m     \u001b[38;5;28;01mtry\u001b[39;00m:\n\u001b[0;32m--> 441\u001b[0m         \u001b[38;5;28;01mreturn\u001b[39;00m \u001b[43mrecv\u001b[49m\u001b[43m(\u001b[49m\u001b[38;5;28;43mself\u001b[39;49m\u001b[38;5;241;43m.\u001b[39;49m\u001b[43msock\u001b[49m\u001b[43m,\u001b[49m\u001b[43m \u001b[49m\u001b[43mbufsize\u001b[49m\u001b[43m)\u001b[49m\n\u001b[1;32m    442\u001b[0m     \u001b[38;5;28;01mexcept\u001b[39;00m WebSocketConnectionClosedException:\n\u001b[1;32m    443\u001b[0m         \u001b[38;5;28;01mif\u001b[39;00m \u001b[38;5;28mself\u001b[39m\u001b[38;5;241m.\u001b[39msock:\n",
      "File \u001b[0;32m/usr/lib/python3/dist-packages/websocket/_socket.py:81\u001b[0m, in \u001b[0;36mrecv\u001b[0;34m(sock, bufsize)\u001b[0m\n\u001b[1;32m     78\u001b[0m     \u001b[38;5;28;01mraise\u001b[39;00m WebSocketConnectionClosedException(\u001b[38;5;124m\"\u001b[39m\u001b[38;5;124msocket is already closed.\u001b[39m\u001b[38;5;124m\"\u001b[39m)\n\u001b[1;32m     80\u001b[0m \u001b[38;5;28;01mtry\u001b[39;00m:\n\u001b[0;32m---> 81\u001b[0m     bytes_ \u001b[38;5;241m=\u001b[39m \u001b[43msock\u001b[49m\u001b[38;5;241;43m.\u001b[39;49m\u001b[43mrecv\u001b[49m\u001b[43m(\u001b[49m\u001b[43mbufsize\u001b[49m\u001b[43m)\u001b[49m\n\u001b[1;32m     82\u001b[0m \u001b[38;5;28;01mexcept\u001b[39;00m socket\u001b[38;5;241m.\u001b[39mtimeout \u001b[38;5;28;01mas\u001b[39;00m e:\n\u001b[1;32m     83\u001b[0m     message \u001b[38;5;241m=\u001b[39m extract_err_message(e)\n",
      "\u001b[0;31mKeyboardInterrupt\u001b[0m: "
     ]
    }
   ],
   "source": [
    "import time\n",
    "import json\n",
    "from pprint import pprint\n",
    "from websocket import create_connection\n",
    "\n",
    "ip = 'localhost'\n",
    "port = '8888'\n",
    "url = \"ws://\" + ip + \":\" + port + \"/websocket\"\n",
    "ws = create_connection(url)\n",
    "status = None\n",
    "\n",
    "while True:\n",
    "    try:\n",
    "        ws.close()\n",
    "        ws = create_connection(url)\n",
    "    except ConnectionRefusedError as e:\n",
    "        print(\"connection refused.\")\n",
    "    data = json.loads(ws.recv())\n",
    "    if data != status:\n",
    "        status = data\n",
    "        with open('status_info.json', 'a+') as f:\n",
    "            json.dump(data, f, indent=4)\n"
   ]
  }
 ],
 "metadata": {
  "kernelspec": {
   "display_name": "Python 3",
   "language": "python",
   "name": "python3"
  },
  "language_info": {
   "codemirror_mode": {
    "name": "ipython",
    "version": 3
   },
   "file_extension": ".py",
   "mimetype": "text/x-python",
   "name": "python",
   "nbconvert_exporter": "python",
   "pygments_lexer": "ipython3",
   "version": "3.8.10"
  }
 },
 "nbformat": 4,
 "nbformat_minor": 2
}
