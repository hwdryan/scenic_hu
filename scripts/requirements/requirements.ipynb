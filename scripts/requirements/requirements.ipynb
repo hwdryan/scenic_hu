{
 "cells": [
  {
   "cell_type": "code",
   "execution_count": 9,
   "metadata": {},
   "outputs": [],
   "source": [
    "import numpy as np\n",
    "from pprint import pprint\n",
    "\n",
    "data = np.genfromtxt('/home/weidong/Downloads/data_2024_18_04_11_45_08.csv', delimiter=',', skip_header=1)\n"
   ]
  },
  {
   "cell_type": "markdown",
   "metadata": {},
   "source": [
    "timestep,Id,role_name,Location_x,Location_y,Location_z,Rocation_pitch,Rocation_yaw,Rocation_roll,\n",
    "Angular_velocity_x,Angular_velocity_y,Angular_velocity_z,Velocity_x,Velocity_y,Velocity_z,\n",
    "Acceleration_x,Acceleration_y,Acceleration_z,Distance2Ego\n"
   ]
  },
  {
   "cell_type": "code",
   "execution_count": 14,
   "metadata": {},
   "outputs": [
    {
     "name": "stdout",
     "output_type": "stream",
     "text": [
      "array([ 11.12124634,  11.12124634,  11.12124634, ..., 111.27124783,\n",
      "       111.27124783, 111.27124783])\n"
     ]
    }
   ],
   "source": [
    "pprint(data[:,])  "
   ]
  }
 ],
 "metadata": {
  "kernelspec": {
   "display_name": "Python 3",
   "language": "python",
   "name": "python3"
  },
  "language_info": {
   "codemirror_mode": {
    "name": "ipython",
    "version": 3
   },
   "file_extension": ".py",
   "mimetype": "text/x-python",
   "name": "python",
   "nbconvert_exporter": "python",
   "pygments_lexer": "ipython3",
   "version": "3.8.10"
  }
 },
 "nbformat": 4,
 "nbformat_minor": 2
}
