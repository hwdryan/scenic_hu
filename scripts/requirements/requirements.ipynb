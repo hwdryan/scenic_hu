{
 "cells": [
  {
   "cell_type": "code",
   "execution_count": 98,
   "metadata": {},
   "outputs": [],
   "source": [
    "import numpy as np\n",
    "from pprint import pprint\n",
    "\n",
    "dtype = [\n",
    "    ('Timestep', float),\n",
    "    ('Id', int),\n",
    "    ('Role_name', 'U8'),  \n",
    "    ('Lane_id', int),  \n",
    "    ('Location_x', float),\n",
    "    ('Location_y', float),\n",
    "    ('Location_z', float),\n",
    "    ('Rotation_pitch', float),\n",
    "    ('Rotation_yaw', float),\n",
    "    ('Rotation_roll', float),\n",
    "    ('Angular_velocity_x', float),\n",
    "    ('Angular_velocity_y', float),\n",
    "    ('Angular_velocity_z', float),\n",
    "    ('Velocity_x', float),\n",
    "    ('Velocity_y', float),\n",
    "    ('Velocity_z', float),\n",
    "    ('Acceleration_x', float),\n",
    "    ('Acceleration_y', float),\n",
    "    ('Acceleration_z', float),\n",
    "    ('Distance2Ego', float)\n",
    "]\n",
    "\n",
    "data = np.genfromtxt('/home/weidong/Documents/data_2024_22_04_13_24_40.csv', dtype=dtype, delimiter=',', skip_header=1)\n",
    "data['Location_y'] = - data['Location_y']\n",
    "data['Timestep'] -= data['Timestep'][0] \n",
    "data['Timestep'] = np.round(data['Timestep'],2)\n",
    "ego_rows = data[data['Role_name'] == 'ego']\n",
    "target_rows = data[data['Role_name'] != 'ego']"
   ]
  },
  {
   "cell_type": "code",
   "execution_count": 99,
   "metadata": {},
   "outputs": [],
   "source": [
    "# Assert if Collision\n",
    "assert not np.any((target_rows['Distance2Ego']<=0))"
   ]
  },
  {
   "cell_type": "code",
   "execution_count": 100,
   "metadata": {},
   "outputs": [],
   "source": [
    "# Assert if exceed Acceleration\n",
    "acceleration_x = ego_rows['Acceleration_x']\n",
    "acceleration_y = ego_rows['Acceleration_y']\n",
    "acceleration_z = ego_rows['Acceleration_z']\n",
    "\n",
    "acc = np.sqrt(acceleration_x**2 + acceleration_y**2)\n",
    "assert np.max(acc) > 10"
   ]
  },
  {
   "cell_type": "code",
   "execution_count": null,
   "metadata": {},
   "outputs": [],
   "source": [
    "# Assert if distance < Value\n",
    "assert np.any((target_rows['Distance2Ego']< 1.5))"
   ]
  },
  {
   "cell_type": "code",
   "execution_count": null,
   "metadata": {},
   "outputs": [],
   "source": [
    "# Assert if AD overtake \n",
    "# x > 0 in front, y > 0 at left\n",
    "# assume same heading, same lane\n",
    "\n",
    "ego_c = ego_rows[['Location_x','Location_y','Rotation_yaw',]]\n",
    "target_c = target_rows[['Location_x','Location_y','Rotation_yaw']]\n",
    "\n",
    "\n",
    "import numpy as np\n",
    "import math\n",
    "\n",
    "def rotate_point(point, angle):\n",
    "    \"\"\"Rotate a point around the origin (0, 0) by a given angle in radians.\"\"\"\n",
    "    x, y = point\n",
    "    cos_angle = math.cos(angle)\n",
    "    sin_angle = math.sin(angle)\n",
    "    rotated_x = x * cos_angle - y * sin_angle\n",
    "    rotated_y = x * sin_angle + y * cos_angle\n",
    "    return rotated_x, rotated_y\n",
    "\n",
    "def transform_points(p1_array, p2_array):\n",
    "    \"\"\"Transform points in p2_array from world coordinates to local coordinates of p1_array.\"\"\"\n",
    "    transformed_points = []\n",
    "    for p1, p2 in zip(p1_array, p2_array):\n",
    "        # Translate p2 to the origin of p1\n",
    "        translated_x = p2[0] - p1[0]\n",
    "        translated_y = p2[1] - p1[1]\n",
    "\n",
    "        # Convert yaw angle from degrees to radians\n",
    "        yaw_radians = math.radians(p1[2])\n",
    "\n",
    "        # Rotate p2 around the origin of p1 by the yaw angle of p1\n",
    "        rotated_x, rotated_y = rotate_point((translated_x, translated_y), yaw_radians)\n",
    "\n",
    "        transformed_points.append((rotated_x, rotated_y))\n",
    "\n",
    "    return np.array(transformed_points)\n",
    "\n",
    "# Transform p2_array to the local coordinate system of p1_array\n",
    "transformed_points = transform_points(ego_c, target_c)\n",
    "\n",
    "assert np.all(transformed_points[:,0]>0)"
   ]
  },
  {
   "cell_type": "code",
   "execution_count": 126,
   "metadata": {},
   "outputs": [
    {
     "data": {
      "text/plain": [
       "(array([209, 210, 211, 212, 213, 214, 215, 216, 217, 218, 219, 220, 221,\n",
       "        222, 223, 224, 225, 226, 227, 228, 229, 230, 231, 232, 233, 234,\n",
       "        235, 236, 237, 238, 239, 240, 241, 242, 243, 244, 245, 246, 247,\n",
       "        248, 249, 250, 251, 252, 253, 254, 255, 256, 257, 258, 259, 260,\n",
       "        261]),)"
      ]
     },
     "execution_count": 126,
     "metadata": {},
     "output_type": "execute_result"
    }
   ],
   "source": [
    "# Assert safe distance\n",
    "# D >= v_ad * t_front\n",
    "# v_ad:t_front (0-2):1.0 | (2-2.78):1.1 | (2.78-5.56):1.2 | (5.56-8.33):1.3 | (8.33-11.11):1.4 | (11.11-13.89):1.5 | (13.89-16.67):1.6 \n",
    "# Assume same heading, same lane\n",
    "ego_v = np.sqrt(ego_rows['Velocity_x']**2 + ego_rows['Velocity_y']**2 + ego_rows['Velocity_z']**2)\n",
    "# target_v = target_rows[['Velocity_x','Velocity_y','Velocity_z','Distance2Ego']]\n",
    "distance_2_ego = target_rows['Distance2Ego']\n",
    "\n",
    "\n",
    "d_min = []\n",
    "for v in ego_v:\n",
    "    if 0 <= v < 2:\n",
    "        d_min.append(v*1.0)\n",
    "    elif 2 <= v < 2.78:\n",
    "        d_min.append(v*1.1)\n",
    "    elif 2.78<= v < 5.56 :\n",
    "        d_min.append(v*1.2)\n",
    "    elif 5.56 <= v < 8.33:\n",
    "        d_min.append(v*1.3)\n",
    "    elif 8.33 <= v < 11.11:\n",
    "        d_min.append(v*1.4)\n",
    "    elif 11.11 <= v < 13.89:\n",
    "        d_min.append(v*1.5)\n",
    "    elif 13.89 <= v < 16.67:\n",
    "        d_min.append(v*1.6)\n",
    "\n",
    "d_min = np.array(d_min)\n",
    "assert np.all(distance_2_ego>=d_min)"
   ]
  }
 ],
 "metadata": {
  "kernelspec": {
   "display_name": "Python 3",
   "language": "python",
   "name": "python3"
  },
  "language_info": {
   "codemirror_mode": {
    "name": "ipython",
    "version": 3
   },
   "file_extension": ".py",
   "mimetype": "text/x-python",
   "name": "python",
   "nbconvert_exporter": "python",
   "pygments_lexer": "ipython3",
   "version": "3.8.10"
  }
 },
 "nbformat": 4,
 "nbformat_minor": 2
}
