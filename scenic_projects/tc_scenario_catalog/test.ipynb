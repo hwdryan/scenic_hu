{
 "cells": [
  {
   "cell_type": "code",
   "execution_count": null,
   "metadata": {},
   "outputs": [],
   "source": []
  },
  {
   "cell_type": "code",
   "execution_count": null,
   "metadata": {},
   "outputs": [],
   "source": []
  },
  {
   "cell_type": "code",
   "execution_count": 11,
   "metadata": {
    "metadata": {}
   },
   "outputs": [
    {
     "name": "stdout",
     "output_type": "stream",
     "text": [
      "2.89108787647306\n",
      "8.947967851717774\n"
     ]
    },
    {
     "data": {
      "image/png": "[encoded data removed]",
      "text/plain": [
       "<Figure size 640x480 with 1 Axes>"
      ]
     },
     "metadata": {},
     "output_type": "display_data"
    },
    {
     "data": {
      "text/plain": [
       "'\\nIn order to test whether the point (xp, yp) lies on the left-hand side of the edge (x1, y1) - (x2, y2), you just need to calculate:\\nD = (x2 - x1) * (yp - y1) - (xp - x1) * (y2 - y1)\\nIf D > 0, the point is on the left-hand side. If D < 0, the point is on the right-hand side. If D = 0, the point is on the line.\\n'"
      ]
     },
     "execution_count": 11,
     "metadata": {},
     "output_type": "execute_result"
    }
   ],
   "source": [
    "import carla\n",
    "import math\n",
    "import random\n",
    "import time\n",
    "import queue\n",
    "import numpy as np\n",
    "import cv2\n",
    "\n",
    "client = carla.Client('localhost', 2000)\n",
    "world  = client.get_world()\n",
    "bp_lib = world.get_blueprint_library()\n",
    "\n",
    "\n",
    "world_snapshot = world.wait_for_tick()\n",
    "\n",
    "\n",
    "actor_list = world.get_actors()\n",
    "vehicles = actor_list.filter('vehicle.*.*')\n",
    "peds = actor_list.filter('walker.pedestrian.*')\n",
    "current_map = world.get_map()\n",
    "\n",
    "# for v in peds:\n",
    "#     actor_snapshot = world_snapshot.find(v.id)\n",
    "#     v1 = world.get_actor(v.id)\n",
    "#     v1_bb_location = [list(map(float,[v.x,v.y,v.z])) for v in v1.bounding_box.get_world_vertices(actor_snapshot.get_transform())][0::2]\n",
    "#     location = v1.get_transform().location\n",
    "#     location = tuple(map(float,[location.x, location.y, location.z]))\n",
    "#     rotation = v1.get_transform().rotation\n",
    "#     rotation = tuple(map(float,[rotation.pitch, rotation.yaw, rotation.roll]))\n",
    "#     angular_velocity = v1.get_angular_velocity()\n",
    "#     angular_velocity = tuple(map(float,[angular_velocity.x, angular_velocity.y, angular_velocity.z]))\n",
    "#     velocity = v1.get_velocity()\n",
    "#     velocity = tuple(map(float,[velocity.x, velocity.y, velocity.z]))\n",
    "#     acceleration = v1.get_acceleration()\n",
    "#     acceleration = tuple(map(float,[acceleration.x, acceleration.y, acceleration.z]))\n",
    "#     # \n",
    "#     vehicle_lane_id = current_map.get_waypoint(actor_snapshot.get_transform().location).lane_id\n",
    "#     print(\"INFO:\",vehicle_lane_id)\n",
    "\n",
    "for v in vehicles:\n",
    "    actor_snapshot = world_snapshot.find(v.id)\n",
    "    v2 = world.get_actor(v.id)\n",
    "    v2_bb_location = [list(map(float,[v.x,v.y,v.z])) for v in v2.bounding_box.get_world_vertices(actor_snapshot.get_transform())][0::2]\n",
    "\n",
    "# print(v1, v2)\n",
    "x = [v2_bb_location[1][0]-v2_bb_location[0][0],v2_bb_location[1][1]-v2_bb_location[0][1]]\n",
    "y = [v2_bb_location[2][0]-v2_bb_location[1][0],v2_bb_location[2][1]-v2_bb_location[1][1]]\n",
    "print(math.sqrt(x[0]**2+x[1]**2))\n",
    "print(math.sqrt(y[0]**2+y[1]**2))\n",
    "import matplotlib.pyplot as plt\n",
    "\n",
    "# Define the points\n",
    "# v1_bb_location[2], v1_bb_location[3] = v1_bb_location[3], v1_bb_location[2] \n",
    "v2_bb_location[2], v2_bb_location[3] = v2_bb_location[3], v2_bb_location[2] \n",
    "# points = v1_bb_location + v2_bb_location\n",
    "points = v2_bb_location\n",
    "\n",
    "# Separate the x and y coordinates\n",
    "x_values = [point[0] for point in points]\n",
    "y_values = [point[1] for point in points]\n",
    "\n",
    "# Plot the points\n",
    "plt.scatter(x_values, y_values)\n",
    "\n",
    "# Add labels\n",
    "plt.xlabel('X-axis')\n",
    "plt.ylabel('Y-axis')\n",
    "\n",
    "# Add a title\n",
    "plt.title('Points in Coordinate System')\n",
    "\n",
    "# Add gridlines\n",
    "plt.grid(True)\n",
    "\n",
    "# Set equal aspect ratio\n",
    "plt.axis('equal')\n",
    "\n",
    "# Annotate points with their indices\n",
    "for i, point in enumerate(points):\n",
    "    plt.text(point[0], point[1], str(i), ha='center', va='bottom')\n",
    "\n",
    "# Show the plot\n",
    "plt.show()\n",
    "\n",
    "\n",
    "\"\"\"\n",
    "In order to test whether the point (xp, yp) lies on the left-hand side of the edge (x1, y1) - (x2, y2), you just need to calculate:\n",
    "D = (x2 - x1) * (yp - y1) - (xp - x1) * (y2 - y1)\n",
    "If D > 0, the point is on the left-hand side. If D < 0, the point is on the right-hand side. If D = 0, the point is on the line.\n",
    "\"\"\"\n",
    "# d_list1 = list()\n",
    "# for p0 in v1_bb_location:\n",
    "#     d_point = list()\n",
    "#     for idx, p1 in enumerate(v2_bb_location):\n",
    "#         p2 = v2_bb_location[(idx+1)%4]\n",
    "#         d = (p2[0]-p1[0]) * (p0[1]-p1[1]) - (p0[0]-p1[0]) * (p2[1]-p1[1])\n",
    "#         d_point.append(d)\n",
    "#     if max(d_point) < 0:\n",
    "#         print(\"Found.\",d_point)\n",
    "#         print(points.index(p0))\n",
    "#     d_list1.append(d_point)\n",
    "\n",
    "# d_list2 = list()\n",
    "# for p0 in v2_bb_location:\n",
    "#     d_point = list()\n",
    "#     for idx, p1 in enumerate(v1_bb_location):\n",
    "#         p2 = v1_bb_location[(idx+1)%4]\n",
    "#         d = (p2[0]-p1[0]) * (p0[1]-p1[1]) - (p0[0]-p1[0]) * (p2[1]-p1[1])\n",
    "#         d_point.append(d)\n",
    "#     if max(d_point) < 0:\n",
    "#         print(\"Found.\",d_point)\n",
    "#         print(points.index(p0))\n",
    "#     d_list2.append(d_point)\n",
    "\n",
    "# print(\"d_list1\", d_list1)\n",
    "# print(\"d_list2\", d_list2)\n"
   ]
  },
  {
   "cell_type": "code",
   "execution_count": 4,
   "metadata": {},
   "outputs": [
    {
     "ename": "TypeError",
     "evalue": "unsupported operand type(s) for -: 'list' and 'list'",
     "output_type": "error",
     "traceback": [
      "\u001b[0;31m---------------------------------------------------------------------------\u001b[0m",
      "\u001b[0;31mTypeError\u001b[0m                                 Traceback (most recent call last)",
      "Cell \u001b[0;32mIn[4], line 1\u001b[0m\n\u001b[0;32m----> 1\u001b[0m a \u001b[38;5;241m=\u001b[39m \u001b[43m[\u001b[49m\u001b[38;5;241;43m1\u001b[39;49m\u001b[43m,\u001b[49m\u001b[38;5;241;43m1\u001b[39;49m\u001b[43m]\u001b[49m\u001b[38;5;241;43m-\u001b[39;49m\u001b[43m[\u001b[49m\u001b[38;5;241;43m2\u001b[39;49m\u001b[43m,\u001b[49m\u001b[38;5;241;43m2\u001b[39;49m\u001b[43m]\u001b[49m\n",
      "\u001b[0;31mTypeError\u001b[0m: unsupported operand type(s) for -: 'list' and 'list'"
     ]
    }
   ],
   "source": [
    "a = [1,1]\n",
    "b = [2,2]\n",
    "\n"
   ]
  },
  {
   "cell_type": "markdown",
   "metadata": {},
   "source": [
    "### Requirments test\n"
   ]
  },
  {
   "cell_type": "code",
   "execution_count": 1,
   "metadata": {},
   "outputs": [
    {
     "name": "stderr",
     "output_type": "stream",
     "text": [
      "/home/weidong/Tools/Scenic/src/scenic/core/errors.py:271: UserWarning: unable to install sys.excepthook to format Scenic backtraces\n",
      "  warnings.warn(\"unable to install sys.excepthook to format Scenic backtraces\")\n"
     ]
    },
    {
     "data": {
      "text/plain": [
       "{'ego_overtake': (-4.75241722114546, 7.688239260474443)}"
      ]
     },
     "execution_count": 1,
     "metadata": {},
     "output_type": "execute_result"
    }
   ],
   "source": [
    "import os\n",
    "from models import *\n",
    "from scenic.miscs.requirements import Requirements\n",
    "\n",
    "\n",
    "requirements = Requirements(\"/home/weidong/Documents/data_2024_09_05_14_38_04.csv\")\n",
    "rbs=dict()\n",
    "behavior = \"ego_overtake\"\n",
    "exec(f\"rbs['{behavior}'] = requirements.{behavior}('C1')\")\n",
    "\n",
    "\n",
    "# results = requirements.evaluate(rbs)\n",
    "rbs"
   ]
  },
  {
   "cell_type": "code",
   "execution_count": 4,
   "metadata": {},
   "outputs": [
    {
     "data": {
      "text/plain": [
       "6.473605689864382"
      ]
     },
     "execution_count": 4,
     "metadata": {},
     "output_type": "execute_result"
    }
   ],
   "source": [
    "import math\n",
    "\n",
    "def two_points_distance(p1,p2):\n",
    "    d = math.sqrt((p1[0]-p2[0])**2 + (p1[1]-p2[1])**2)\n",
    "    return d\n",
    "\n",
    "a = two_points_distance((-1.85845971107483,248.486755371094), (-1.9811669588089,254.959197998047\n",
    "))\n",
    "a"
   ]
  },
  {
   "cell_type": "code",
   "execution_count": 20,
   "metadata": {},
   "outputs": [
    {
     "data": {
      "text/plain": [
       "array([30])"
      ]
     },
     "execution_count": 20,
     "metadata": {},
     "output_type": "execute_result"
    }
   ],
   "source": [
    "import numpy as np\n",
    "\n",
    "# Assuming you have a CSV file named 'data.csv' with a header line\n",
    "# First few lines of data.csv:\n",
    "# Name,Age,Score\n",
    "# John,25,85\n",
    "# Alice,30,90\n",
    "dtype = [\n",
    "            ('Name', str),\n",
    "            ('Age', int),\n",
    "            ('Score', float),\n",
    "]\n",
    "\n",
    "# Use np.genfromtxt to read the CSV file\n",
    "data = np.genfromtxt('data.csv', dtype=dtype, delimiter=',', skip_header=1, encoding='utf-8')\n",
    "result = np.stack((data['Score'], data['Age']), axis=1)\n",
    "\n",
    "s = data[(data['Score']==90)]\n",
    "s['Age']"
   ]
  },
  {
   "cell_type": "code",
   "execution_count": 21,
   "metadata": {},
   "outputs": [
    {
     "name": "stdout",
     "output_type": "stream",
     "text": [
      "[ True False False False]\n"
     ]
    }
   ],
   "source": [
    "import numpy as np\n",
    "import math\n",
    "a = np.array([24,3,5,6,7,1,15,62,82,88])\n",
    "b = np.array([12,4,35,16,37,51,15,62,82,88])\n",
    "\n",
    "print(a[:4]>b[:4])\n"
   ]
  },
  {
   "cell_type": "code",
   "execution_count": 22,
   "metadata": {},
   "outputs": [
    {
     "name": "stdout",
     "output_type": "stream",
     "text": [
      "xxx \"sdasd\"\n"
     ]
    }
   ],
   "source": [
    "print(\"xxx \\\"sdasd\\\"\")"
   ]
  }
 ],
 "metadata": {
  "kernelspec": {
   "display_name": "Python 3",
   "language": "python",
   "name": "python3"
  },
  "language_info": {
   "codemirror_mode": {
    "name": "ipython",
    "version": 3
   },
   "file_extension": ".py",
   "mimetype": "text/x-python",
   "name": "python",
   "nbconvert_exporter": "python",
   "pygments_lexer": "ipython3",
   "version": "3.8.10"
  }
 },
 "nbformat": 4,
 "nbformat_minor": 2
}
