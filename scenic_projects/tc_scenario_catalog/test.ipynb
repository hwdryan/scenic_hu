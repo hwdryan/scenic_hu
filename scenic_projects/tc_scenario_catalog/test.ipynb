{
 "cells": [
  {
   "cell_type": "code",
   "execution_count": 99,
   "metadata": {
    "metadata": {}
   },
   "outputs": [],
   "source": [
    "import carla\n",
    "import math\n",
    "import random\n",
    "import time\n",
    "import queue\n",
    "import numpy as np\n",
    "import cv2\n",
    "\n",
    "client = carla.Client('localhost', 2000)\n",
    "world  = client.get_world()\n",
    "bp_lib = world.get_blueprint_library()\n",
    "world_snapshot = world.wait_for_tick()\n"
   ]
  },
  {
   "cell_type": "code",
   "execution_count": 100,
   "metadata": {
    "metadata": {}
   },
   "outputs": [
    {
     "name": "stdout",
     "output_type": "stream",
     "text": [
      "Actor(id=30, type=vehicle.carlamotors.firetruck)\n",
      "ActorSnapshot(id=30)\n",
      "Actor(id=30, type=vehicle.carlamotors.firetruck)\n"
     ]
    }
   ],
   "source": [
    "actor_list = world.get_actors()\n",
    "vehicle = actor_list.filter('vehicle.*.*')[0]\n",
    "print(vehicle)\n",
    "actor = world_snapshot.find(vehicle.id)\n",
    "print(actor)\n",
    "actual_actor = world.get_actor(vehicle.id)\n",
    "print(actual_actor)\n",
    "current_map = world.get_map()\n"
   ]
  },
  {
   "cell_type": "code",
   "execution_count": 101,
   "metadata": {
    "metadata": {}
   },
   "outputs": [
    {
     "name": "stdout",
     "output_type": "stream",
     "text": [
      "***vehicle_bb_waypoints: [<carla.libcarla.Waypoint object at 0x7fba605bd820>, <carla.libcarla.Waypoint object at 0x7fba605bd900>, <carla.libcarla.Waypoint object at 0x7fba605bdc10>, <carla.libcarla.Waypoint object at 0x7fba605004a0>]\n",
      "***vehicle_bb_location: [[105.48976135253906, 111.56369018554688, 0.0], [102.16809844970703, 110.44567108154297, 0.0], [101.69976806640625, 119.30815887451172, 0.0], [98.36103820800781, 118.06873321533203, 0.0]]\n"
     ]
    }
   ],
   "source": [
    "vehicle_bb_waypoints = actual_actor.bounding_box.get_world_vertices(actor.get_transform())\n",
    "\n",
    "vehicle_bb_waypoints = [vehicle_bb_waypoints[0], vehicle_bb_waypoints[2], vehicle_bb_waypoints[4], vehicle_bb_waypoints[6]]\n",
    "\n",
    "# vehicle_bb_waypoints = [vehicle_bb_waypoints[0], vehicle_bb_waypoints[1], vehicle_bb_waypoints[2], vehicle_bb_waypoints[3], vehicle_bb_waypoints[4], vehicle_bb_waypoints[5], vehicle_bb_waypoints[6], vehicle_bb_waypoints[7]]\n",
    "vehicle_bb_waypoints = [current_map.get_waypoint(vertex) for vertex in vehicle_bb_waypoints]\n",
    "vehicle_bb_location = [list(map(float,[vertex.transform.location.x,vertex.transform.location.y,vertex.transform.location.z])) for vertex in vehicle_bb_waypoints]\n",
    "print(\"***vehicle_bb_waypoints:\", vehicle_bb_waypoints)\n",
    "print(\"***vehicle_bb_location:\", vehicle_bb_location)\n"
   ]
  },
  {
   "cell_type": "code",
   "execution_count": 102,
   "metadata": {
    "metadata": {}
   },
   "outputs": [
    {
     "name": "stdout",
     "output_type": "stream",
     "text": [
      "bb_point: (-0.2534406781196594, 0.005304586607962847, 1.9133497476577759)\n",
      "center_point: (100.94766998291016, 114.80315399169922, -0.0034029006492346525)\n"
     ]
    }
   ],
   "source": [
    "bb_point = vehicle.bounding_box.location\n",
    "center_point = actor.get_transform().location\n",
    "print(\"bb_point:\",tuple(map(float,[bb_point.x, bb_point.y, bb_point.z])))\n",
    "print(\"center_point:\",tuple(map(float,[center_point.x, center_point.y, center_point.z])))"
   ]
  },
  {
   "cell_type": "code",
   "execution_count": 103,
   "metadata": {
    "metadata": {}
   },
   "outputs": [
    {
     "name": "stdout",
     "output_type": "stream",
     "text": [
      "Vector3D(x=4.234021, y=1.445544, z=1.913706)\n",
      "Location(x=-0.253441, y=0.005305, z=1.913350)\n"
     ]
    }
   ],
   "source": [
    "bb_point = vehicle.bounding_box\n",
    "print(bb_point.extent)\n",
    "print(bb_point.location)"
   ]
  },
  {
   "cell_type": "code",
   "execution_count": 104,
   "metadata": {
    "metadata": {}
   },
   "outputs": [
    {
     "data": {
      "text/plain": [
       "[(103.8661880493164, 111.10263061523438, -0.0024971545208245516),\n",
       " (101.15762329101562, 110.09165954589844, -0.0024632769636809826),\n",
       " (100.905029296875, 119.03605651855469, -0.004910795483738184),\n",
       " (98.19646453857422, 118.02508544921875, -0.004876918159425259)]"
      ]
     },
     "execution_count": 104,
     "metadata": {},
     "output_type": "execute_result"
    }
   ],
   "source": [
    "v_bb = [(v.x,v.y,v.z) for v in actual_actor.bounding_box.get_world_vertices(actor.get_transform())][0::2]\n",
    "v_bb"
   ]
  },
  {
   "cell_type": "code",
   "execution_count": 105,
   "metadata": {
    "metadata": {}
   },
   "outputs": [
    {
     "data": {
      "image/png": "[encoded data removed]",
      "text/plain": [
       "<Figure size 640x480 with 1 Axes>"
      ]
     },
     "metadata": {},
     "output_type": "display_data"
    },
    {
     "ename": "",
     "evalue": "",
     "output_type": "error",
     "traceback": [
      "\u001b[1;31mThe Kernel crashed while executing code in the current cell or a previous cell. \n",
      "\u001b[1;31mPlease review the code in the cell(s) to identify a possible cause of the failure. \n",
      "\u001b[1;31mClick <a href='https://aka.ms/vscodeJupyterKernelCrash'>here</a> for more info. \n",
      "\u001b[1;31mView Jupyter <a href='command:jupyter.viewOutput'>log</a> for further details."
     ]
    }
   ],
   "source": [
    "import matplotlib.pyplot as plt\n",
    "\n",
    "# Separate the x and y coordinates\n",
    "x_values = [point[0] for point in v_bb]\n",
    "y_values = [point[1] for point in v_bb]\n",
    "\n",
    "# Plot the points\n",
    "plt.scatter(x_values, y_values)\n",
    "\n",
    "# Add labels\n",
    "plt.xlabel('X-axis')\n",
    "plt.ylabel('Y-axis')\n",
    "\n",
    "# Add a title\n",
    "plt.title('Points in Coordinate System')\n",
    "\n",
    "# Set equal aspect ratio\n",
    "plt.axis('equal')\n",
    "\n",
    "# Add gridlines\n",
    "plt.grid(True)\n",
    "\n",
    "# Show the plot\n",
    "plt.show()"
   ]
  }
 ],
 "metadata": {
  "kernelspec": {
   "display_name": "Python 3",
   "language": "python",
   "name": "python3"
  },
  "language_info": {
   "codemirror_mode": {
    "name": "ipython",
    "version": 3
   },
   "file_extension": ".py",
   "mimetype": "text/x-python",
   "name": "python",
   "nbconvert_exporter": "python",
   "pygments_lexer": "ipython3",
   "version": "3.8.10"
  }
 },
 "nbformat": 4,
 "nbformat_minor": 2
}
