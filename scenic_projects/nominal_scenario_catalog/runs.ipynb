{
 "cells": [
  {
   "cell_type": "code",
   "execution_count": 1,
   "metadata": {},
   "outputs": [
    {
     "name": "stdout",
     "output_type": "stream",
     "text": [
      "2024-05-27 10:50:27,867 INFO sqlalchemy.engine.Engine BEGIN (implicit)\n",
      "2024-05-27 10:50:27,868 INFO sqlalchemy.engine.Engine SELECT tc_enhanced_concrete_scenarios.id AS tc_enhanced_concrete_scenarios_id, tc_enhanced_concrete_scenarios.path AS tc_enhanced_concrete_scenarios_path, tc_enhanced_concrete_scenarios.concrete_nominal_scenario_id AS tc_enhanced_concrete_scenarios_concrete_nominal_scenario_id, tc_enhanced_concrete_scenarios.tc_enhanced_logical_scenario_id AS tc_enhanced_concrete_scenarios_tc_enhanced_logical_scenario_id \n",
      "FROM tc_enhanced_concrete_scenarios\n",
      "2024-05-27 10:50:27,869 INFO sqlalchemy.engine.Engine [generated in 0.00045s] ()\n"
     ]
    }
   ],
   "source": [
    "import subprocess, os, time\n",
    "from sqlalchemy import (Column, ForeignKey, Integer, MetaData, String, Table,\n",
    "                        create_engine)\n",
    "from sqlalchemy.orm import (Mapped, declarative_base, mapped_column,\n",
    "                            relationship, sessionmaker)\n",
    "from models import *\n",
    "\n",
    "# Create a session\n",
    "home_directory = os.path.expanduser('~')\n",
    "engine = create_engine(f'sqlite:///{home_directory}/Tools/Scenic/scenic_database/scenario_database.db', echo=True)\n",
    "Session = sessionmaker(bind=engine)\n",
    "session = Session()\n",
    "\n",
    "# List of script paths\n",
    "scripts = session.query(TCEnhancedConcreteScenario).all()\n",
    "\n",
    "def gen():\n",
    "    for script in scripts:\n",
    "        yield script\n",
    "s = gen()"
   ]
  },
  {
   "cell_type": "code",
   "execution_count": 4,
   "metadata": {},
   "outputs": [
    {
     "name": "stdout",
     "output_type": "stream",
     "text": [
      "All scripts have been executed.\n"
     ]
    },
    {
     "name": "stderr",
     "output_type": "stream",
     "text": [
      "node:events:495\n",
      "      throw er; // Unhandled 'error' event\n",
      "      ^\n",
      "\n",
      "Error: EACCES: permission denied, read\n",
      "Emitted 'error' event on ReadStream instance at:\n",
      "\u001b[90m    at emitErrorNT (node:internal/streams/destroy:151:8)\u001b[39m\n",
      "\u001b[90m    at errorOrDestroy (node:internal/streams/destroy:214:7)\u001b[39m\n",
      "\u001b[90m    at node:internal/fs/streams:260:9\u001b[39m\n",
      "\u001b[90m    at FSReqCallback.wrapper [as oncomplete] (node:fs:686:5)\u001b[39m {\n",
      "  errno: \u001b[33m-13\u001b[39m,\n",
      "  code: \u001b[32m'EACCES'\u001b[39m,\n",
      "  syscall: \u001b[32m'read'\u001b[39m\n",
      "}\n",
      "\n",
      "Node.js v18.18.2\n",
      "node:events:495\n",
      "      throw er; // Unhandled 'error' event\n",
      "      ^\n",
      "\n",
      "Error: EACCES: permission denied, read\n",
      "Emitted 'error' event on ReadStream instance at:\n",
      "\u001b[90m    at emitErrorNT (node:internal/streams/destroy:151:8)\u001b[39m\n",
      "\u001b[90m    at errorOrDestroy (node:internal/streams/destroy:214:7)\u001b[39m\n",
      "\u001b[90m    at node:internal/fs/streams:260:9\u001b[39m\n",
      "\u001b[90m    at FSReqCallback.wrapper [as oncomplete] (node:fs:686:5)\u001b[39m {\n",
      "  errno: \u001b[33m-13\u001b[39m,\n",
      "  code: \u001b[32m'EACCES'\u001b[39m,\n",
      "  syscall: \u001b[32m'read'\u001b[39m\n",
      "}\n",
      "\n",
      "Node.js v18.18.2\n"
     ]
    }
   ],
   "source": [
    "\n",
    "script = str(next(s).path).replace(\".scenic\",\".py\").replace(\"~\",home_directory)\n",
    "# Run the script\n",
    "subprocess.run(['code', script.replace(\".py\",\".scenic\")])\n",
    "subprocess.run(['code', script])\n",
    "\n",
    "print(\"All scripts have been executed.\")\n"
   ]
  }
 ],
 "metadata": {
  "kernelspec": {
   "display_name": "scenic_related",
   "language": "python",
   "name": "python3"
  },
  "language_info": {
   "codemirror_mode": {
    "name": "ipython",
    "version": 3
   },
   "file_extension": ".py",
   "mimetype": "text/x-python",
   "name": "python",
   "nbconvert_exporter": "python",
   "pygments_lexer": "ipython3",
   "version": "3.8.18"
  }
 },
 "nbformat": 4,
 "nbformat_minor": 2
}
