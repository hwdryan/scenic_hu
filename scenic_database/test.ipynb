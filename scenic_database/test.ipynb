{
 "cells": [
  {
   "cell_type": "markdown",
   "metadata": {},
   "source": [
    "## Create a session"
   ]
  },
  {
   "cell_type": "code",
   "execution_count": 2,
   "metadata": {
    "metadata": {}
   },
   "outputs": [],
   "source": [
    "from sqlalchemy import (Column, ForeignKey, Integer, MetaData, String, Table,\n",
    "                        create_engine)\n",
    "from sqlalchemy.orm import (Mapped, declarative_base, mapped_column,\n",
    "                            relationship, sessionmaker)\n",
    "from models import *\n",
    "# Create a session\n",
    "Session = sessionmaker(bind=engine)\n",
    "session = Session()\n"
   ]
  },
  {
   "cell_type": "markdown",
   "metadata": {},
   "source": [
    "create database"
   ]
  },
  {
   "cell_type": "code",
   "execution_count": null,
   "metadata": {
    "metadata": {}
   },
   "outputs": [],
   "source": [
    "Base.metadata.create_all(engine)"
   ]
  },
  {
   "cell_type": "code",
   "execution_count": 7,
   "metadata": {},
   "outputs": [
    {
     "name": "stdout",
     "output_type": "stream",
     "text": [
      "ego_speed_limit\n",
      "ego_lane_keeping\n",
      "ego_reach_destination\n",
      "collision\n"
     ]
    }
   ],
   "source": [
    "current_file_path = \"~/Tools/Scenic/scenic_projects/nominal_scenario_catalog/nf1/nl1/nc1/tcc/Cyclist_crosses_from_the_roadside/tcc1/tcc1.scenic\"\n",
    "\n",
    "required_behaviors = session.query(RequiredBehavior).\\\n",
    "                            join(RegulationRequiredBehavior).\\\n",
    "                            join(Regulation).\\\n",
    "                            join(RegulationTestCase).\\\n",
    "                            join(TestCase).\\\n",
    "                            join(TCEnhancedConcreteScenario).\\\n",
    "                            filter(TCEnhancedConcreteScenario.path == current_file_path).all()\n",
    "for required_behavior in required_behaviors:\n",
    "    print(required_behavior.behavior_name)"
   ]
  },
  {
   "cell_type": "code",
   "execution_count": null,
   "metadata": {},
   "outputs": [],
   "source": [
    "import os,re\n",
    "\n",
    "def extract_number(filename):\n",
    "    match = re.search(r'(\\d+)\\.scenic', filename)\n",
    "    if match:\n",
    "        return int(match.group(1))\n",
    "    else:\n",
    "        return float('inf')\n",
    "\n",
    "nl = list()\n",
    "path = \"/home/weidong/Tools/Scenic/scenic_projects/nominal_scenario_catalog/nf1/\"\n",
    "for dirpath, dirnames, filenames in os.walk(path):\n",
    "    for filename in filenames:\n",
    "        # find nls\n",
    "        if re.compile(r\"tcc\\d+\\.scenic\").match(filename) and \"Cyclist_crosses_from_the_roadside\" in dirpath:\n",
    "            nl_path = os.path.join(dirpath, filename)\n",
    "            nl.append(nl_path)\n",
    "\n",
    "nl.sort(key=extract_number)\n",
    "nl"
   ]
  },
  {
   "cell_type": "code",
   "execution_count": null,
   "metadata": {},
   "outputs": [],
   "source": [
    "import json \n",
    "\n",
    "with open('regulations.json') as f:\n",
    "    # Load JSON data\n",
    "    data = json.load(f)\n",
    "    regulations = data['regulations']\n",
    "    regus = [(r['regulation'], r['required_behavior']) for r in data['regulations']]\n",
    "    rbhbs = [(r['required_behavior'],r['hazardous_behavior']) for r in data['regulations']]\n",
    "\n",
    "rb_hb = dict()\n",
    "for rbhb_tuple in rbhbs:\n",
    "    for idx, rb in enumerate(rbhb_tuple[0]):\n",
    "        if rb in rb_hb:\n",
    "            if rb_hb[rb] != rbhb_tuple[1][idx]:\n",
    "                print(rb)\n",
    "        rb_hb[rb] =  rbhb_tuple[1][idx]\n",
    "\n"
   ]
  },
  {
   "cell_type": "code",
   "execution_count": 15,
   "metadata": {},
   "outputs": [
    {
     "data": {
      "text/plain": [
       "{'ego_speed_limit': 'Ego exceeded the applicable speed limit.',\n",
       " 'ego_safe_deceleration': 'Ego performed unintended harsh brake.',\n",
       " 'ego_lane_keeping': 'Ego performed unintended lane change.',\n",
       " 'ego_reach_destination': 'Ego failed to reach the specified destination.',\n",
       " 'collision': 'Ego collided with road user.',\n",
       " 'ego_overtake_safe_lateral_distance': 'Ego did not maintain sufficient lateral distance from other road users while overtaking.',\n",
       " 'ego_overtake': 'Ego performed unintended overtake .',\n",
       " 'safe_longitudinal_distance': 'Ego failed to maintain the minimum required following distance from the lead vehicle.',\n",
       " 'ego_safe_overtake_oncoming_traffic': 'Ego attempted to overtake despite the potential obstruction of oncoming traffic.',\n",
       " 'ego_safe_overtake_higher_speed': 'Ego overtook without considerably higher speed than the target vehicle.',\n",
       " 'ego_overtaking_on_the_left': 'Ego overtook on the right side.',\n",
       " 'ego_being_overtaken': 'Ego increased its speed while being overtaken.'}"
      ]
     },
     "execution_count": 15,
     "metadata": {},
     "output_type": "execute_result"
    }
   ],
   "source": [
    "\n",
    "from sqlalchemy import (Column, ForeignKey, Integer, MetaData, String, Table,\n",
    "                        create_engine)\n",
    "from sqlalchemy.orm import (Mapped, declarative_base, mapped_column,\n",
    "                            relationship, sessionmaker)\n",
    "from models import *\n",
    "import os,re\n",
    "\n",
    "\n",
    "# Create a session\n",
    "Session = sessionmaker(bind=engine)\n",
    "session = Session()\n",
    "rb_sql = [RequiredBehavior(behavior_name=rb) for rb in rb_hb.keys()]\n",
    "rb_hb"
   ]
  },
  {
   "cell_type": "markdown",
   "metadata": {},
   "source": [
    "### Add nominal scenarios"
   ]
  },
  {
   "cell_type": "code",
   "execution_count": null,
   "metadata": {
    "metadata": {}
   },
   "outputs": [],
   "source": [
    "# \n",
    "functional_nominal_scenario = {}\n",
    "\n",
    "functional_nominal_scenario_1 = FunctionalNominalScenario(path=\"nominal_scenario_catalog/nominal_scenario_1/functional_scenario_description.md\")\n",
    "# \n",
    "logical_nominal_scenario_1 = LogicalNominalScenario(path=\"nominal_scenario_catalog/nominal_scenario_1/logical_scenario_1/logical_scenario_1.scenic\")\n",
    "# \n",
    "concrete_nominal_scenario_1 = ConcreteNominalScenario(path=\"nominal_scenario_catalog/nominal_scenario_1/logical_scenario_1/concrete_scenario_1/concrete_scenario_1.py\")\n",
    "# \n",
    "functional_nominal_scenario_1.logical_nominal_scenario_items.append(logical_nominal_scenario_1)\n",
    "logical_nominal_scenario_1.concrete_nominal_scenario_items.append(concrete_nominal_scenario_1)\n",
    "# \n",
    "session.add(functional_nominal_scenario_1)\n",
    "session.commit()"
   ]
  },
  {
   "cell_type": "code",
   "execution_count": null,
   "metadata": {
    "metadata": {}
   },
   "outputs": [],
   "source": [
    "# Nominal\n",
    "functional_nominal_scenario_1 = FunctionalNominalScenario(path=\"nominal_scenario_catalog/nominal_scenario_2/functional_scenario_description.md\")\n",
    "# \n",
    "logical_nominal_scenario_1 = LogicalNominalScenario(path=\"nominal_scenario_catalog/nominal_scenario_2/logical_scenario_1/logical_scenario_1.py\")\n",
    "# \n",
    "concrete_nominal_scenario_1 = ConcreteNominalScenario(path=\"nominal_scenario_catalog/nominal_scenario_2/logical_scenario_1/concrete_scenario_1/concrete_scenario_1.py\")\n",
    "concrete_nominal_scenario_2 = ConcreteNominalScenario(path=\"nominal_scenario_catalog/nominal_scenario_2/logical_scenario_1/concrete_scenario_2/concrete_scenario_2.py\")\n",
    "# \n",
    "functional_nominal_scenario_1.logical_nominal_scenario_items.append(logical_nominal_scenario_1)\n",
    "logical_nominal_scenario_1.concrete_nominal_scenario_items.append(concrete_nominal_scenario_1)\n",
    "logical_nominal_scenario_1.concrete_nominal_scenario_items.append(concrete_nominal_scenario_2)\n",
    "# \n",
    "session.add(functional_nominal_scenario_1)\n",
    "session.commit()"
   ]
  },
  {
   "cell_type": "markdown",
   "metadata": {},
   "source": [
    "Add TCs"
   ]
  },
  {
   "cell_type": "code",
   "execution_count": null,
   "metadata": {
    "metadata": {}
   },
   "outputs": [],
   "source": [
    "TCs = [\n",
    "    {'TC':'Parking vehicle on the roadside with opening door', 'FI':'Information processing-lidar-based object classification, Plan-behavior prediction'},\n",
    "    {'TC':'E-scooter drives on motor lane', 'FI':'Plan-situation understanding'},\n",
    "    {'TC':'Vehicle from the right merging lane without right of way brakes too late', 'FI':'Plan-prediction'},\n",
    "    {'TC':'Workers unload a truck on the road', 'FI':'Information processing-object detection, Plan-trajectory prediction'},\n",
    "    {'TC':'Pedestrian halts sharply in front of the crosswalk', 'FI':'Plan-trajectory prediction'},\n",
    "    {'TC':'Front cyclist leaves the lane', 'FI':'Information processing - object detection, Plan - situation understanding'},\n",
    "    {'TC':'Multiple vehicles cut in to ego path in a short time', 'FI':'Plan - situation understanding & decision making'},\n",
    "    {'TC':'Front vehicle drives on lane markings', 'FI':'Plan-situation understanding'},\n",
    "    {'TC':'Many vehicles park along the road side', 'FI':'Information access - offline map backup, Information processing - localization, road mark detection, Plan-situation understanding, prediction'},\n",
    "    {'TC':'Traffic jam in front when neighbor lane is free', 'FI':'Plan - situation understanding + prediction'},\n",
    "    {'TC':'Front vehicle halts on the lane with warning flasher on', 'FI':'Plan - situation understanding'},\n",
    "    {'TC':'Cyclist crosses from the roadside', 'FI':'Information reception - FOV,, Plan - Prediction'},\n",
    "    {'TC':'Oncoming vehicle overtakes a halting vehicle', 'FI':'Plan-situation understanding'},\n",
    "    {'TC':'Scooter/cyclist drives on opposite lane', 'FI':'Plan-situation understanding'},\n",
    "    {'TC':'Traffic jam on the opposite lane', 'FI':'Information processing-object separation, Plan-situation understanding, prediction'},\n",
    "    {'TC':'Halting vehicles on both directions narrow the road', 'FI':'Plan-situation understanding'},\n",
    "    {'TC':'Front cyclist moves towards the road edge and halt', 'FI':'Plan-behavior interpretation & prediction'},\n",
    "]\n",
    "\n",
    "\n",
    "for TC in TCs:\n",
    "    session.add(TriggeringCondition(triggering_condition_name=TC['TC'], functional_insufficiency=TC['FI'], functional_insufficiency_origin='expert'))\n",
    "session.commit()"
   ]
  },
  {
   "cell_type": "markdown",
   "metadata": {},
   "source": [
    "### Add TC scenarios"
   ]
  },
  {
   "cell_type": "code",
   "execution_count": null,
   "metadata": {},
   "outputs": [],
   "source": [
    "tc_enhanced_functional_scenario_1 = TCEnhancedFunctionalScenario(path = \"tc_scenario_catalog/Cyclist_crosses_from_roadside/functional_scenario_description.md\",\n",
    "                                                                 exist_non_complient = 0,\n",
    "                                                                 functional_nominal_scenario_id = 1,\n",
    "                                                                 triggering_condition_id = 12\n",
    "                                                                 )\n",
    "# \n",
    "tc_enhanced_logical_scenario_1 = TCEnhancedLogicalScenario(path = \"tc_scenario_catalog/Cyclist_crosses_from_roadside/logical_scenario_1/logical_scenario_1.scenic\",\n",
    "                                                           logical_nominal_scenario_id = 1)\n",
    "\n",
    "tc_enhanced_functional_scenario_1.tc_enhanced_logical_scenario_items.append(tc_enhanced_logical_scenario_1)\n",
    "\n",
    "session.add(tc_enhanced_functional_scenario_1)\n",
    "session.commit()"
   ]
  },
  {
   "cell_type": "code",
   "execution_count": null,
   "metadata": {},
   "outputs": [],
   "source": [
    "\n",
    "\n",
    "tc_enhanced_concrete_scenario_1 = TCEnhancedConcreteScenario(path = \"tc_scenario_catalog/Cyclist_crosses_from_roadside/logical_scenario_1/concrete_scenario_1/concrete_scenario_1.py\",\n",
    "                                                             concrete_nominal_scenario_id = 1,\n",
    "                                                             tc_enhanced_logical_scenario_id = 1)\n",
    "session.add(tc_enhanced_concrete_scenario_1)\n",
    "session.commit()"
   ]
  },
  {
   "cell_type": "markdown",
   "metadata": {},
   "source": [
    "### Add regulations"
   ]
  },
  {
   "cell_type": "code",
   "execution_count": null,
   "metadata": {},
   "outputs": [],
   "source": [
    "regulations = [\n",
    "(\"The AD-Function shall adjust the speed of the AD-Vehicle to applicable speed limits.\",(\"ego_speed_limit\")),\n",
    "(\"the AD-Function shall not perform harsh brake without a compelling reason.\", (\"ego_safe_deceleration\")),\n",
    "(\"The AD-Function shall only initiate a regular lane change if there is a reason for a lane change.\", (\"ego_lane_keeping\")),\n",
    "(\"The AD-Function shall reach the specified destination, in the absence of any accident.\",(\"ego_reach_destination\")),\n",
    "(\"Under urban and rural driving conditions, the AD-Function shall avoid a collision, up to a speed of 60 km/h, with an unobstructed cyclist crossing with a lateral speed component of not more than 15 km/h in front of the vehicle. This shall be ensured independently from the specific manoeuvre the AD-Function is undertaking.\", \n",
    "(\"collision\")),\n",
    "(\"In general, the AD-Function shall drive normally.\",\n",
    "(\"ego_safe_deceleration\")),\n",
    "(\"When overtaking pedestrians, cyclists or personal light electric vehicles in built-up areas, the AD-Function shall keep at least 1.5 m lateral distance. If necessary, the AD-Function shall wait. At intersections and junctions, the minimum lateral distance of 1.5m to cyclists does not apply, if cyclists have overtaken the AD-Vehicle waiting there on the right or have come to a standstill next to them. \",\n",
    "(\"ego_overtake_safe_lateral_distance\")),\n",
    "(\"The AD-Function shall not overtake in unclear traffic situations.\",(\"ego_overtake\")),\n",
    "(\"While the AD-Vehicle is not at standstill, and operating in speed range up to 60 km/h, the AD-Function shall adapt the speed to adjust the distance to a lead vehicle in the same lane to be equal or greater than the minimum following distance.\",\n",
    "(\"safe_longitudinal_distance\")),\n",
    "(\"Only if the AD-Function can oversee, that there will be no obstruction of oncoming traffic during the entire overtaking process, the AD-Function may overtake.\",\n",
    "(\"ego_safe_overtake_oncoming_traffic\"))\n",
    "(\"Only if the AD-Function drives with considerably higher speed than the vehicle being overtaken, the AD-Function may overtake.\",(\"ego_safe_overtake_higher_speed\")),\n",
    "(\"The AD-Function shall overtake on the left, except defined otherwise in separate requirements.\",(\"ego_overtaking_on_the_left\")),\n",
    "(\"During overtaking, AD-Function shall keep enough lateral distance to other road users.\", (\"ego_overtake_safe_lateral_distance\")),\n",
    "(\"When being overtaken, the AD-Function shall not increase speed.\",(\"ego_being_overtaken\")),\n",
    "(\"In \\\"CCFhol: Car-to-Car Front Head-On Lane change\\\" scenarios, the AD-Function shall reduce speed by at least 20 km/h (original speed vs. impact speed), in case a collision cannot be avoided.\",\n",
    "(\"ego_emergency_braking\")),\n",
    "(\"If, according to traffic regulations, the AD-Vehicle is allowed to proceed or otherwise has priority, the AD-Function shall give up this right if required by the traffic situation.\",\n",
    "(\"ego_react_to_pedetrian\")),              \n",
    "]\n",
    "\n",
    "for regu in regulations:\n",
    "    regulation = Regulation(regulation_description=regu[0])\n",
    "\n",
    "    tc_enhanced_concrete_scenario_1.test_case = test_case_1\n",
    "\n",
    "test_case_1.required_behaviors.append(required_behavior_1)\n",
    "\n",
    "session.add(test_case_1)\n",
    "session.add(tc_enhanced_concrete_scenario_1)\n",
    "session.commit()"
   ]
  },
  {
   "cell_type": "markdown",
   "metadata": {},
   "source": [
    "### Add required behaviors"
   ]
  },
  {
   "cell_type": "code",
   "execution_count": null,
   "metadata": {
    "metadata": {}
   },
   "outputs": [],
   "source": [
    "\n",
    "requiredNhazard_behaviors = [(\"collision\",\"Ego caused collision with target.\"),\n",
    "                      (\"exceed_acceleration\",\"Ego exceeded specified acceleration.\"),\n",
    "                      (\"minimum_distance\",\"Ego violated minimum distance with target.\"),\n",
    "                      (\"ego_overtake\",\"Ego overtook target unsafely.\"),\n",
    "                      (\"safe_longitudinal_distance\", \"Ego violated safe longitudinal distance with front vehicle.\"),\n",
    "                      (\"ego_drive_normally\", \"Ego drive abnormally.\"),\n",
    "                      (\"ego_overtake_safe_lateral_distance\", \"Ego violated safe lateral distance while overtaking target.\"),\n",
    "                      (\"ego_safe_overtake_oncoming_traffic\", \"Ego conduct unsafe overtake despite oncoming traffic.\"),\n",
    "                      (\"ego_safe_overtake_higher_speed\", \"Ego conduct unsafe overtake despite without considerably higher speed than target.\"),\n",
    "                      (\"ego_being_overtaken\", \"Ego increased speed while being overtaken.\"),\n",
    "                      (\"ego_emergency_braking\", \"Ego failed at emergency braking.\"),\n",
    "                      (\"ego_overtaking_on_the_left\", \"Ego overtook on the right.\"),\n",
    "                      (\"ego_react_to_pedetrian\", \"Ego failed at stop in front of pedestrian.\"),\n",
    "                      (\"ego_safe_deceleration\",\"Ego deceleration was lower than threshold.\"),\n",
    "                      (\"ego_lane_keeping\", \"Ego deviated from its original lane.\"),\n",
    "                      (\"ego_reach_destination\", \"Ego failed to reach destination\"),\n",
    "                      (\"ego_speed_limit\", \"Ego's speed exceeded the speed limit.\")\n",
    "                    ]\n",
    "\n",
    "for behavior in requiredNhazard_behaviors[-1:]:\n",
    "    required_behavior = RequiredBehavior(behavior_name=behavior[0])\n",
    "    hazardous_behavior = HazardousBehavior(behavior_description=behavior[1])\n",
    "    required_behavior.hazardous_behavior = hazardous_behavior\n",
    "\n",
    "    session.add(required_behavior)\n",
    "\n",
    "session.commit()"
   ]
  },
  {
   "cell_type": "markdown",
   "metadata": {},
   "source": [
    "### Add test cases"
   ]
  },
  {
   "cell_type": "code",
   "execution_count": null,
   "metadata": {},
   "outputs": [],
   "source": [
    "test_case_1 = TestCase()\n",
    "tc_enhanced_concrete_scenario_1.test_case = test_case_1\n",
    "\n",
    "test_case_1.required_behaviors.append(required_behavior_1)\n",
    "\n",
    "session.add(test_case_1)\n",
    "session.add(tc_enhanced_concrete_scenario_1)\n",
    "session.commit()"
   ]
  },
  {
   "cell_type": "markdown",
   "metadata": {},
   "source": [
    "### Try querying"
   ]
  },
  {
   "cell_type": "code",
   "execution_count": null,
   "metadata": {},
   "outputs": [],
   "source": [
    "# Query for a specific FunctionalNominalScenario item (replace 'functional_nominal_scenario_id' with the actual ID of the FunctionalNominalScenario item)\n",
    "functional_nominal_scenario_item = session.query(FunctionalNominalScenario).where(FunctionalNominalScenario.id == 2).first()\n",
    "\n",
    "# If functional_nominal_scenario_item is found, traverse the relationship to ConcreteNominalScenario items\n",
    "if functional_nominal_scenario_item:\n",
    "    # Query ConcreteNominalScenario items related to the specific FunctionalNominalScenario item\n",
    "    concrete_nominal_scenario_items = session.query(ConcreteNominalScenario).join(LogicalNominalScenario).join(FunctionalNominalScenario).filter(FunctionalNominalScenario.id == functional_nominal_scenario_item.id).all()\n",
    "\n",
    "    # Now you have the ConcreteNominalScenario items related to the specific FunctionalNominalScenario item\n",
    "    for concrete_nominal_scenario_item in concrete_nominal_scenario_items:\n",
    "        print(concrete_nominal_scenario_item.path)\n",
    "else:\n",
    "    print(\"FunctionalNominalScenario item not found.\")"
   ]
  },
  {
   "cell_type": "code",
   "execution_count": null,
   "metadata": {},
   "outputs": [],
   "source": [
    "\n",
    "required_behavior_1 = RequiredBehavior(behavior_name=\"ego_drive_normally\", behavior_description=\"Ego shall drive normally without harsh brake, keep same lane, reach destination at the end.\")\n",
    "required_behavior_2 = RequiredBehavior(behavior_name=\"ego_overtake_safe_lateral_distance\", behavior_description=\"Ego shall keep safe lateral distance when overtaking road users.\")\n",
    "required_behavior_3 = RequiredBehavior(behavior_name=\"ego_safe_overtake_oncoming_traffic\", behavior_description=\"Ego shall only overtake when time for manuevor is not enough, given that opposite lane has oncoming traffic.\")\n",
    "required_behavior_4 = RequiredBehavior(behavior_name=\"safe_longitudinal_distance\", behavior_description=\"Ego shall keep safe longitudinal distance.\")\n",
    "required_behavior_5 = RequiredBehavior(behavior_name=\"ego_overtake\", behavior_description=\"ego shall not overtake.\")\n",
    "\n",
    "hazardous_behavior_1 = HazardousBehavior(behavior_description=\"Ego caused collision.\")\n",
    "hazardous_behavior_2 = HazardousBehavior(behavior_description=\"Ego exceeded rated acceleration.\")\n",
    "hazardous_behavior_3 = HazardousBehavior(behavior_description=\"Ego violated minimum distance.\")\n",
    "hazardous_behavior_4 = HazardousBehavior(behavior_description=\"Ego violated safe lateral distance.\")\n",
    "hazardous_behavior_5 = HazardousBehavior(behavior_description=\"Ego overtaked unsafely.\")\n",
    "\n",
    "required_behavior_1.hazardous_behavior = hazardous_behavior_1\n",
    "required_behavior_2.hazardous_behavior = hazardous_behavior_2\n",
    "required_behavior_3.hazardous_behavior = hazardous_behavior_3\n",
    "required_behavior_4.hazardous_behavior = hazardous_behavior_4\n",
    "required_behavior_5.hazardous_behavior = hazardous_behavior_5\n",
    "\n",
    "session.add(required_behavior_1)\n",
    "session.add(required_behavior_2)\n",
    "session.add(required_behavior_3)\n",
    "session.add(required_behavior_4)\n",
    "session.add(required_behavior_5)\n",
    "session.commit()"
   ]
  },
  {
   "cell_type": "code",
   "execution_count": null,
   "metadata": {},
   "outputs": [],
   "source": [
    "# Nominal\n",
    "functional_nominal_scenario_2 = FunctionalNominalScenario(path=\"nominal_scenario_catalog/nominal_scenario_2/functional_scenario_description.md\")\n",
    "# \n",
    "logical_nominal_scenario_2 = LogicalNominalScenario(path=\"nominal_scenario_catalog/nominal_scenario_2/logical_scenario_1/logical_scenario_1.py\")\n",
    "# \n",
    "concrete_nominal_scenario_2 = ConcreteNominalScenario(path=\"nominal_scenario_catalog/nominal_scenario_2/logical_scenario_1/concrete_scenario_1/concrete_scenario_1.py\")\n",
    "# \n",
    "functional_nominal_scenario_2.logical_nominal_scenario_items.append(logical_nominal_scenario_2)\n",
    "logical_nominal_scenario_2.concrete_nominal_scenario_items.append(concrete_nominal_scenario_2)\n",
    "# \n",
    "session.add(functional_nominal_scenario_2)\n",
    "session.commit()\n",
    "\n",
    "# TC enhanced\n",
    "# /home/weidong/Tools/Scenic/scenic_projects/tc_scenario_catalog/Cyclist_drives_on_opposite_lane/logical_scenario_1/concrete_scenario_1/concrete_scenario_1.py\n",
    "tc_enhanced_functional_scenario_2 = TCEnhancedFunctionalScenario(path = \"tc_scenario_catalog/Cyclist_drives_on_opposite_lane/functional_scenario_description.md\",\n",
    "                                                                 exist_non_complient = 0,\n",
    "                                                                 functional_nominal_scenario_id = 2,\n",
    "                                                                 triggering_condition_id = 14\n",
    "                                                                 )\n",
    "tc_enhanced_logical_scenario_2 = TCEnhancedLogicalScenario(path = \"tc_scenario_catalog/Cyclist_drives_on_opposite_lane/logical_scenario_1/logical_scenario_1.py\",\n",
    "                                                           logical_nominal_scenario_id = 2)\n",
    "\n",
    "tc_enhanced_functional_scenario_2.tc_enhanced_logical_scenario_items.append(tc_enhanced_logical_scenario_2)\n",
    "\n",
    "session.add(tc_enhanced_functional_scenario_2)\n",
    "session.commit()\n",
    "\n",
    "# Test case\n",
    "test_case_1 = TestCase()\n",
    "tc_enhanced_concrete_scenario_1.test_case = test_case_1\n",
    "\n",
    "test_case_1.required_behaviors.append(required_behavior_1)\n",
    "\n",
    "session.add(test_case_1)\n",
    "session.add(tc_enhanced_concrete_scenario_1)\n",
    "session.commit()"
   ]
  }
 ],
 "metadata": {
  "kernelspec": {
   "display_name": "Python 3",
   "language": "python",
   "name": "python3"
  },
  "language_info": {
   "codemirror_mode": {
    "name": "ipython",
    "version": 3
   },
   "file_extension": ".py",
   "mimetype": "text/x-python",
   "name": "python",
   "nbconvert_exporter": "python",
   "pygments_lexer": "ipython3",
   "version": "3.8.10"
  }
 },
 "nbformat": 4,
 "nbformat_minor": 2
}
