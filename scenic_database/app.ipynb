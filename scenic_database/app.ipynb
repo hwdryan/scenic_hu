{
 "cells": [
  {
   "cell_type": "code",
   "execution_count": 23,
   "metadata": {},
   "outputs": [
    {
     "name": "stdout",
     "output_type": "stream",
     "text": [
      "2024-04-25 03:54:19,366 INFO sqlalchemy.engine.Engine BEGIN (implicit)\n",
      "2024-04-25 03:54:19,367 INFO sqlalchemy.engine.Engine INSERT INTO functional_nominal_scenarios (path) VALUES (?)\n",
      "2024-04-25 03:54:19,367 INFO sqlalchemy.engine.Engine [cached since 6451s ago] ('nominal_scenario_catalog/nominal_scenario_1/functional_scenario_description.md',)\n",
      "2024-04-25 03:54:19,368 INFO sqlalchemy.engine.Engine INSERT INTO logical_nominal_scenarios (path, functional_nominal_scenario_id) VALUES (?, ?)\n",
      "2024-04-25 03:54:19,369 INFO sqlalchemy.engine.Engine [cached since 6451s ago] ('nominal_scenario_catalog/nominal_scenario_1/logical_scenario_1/logical_scenario_1.scenic', 1)\n",
      "2024-04-25 03:54:19,370 INFO sqlalchemy.engine.Engine INSERT INTO concrete_nominal_scenarios (path, logical_nominal_scenario_id) VALUES (?, ?)\n",
      "2024-04-25 03:54:19,370 INFO sqlalchemy.engine.Engine [cached since 6451s ago] ('nominal_scenario_catalog/nominal_scenario_1/logical_scenario_1/concrete_scenario_1/concrete_scenario_1.py', 1)\n",
      "2024-04-25 03:54:19,371 INFO sqlalchemy.engine.Engine COMMIT\n"
     ]
    }
   ],
   "source": [
    "from sqlalchemy import (Column, ForeignKey, Integer, MetaData, String, Table,\n",
    "                        create_engine)\n",
    "from sqlalchemy.orm import (Mapped, declarative_base, mapped_column,\n",
    "                            relationship, sessionmaker)\n",
    "from models import *\n",
    "# Create a session\n",
    "Session = sessionmaker(bind=engine)\n",
    "session = Session()\n",
    "# \n",
    "functional_nominal_scenario_1 = FunctionalNominalScenario(path=\"nominal_scenario_catalog/nominal_scenario_1/functional_scenario_description.md\")\n",
    "# \n",
    "logical_nominal_scenario_1 = LogicalNominalScenario(path=\"nominal_scenario_catalog/nominal_scenario_1/logical_scenario_1/logical_scenario_1.scenic\")\n",
    "# \n",
    "concrete_nominal_scenario_1 = ConcreteNominalScenario(path=\"nominal_scenario_catalog/nominal_scenario_1/logical_scenario_1/concrete_scenario_1/concrete_scenario_1.py\")\n",
    "# \n",
    "functional_nominal_scenario_1.logical_nominal_scenario_items.append(logical_nominal_scenario_1)\n",
    "logical_nominal_scenario_1.concrete_nominal_scenario_items.append(concrete_nominal_scenario_1)\n",
    "# \n",
    "session.add(functional_nominal_scenario_1)\n",
    "session.commit()\n",
    "\n",
    "\n"
   ]
  },
  {
   "cell_type": "code",
   "execution_count": 24,
   "metadata": {},
   "outputs": [
    {
     "name": "stdout",
     "output_type": "stream",
     "text": [
      "2024-04-25 03:54:19,379 INFO sqlalchemy.engine.Engine BEGIN (implicit)\n",
      "2024-04-25 03:54:19,380 INFO sqlalchemy.engine.Engine INSERT INTO triggering_conditions (triggering_condition_name, functional_insufficiency, functional_insufficiency_origin) VALUES (?, ?, ?)\n",
      "2024-04-25 03:54:19,381 INFO sqlalchemy.engine.Engine [cached since 6348s ago] ('Parking vehicle on the roadside with opening door', 'Information processing-lidar-based object classification, Plan-behavior prediction', 'expert')\n",
      "2024-04-25 03:54:19,381 INFO sqlalchemy.engine.Engine INSERT INTO triggering_conditions (triggering_condition_name, functional_insufficiency, functional_insufficiency_origin) VALUES (?, ?, ?)\n",
      "2024-04-25 03:54:19,382 INFO sqlalchemy.engine.Engine [cached since 6348s ago] ('E-scooter drives on motor lane', 'Plan-situation understanding', 'expert')\n",
      "2024-04-25 03:54:19,382 INFO sqlalchemy.engine.Engine INSERT INTO triggering_conditions (triggering_condition_name, functional_insufficiency, functional_insufficiency_origin) VALUES (?, ?, ?)\n",
      "2024-04-25 03:54:19,383 INFO sqlalchemy.engine.Engine [cached since 6348s ago] ('Vehicle from the right merging lane without right of way brakes too late', 'Plan-prediction', 'expert')\n",
      "2024-04-25 03:54:19,384 INFO sqlalchemy.engine.Engine INSERT INTO triggering_conditions (triggering_condition_name, functional_insufficiency, functional_insufficiency_origin) VALUES (?, ?, ?)\n",
      "2024-04-25 03:54:19,384 INFO sqlalchemy.engine.Engine [cached since 6348s ago] ('Workers unload a truck on the road', 'Information processing-object detection, Plan-trajectory prediction', 'expert')\n",
      "2024-04-25 03:54:19,385 INFO sqlalchemy.engine.Engine INSERT INTO triggering_conditions (triggering_condition_name, functional_insufficiency, functional_insufficiency_origin) VALUES (?, ?, ?)\n",
      "2024-04-25 03:54:19,385 INFO sqlalchemy.engine.Engine [cached since 6348s ago] ('Pedestrian halts sharply in front of the crosswalk', 'Plan-trajectory prediction', 'expert')\n",
      "2024-04-25 03:54:19,386 INFO sqlalchemy.engine.Engine INSERT INTO triggering_conditions (triggering_condition_name, functional_insufficiency, functional_insufficiency_origin) VALUES (?, ?, ?)\n",
      "2024-04-25 03:54:19,386 INFO sqlalchemy.engine.Engine [cached since 6348s ago] ('Front cyclist leaves the lane', 'Information processing - object detection, Plan - situation understanding', 'expert')\n",
      "2024-04-25 03:54:19,387 INFO sqlalchemy.engine.Engine INSERT INTO triggering_conditions (triggering_condition_name, functional_insufficiency, functional_insufficiency_origin) VALUES (?, ?, ?)\n",
      "2024-04-25 03:54:19,388 INFO sqlalchemy.engine.Engine [cached since 6348s ago] ('Multiple vehicles cut in to ego path in a short time', 'Plan - situation understanding & decision making', 'expert')\n",
      "2024-04-25 03:54:19,389 INFO sqlalchemy.engine.Engine INSERT INTO triggering_conditions (triggering_condition_name, functional_insufficiency, functional_insufficiency_origin) VALUES (?, ?, ?)\n",
      "2024-04-25 03:54:19,389 INFO sqlalchemy.engine.Engine [cached since 6348s ago] ('Front vehicle drives on lane markings', 'Plan-situation understanding', 'expert')\n",
      "2024-04-25 03:54:19,390 INFO sqlalchemy.engine.Engine INSERT INTO triggering_conditions (triggering_condition_name, functional_insufficiency, functional_insufficiency_origin) VALUES (?, ?, ?)\n",
      "2024-04-25 03:54:19,391 INFO sqlalchemy.engine.Engine [cached since 6348s ago] ('Many vehicles park along the road side', 'Information access - offline map backup, Information processing - localization, road mark detection, Plan-situation understanding, prediction', 'expert')\n",
      "2024-04-25 03:54:19,391 INFO sqlalchemy.engine.Engine INSERT INTO triggering_conditions (triggering_condition_name, functional_insufficiency, functional_insufficiency_origin) VALUES (?, ?, ?)\n",
      "2024-04-25 03:54:19,392 INFO sqlalchemy.engine.Engine [cached since 6348s ago] ('Traffic jam in front when neighbor lane is free', 'Plan - situation understanding + prediction', 'expert')\n",
      "2024-04-25 03:54:19,393 INFO sqlalchemy.engine.Engine INSERT INTO triggering_conditions (triggering_condition_name, functional_insufficiency, functional_insufficiency_origin) VALUES (?, ?, ?)\n",
      "2024-04-25 03:54:19,393 INFO sqlalchemy.engine.Engine [cached since 6348s ago] ('Front vehicle halts on the lane with warning flasher on', 'Plan - situation understanding', 'expert')\n",
      "2024-04-25 03:54:19,394 INFO sqlalchemy.engine.Engine INSERT INTO triggering_conditions (triggering_condition_name, functional_insufficiency, functional_insufficiency_origin) VALUES (?, ?, ?)\n",
      "2024-04-25 03:54:19,394 INFO sqlalchemy.engine.Engine [cached since 6348s ago] ('Cyclist crosses from the roadside', 'Information reception - FOV,, Plan - Prediction', 'expert')\n",
      "2024-04-25 03:54:19,395 INFO sqlalchemy.engine.Engine INSERT INTO triggering_conditions (triggering_condition_name, functional_insufficiency, functional_insufficiency_origin) VALUES (?, ?, ?)\n",
      "2024-04-25 03:54:19,395 INFO sqlalchemy.engine.Engine [cached since 6348s ago] ('Oncoming vehicle overtakes a halting vehicle', 'Plan-situation understanding', 'expert')\n",
      "2024-04-25 03:54:19,396 INFO sqlalchemy.engine.Engine INSERT INTO triggering_conditions (triggering_condition_name, functional_insufficiency, functional_insufficiency_origin) VALUES (?, ?, ?)\n",
      "2024-04-25 03:54:19,397 INFO sqlalchemy.engine.Engine [cached since 6348s ago] ('Scooter/cyclist drives on opposite lane', 'Plan-situation understanding', 'expert')\n",
      "2024-04-25 03:54:19,397 INFO sqlalchemy.engine.Engine INSERT INTO triggering_conditions (triggering_condition_name, functional_insufficiency, functional_insufficiency_origin) VALUES (?, ?, ?)\n",
      "2024-04-25 03:54:19,398 INFO sqlalchemy.engine.Engine [cached since 6348s ago] ('Traffic jam on the opposite lane', 'Information processing-object separation, Plan-situation understanding, prediction', 'expert')\n",
      "2024-04-25 03:54:19,399 INFO sqlalchemy.engine.Engine INSERT INTO triggering_conditions (triggering_condition_name, functional_insufficiency, functional_insufficiency_origin) VALUES (?, ?, ?)\n",
      "2024-04-25 03:54:19,399 INFO sqlalchemy.engine.Engine [cached since 6348s ago] ('Halting vehicles on both directions narrow the road', 'Plan-situation understanding', 'expert')\n",
      "2024-04-25 03:54:19,400 INFO sqlalchemy.engine.Engine INSERT INTO triggering_conditions (triggering_condition_name, functional_insufficiency, functional_insufficiency_origin) VALUES (?, ?, ?)\n",
      "2024-04-25 03:54:19,400 INFO sqlalchemy.engine.Engine [cached since 6348s ago] ('Front cyclist moves towards the road edge and halt', 'Plan-behavior interpretation & prediction', 'expert')\n",
      "2024-04-25 03:54:19,402 INFO sqlalchemy.engine.Engine COMMIT\n"
     ]
    }
   ],
   "source": [
    "TCs = [\n",
    "    {'TC':'Parking vehicle on the roadside with opening door', 'FI':'Information processing-lidar-based object classification, Plan-behavior prediction'},\n",
    "    {'TC':'E-scooter drives on motor lane', 'FI':'Plan-situation understanding'},\n",
    "    {'TC':'Vehicle from the right merging lane without right of way brakes too late', 'FI':'Plan-prediction'},\n",
    "    {'TC':'Workers unload a truck on the road', 'FI':'Information processing-object detection, Plan-trajectory prediction'},\n",
    "    {'TC':'Pedestrian halts sharply in front of the crosswalk', 'FI':'Plan-trajectory prediction'},\n",
    "    {'TC':'Front cyclist leaves the lane', 'FI':'Information processing - object detection, Plan - situation understanding'},\n",
    "    {'TC':'Multiple vehicles cut in to ego path in a short time', 'FI':'Plan - situation understanding & decision making'},\n",
    "    {'TC':'Front vehicle drives on lane markings', 'FI':'Plan-situation understanding'},\n",
    "    {'TC':'Many vehicles park along the road side', 'FI':'Information access - offline map backup, Information processing - localization, road mark detection, Plan-situation understanding, prediction'},\n",
    "    {'TC':'Traffic jam in front when neighbor lane is free', 'FI':'Plan - situation understanding + prediction'},\n",
    "    {'TC':'Front vehicle halts on the lane with warning flasher on', 'FI':'Plan - situation understanding'},\n",
    "    {'TC':'Cyclist crosses from the roadside', 'FI':'Information reception - FOV,, Plan - Prediction'},\n",
    "    {'TC':'Oncoming vehicle overtakes a halting vehicle', 'FI':'Plan-situation understanding'},\n",
    "    {'TC':'Scooter/cyclist drives on opposite lane', 'FI':'Plan-situation understanding'},\n",
    "    {'TC':'Traffic jam on the opposite lane', 'FI':'Information processing-object separation, Plan-situation understanding, prediction'},\n",
    "    {'TC':'Halting vehicles on both directions narrow the road', 'FI':'Plan-situation understanding'},\n",
    "    {'TC':'Front cyclist moves towards the road edge and halt', 'FI':'Plan-behavior interpretation & prediction'},\n",
    "]\n",
    "\n",
    "\n",
    "for TC in TCs:\n",
    "    session.add(TriggeringCondition(triggering_condition_name=TC['TC'], functional_insufficiency=TC['FI'], functional_insufficiency_origin='expert'))\n",
    "session.commit()"
   ]
  },
  {
   "cell_type": "code",
   "execution_count": 25,
   "metadata": {},
   "outputs": [
    {
     "name": "stdout",
     "output_type": "stream",
     "text": [
      "2024-04-25 03:54:19,409 INFO sqlalchemy.engine.Engine BEGIN (implicit)\n",
      "2024-04-25 03:54:19,411 INFO sqlalchemy.engine.Engine INSERT INTO tc_enhanced_functional_scenarios (path, exist_non_complient, functional_nominal_scenario_id, triggering_condition_id) VALUES (?, ?, ?, ?)\n",
      "2024-04-25 03:54:19,411 INFO sqlalchemy.engine.Engine [cached since 5749s ago] ('tc_scenario_catalog/Cyclist_crosses_from_roadside/functional_scenario_description.md', 0, 1, 12)\n",
      "2024-04-25 03:54:19,413 INFO sqlalchemy.engine.Engine INSERT INTO tc_enhanced_logical_scenarios (path, logical_nominal_scenario_id, tc_enhanced_functional_scenario_id) VALUES (?, ?, ?)\n",
      "2024-04-25 03:54:19,413 INFO sqlalchemy.engine.Engine [cached since 5749s ago] ('tc_scenario_catalog/Cyclist_crosses_from_roadside/logical_scenario_1/logical_scenario_1.scenic', 1, 1)\n",
      "2024-04-25 03:54:19,414 INFO sqlalchemy.engine.Engine COMMIT\n"
     ]
    }
   ],
   "source": [
    "tc_enhanced_functional_scenario_1 = TCEnhancedFunctionalScenario(path = \"tc_scenario_catalog/Cyclist_crosses_from_roadside/functional_scenario_description.md\",\n",
    "                                                                 exist_non_complient = 0,\n",
    "                                                                 functional_nominal_scenario_id = 1,\n",
    "                                                                 triggering_condition_id = 12\n",
    "                                                                 )\n",
    "# \n",
    "tc_enhanced_logical_scenario_1 = TCEnhancedLogicalScenario(path = \"tc_scenario_catalog/Cyclist_crosses_from_roadside/logical_scenario_1/logical_scenario_1.scenic\",\n",
    "                                                           logical_nominal_scenario_id = 1)\n",
    "\n",
    "tc_enhanced_functional_scenario_1.tc_enhanced_logical_scenario_items.append(tc_enhanced_logical_scenario_1)\n",
    "\n",
    "session.add(tc_enhanced_functional_scenario_1)\n",
    "session.commit()"
   ]
  },
  {
   "cell_type": "code",
   "execution_count": 26,
   "metadata": {},
   "outputs": [
    {
     "name": "stdout",
     "output_type": "stream",
     "text": [
      "2024-04-25 03:54:19,423 INFO sqlalchemy.engine.Engine BEGIN (implicit)\n",
      "2024-04-25 03:54:19,424 INFO sqlalchemy.engine.Engine INSERT INTO tc_enhanced_concrete_scenarios (path, concrete_nominal_scenario_id, tc_enhanced_logical_scenario_id) VALUES (?, ?, ?)\n",
      "2024-04-25 03:54:19,425 INFO sqlalchemy.engine.Engine [cached since 5440s ago] ('tc_scenario_catalog/Cyclist_crosses_from_roadside/logical_scenario_1/concrete_scenario_1/concrete_scenario_1.py', 1, 1)\n",
      "2024-04-25 03:54:19,426 INFO sqlalchemy.engine.Engine COMMIT\n"
     ]
    }
   ],
   "source": [
    "\n",
    "\n",
    "tc_enhanced_concrete_scenario_1 = TCEnhancedConcreteScenario(path = \"tc_scenario_catalog/Cyclist_crosses_from_roadside/logical_scenario_1/concrete_scenario_1/concrete_scenario_1.py\",\n",
    "                                                             concrete_nominal_scenario_id = 1,\n",
    "                                                             tc_enhanced_logical_scenario_id = 1)\n",
    "session.add(tc_enhanced_concrete_scenario_1)\n",
    "session.commit()"
   ]
  },
  {
   "cell_type": "code",
   "execution_count": 27,
   "metadata": {},
   "outputs": [
    {
     "name": "stdout",
     "output_type": "stream",
     "text": [
      "2024-04-25 03:54:19,435 INFO sqlalchemy.engine.Engine BEGIN (implicit)\n",
      "2024-04-25 03:54:19,436 INFO sqlalchemy.engine.Engine INSERT INTO required_behaviors (behavior_name) VALUES (?)\n",
      "2024-04-25 03:54:19,437 INFO sqlalchemy.engine.Engine [cached since 3880s ago] ('collision',)\n",
      "2024-04-25 03:54:19,438 INFO sqlalchemy.engine.Engine INSERT INTO required_behaviors (behavior_name) VALUES (?)\n",
      "2024-04-25 03:54:19,439 INFO sqlalchemy.engine.Engine [cached since 3880s ago] ('exceed_acceleration',)\n",
      "2024-04-25 03:54:19,440 INFO sqlalchemy.engine.Engine INSERT INTO required_behaviors (behavior_name) VALUES (?)\n",
      "2024-04-25 03:54:19,440 INFO sqlalchemy.engine.Engine [cached since 3880s ago] ('minimum_distance',)\n",
      "2024-04-25 03:54:19,441 INFO sqlalchemy.engine.Engine INSERT INTO required_behaviors (behavior_name) VALUES (?)\n",
      "2024-04-25 03:54:19,441 INFO sqlalchemy.engine.Engine [cached since 3880s ago] ('safe_lat_distance',)\n",
      "2024-04-25 03:54:19,441 INFO sqlalchemy.engine.Engine INSERT INTO required_behaviors (behavior_name) VALUES (?)\n",
      "2024-04-25 03:54:19,442 INFO sqlalchemy.engine.Engine [cached since 3880s ago] ('ego_overtake',)\n",
      "2024-04-25 03:54:19,443 INFO sqlalchemy.engine.Engine INSERT INTO hazardous_behaviors (behavior_description, required_behavior_id) VALUES (?, ?)\n",
      "2024-04-25 03:54:19,443 INFO sqlalchemy.engine.Engine [cached since 3880s ago] ('Ego caused collision.', 1)\n",
      "2024-04-25 03:54:19,444 INFO sqlalchemy.engine.Engine INSERT INTO hazardous_behaviors (behavior_description, required_behavior_id) VALUES (?, ?)\n",
      "2024-04-25 03:54:19,444 INFO sqlalchemy.engine.Engine [cached since 3880s ago] ('Ego exceeded rated acceleration.', 2)\n",
      "2024-04-25 03:54:19,445 INFO sqlalchemy.engine.Engine INSERT INTO hazardous_behaviors (behavior_description, required_behavior_id) VALUES (?, ?)\n",
      "2024-04-25 03:54:19,445 INFO sqlalchemy.engine.Engine [cached since 3880s ago] ('Ego violated minimum distance.', 3)\n",
      "2024-04-25 03:54:19,446 INFO sqlalchemy.engine.Engine INSERT INTO hazardous_behaviors (behavior_description, required_behavior_id) VALUES (?, ?)\n",
      "2024-04-25 03:54:19,446 INFO sqlalchemy.engine.Engine [cached since 3880s ago] ('Ego violated safe lateral distance.', 4)\n",
      "2024-04-25 03:54:19,447 INFO sqlalchemy.engine.Engine INSERT INTO hazardous_behaviors (behavior_description, required_behavior_id) VALUES (?, ?)\n",
      "2024-04-25 03:54:19,448 INFO sqlalchemy.engine.Engine [cached since 3880s ago] ('Ego overtaked unsafely.', 5)\n",
      "2024-04-25 03:54:19,449 INFO sqlalchemy.engine.Engine COMMIT\n"
     ]
    }
   ],
   "source": [
    "\n",
    "\n",
    "required_behavior_1 = RequiredBehavior(behavior_name=\"collision\")\n",
    "required_behavior_2 = RequiredBehavior(behavior_name=\"exceed_acceleration\")\n",
    "required_behavior_3 = RequiredBehavior(behavior_name=\"minimum_distance\")\n",
    "required_behavior_4 = RequiredBehavior(behavior_name=\"safe_lat_distance\")\n",
    "required_behavior_5 = RequiredBehavior(behavior_name=\"ego_overtake\")\n",
    "\n",
    "hazardous_behavior_1 = HazardousBehavior(behavior_description=\"Ego caused collision.\")\n",
    "hazardous_behavior_2 = HazardousBehavior(behavior_description=\"Ego exceeded rated acceleration.\")\n",
    "hazardous_behavior_3 = HazardousBehavior(behavior_description=\"Ego violated minimum distance.\")\n",
    "hazardous_behavior_4 = HazardousBehavior(behavior_description=\"Ego violated safe lateral distance.\")\n",
    "hazardous_behavior_5 = HazardousBehavior(behavior_description=\"Ego overtaked unsafely.\")\n",
    "\n",
    "required_behavior_1.hazardous_behavior = hazardous_behavior_1\n",
    "required_behavior_2.hazardous_behavior = hazardous_behavior_2\n",
    "required_behavior_3.hazardous_behavior = hazardous_behavior_3\n",
    "required_behavior_4.hazardous_behavior = hazardous_behavior_4\n",
    "required_behavior_5.hazardous_behavior = hazardous_behavior_5\n",
    "\n",
    "session.add(required_behavior_1)\n",
    "session.add(required_behavior_2)\n",
    "session.add(required_behavior_3)\n",
    "session.add(required_behavior_4)\n",
    "session.add(required_behavior_5)\n",
    "session.commit()"
   ]
  },
  {
   "cell_type": "code",
   "execution_count": 28,
   "metadata": {},
   "outputs": [
    {
     "name": "stdout",
     "output_type": "stream",
     "text": [
      "2024-04-25 03:54:19,456 INFO sqlalchemy.engine.Engine BEGIN (implicit)\n",
      "2024-04-25 03:54:19,457 INFO sqlalchemy.engine.Engine SELECT tc_enhanced_concrete_scenarios.id AS tc_enhanced_concrete_scenarios_id, tc_enhanced_concrete_scenarios.path AS tc_enhanced_concrete_scenarios_path, tc_enhanced_concrete_scenarios.concrete_nominal_scenario_id AS tc_enhanced_concrete_scenarios_concrete_nominal_scenario_id, tc_enhanced_concrete_scenarios.tc_enhanced_logical_scenario_id AS tc_enhanced_concrete_scenarios_tc_enhanced_logical_scenario_id \n",
      "FROM tc_enhanced_concrete_scenarios \n",
      "WHERE tc_enhanced_concrete_scenarios.id = ?\n",
      "2024-04-25 03:54:19,458 INFO sqlalchemy.engine.Engine [cached since 3104s ago] (1,)\n",
      "2024-04-25 03:54:19,459 INFO sqlalchemy.engine.Engine SELECT test_cases.id AS test_cases_id, test_cases.tc_enhanced_concrete_scenario_id AS test_cases_tc_enhanced_concrete_scenario_id \n",
      "FROM test_cases \n",
      "WHERE ? = test_cases.tc_enhanced_concrete_scenario_id\n",
      "2024-04-25 03:54:19,459 INFO sqlalchemy.engine.Engine [cached since 3104s ago] (1,)\n",
      "2024-04-25 03:54:19,461 INFO sqlalchemy.engine.Engine INSERT INTO test_cases (tc_enhanced_concrete_scenario_id) VALUES (?)\n",
      "2024-04-25 03:54:19,462 INFO sqlalchemy.engine.Engine [cached since 3104s ago] (1,)\n",
      "2024-04-25 03:54:19,463 INFO sqlalchemy.engine.Engine SELECT required_behaviors.id AS required_behaviors_id, required_behaviors.behavior_name AS required_behaviors_behavior_name \n",
      "FROM required_behaviors \n",
      "WHERE required_behaviors.id = ?\n",
      "2024-04-25 03:54:19,464 INFO sqlalchemy.engine.Engine [cached since 2744s ago] (1,)\n",
      "2024-04-25 03:54:19,465 INFO sqlalchemy.engine.Engine INSERT INTO test_cases_required_behaviors (test_case_id, required_behavior_id) VALUES (?, ?)\n",
      "2024-04-25 03:54:19,470 INFO sqlalchemy.engine.Engine [cached since 2744s ago] (1, 1)\n",
      "2024-04-25 03:54:19,472 INFO sqlalchemy.engine.Engine COMMIT\n"
     ]
    }
   ],
   "source": [
    "test_case_1 = TestCase()\n",
    "tc_enhanced_concrete_scenario_1.test_case = test_case_1\n",
    "\n",
    "test_case_1.required_behaviors.append(required_behavior_1)\n",
    "\n",
    "session.add(test_case_1)\n",
    "session.add(tc_enhanced_concrete_scenario_1)\n",
    "session.commit()"
   ]
  },
  {
   "cell_type": "code",
   "execution_count": null,
   "metadata": {},
   "outputs": [],
   "source": [
    "test_result_1 = TestResult(system_info = \"\",\n",
    "                        test_result = 0,\n",
    "                        testing_date = \"\",\n",
    "                        log_file = \"\")\n",
    "\n",
    "test_case_queried = session.query(TestCase).join(TCEnhancedConcreteScenario).filter(TCEnhancedConcreteScenario.path == \"\").first()\n",
    "# one2many\n",
    "test_case_queried.test_result_items.append(test_result_1)\n",
    "# many2many\n",
    "hazardous_behaviors_queried = session.query(HazardousBehavior).filter().all()\n",
    "test_result_1.hazardous_behaviors.extend([])\n",
    "\n",
    "\n",
    "session.add(test_case_1)\n",
    "session.commit()"
   ]
  },
  {
   "cell_type": "code",
   "execution_count": null,
   "metadata": {},
   "outputs": [],
   "source": [
    "session.query(TestCaseRequiredBehavior).delete()\n",
    "session.commit()"
   ]
  },
  {
   "cell_type": "code",
   "execution_count": null,
   "metadata": {},
   "outputs": [],
   "source": [
    "()\n",
    "# Query for a specific FunctionalNominalScenario item (replace 'functional_nominal_scenario_id' with the actual ID of the FunctionalNominalScenario item)\n",
    "functional_nominal_scenario_item = session.query(FunctionalNominalScenario).where(FunctionalNominalScenario.id == 2).first()\n",
    "\n",
    "# If functional_nominal_scenario_item is found, traverse the relationship to ConcreteNominalScenario items\n",
    "if functional_nominal_scenario_item:\n",
    "    # Query ConcreteNominalScenario items related to the specific FunctionalNominalScenario item\n",
    "    concrete_nominal_scenario_items = session.query(ConcreteNominalScenario).join(LogicalNominalScenario).join(FunctionalNominalScenario).filter(FunctionalNominalScenario.id == functional_nominal_scenario_item.id).all()\n",
    "\n",
    "    # Now you have the ConcreteNominalScenario items related to the specific FunctionalNominalScenario item\n",
    "    for concrete_nominal_scenario_item in concrete_nominal_scenario_items:\n",
    "        print(concrete_nominal_scenario_item.path)\n",
    "else:\n",
    "    print(\"FunctionalNominalScenario item not found.\")"
   ]
  }
 ],
 "metadata": {
  "kernelspec": {
   "display_name": "Python 3",
   "language": "python",
   "name": "python3"
  },
  "language_info": {
   "codemirror_mode": {
    "name": "ipython",
    "version": 3
   },
   "file_extension": ".py",
   "mimetype": "text/x-python",
   "name": "python",
   "nbconvert_exporter": "python",
   "pygments_lexer": "ipython3",
   "version": "3.8.10"
  }
 },
 "nbformat": 4,
 "nbformat_minor": 2
}
