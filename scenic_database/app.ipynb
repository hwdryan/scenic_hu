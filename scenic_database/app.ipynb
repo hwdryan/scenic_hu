{
 "cells": [
  {
   "cell_type": "code",
   "execution_count": null,
   "metadata": {},
   "outputs": [],
   "source": [
    "from sqlalchemy import (Column, ForeignKey, Integer, MetaData, String, Table,\n",
    "                        create_engine)\n",
    "from sqlalchemy.orm import (Mapped, declarative_base, mapped_column,\n",
    "                            relationship, sessionmaker)\n",
    "from models import *\n",
    "# Create a session\n",
    "Session = sessionmaker(bind=engine)\n",
    "session = Session()\n"
   ]
  },
  {
   "cell_type": "code",
   "execution_count": null,
   "metadata": {},
   "outputs": [],
   "source": [
    "Base.metadata.create_all(engine)"
   ]
  },
  {
   "cell_type": "code",
   "execution_count": null,
   "metadata": {},
   "outputs": [],
   "source": [
    "# \n",
    "functional_nominal_scenario_1 = FunctionalNominalScenario(path=\"nominal_scenario_catalog/nominal_scenario_1/functional_scenario_description.md\")\n",
    "# \n",
    "logical_nominal_scenario_1 = LogicalNominalScenario(path=\"nominal_scenario_catalog/nominal_scenario_1/logical_scenario_1/logical_scenario_1.scenic\")\n",
    "# \n",
    "concrete_nominal_scenario_1 = ConcreteNominalScenario(path=\"nominal_scenario_catalog/nominal_scenario_1/logical_scenario_1/concrete_scenario_1/concrete_scenario_1.py\")\n",
    "# \n",
    "functional_nominal_scenario_1.logical_nominal_scenario_items.append(logical_nominal_scenario_1)\n",
    "logical_nominal_scenario_1.concrete_nominal_scenario_items.append(concrete_nominal_scenario_1)\n",
    "# \n",
    "session.add(functional_nominal_scenario_1)\n",
    "session.commit()"
   ]
  },
  {
   "cell_type": "code",
   "execution_count": null,
   "metadata": {},
   "outputs": [],
   "source": [
    "TCs = [\n",
    "    {'TC':'Parking vehicle on the roadside with opening door', 'FI':'Information processing-lidar-based object classification, Plan-behavior prediction'},\n",
    "    {'TC':'E-scooter drives on motor lane', 'FI':'Plan-situation understanding'},\n",
    "    {'TC':'Vehicle from the right merging lane without right of way brakes too late', 'FI':'Plan-prediction'},\n",
    "    {'TC':'Workers unload a truck on the road', 'FI':'Information processing-object detection, Plan-trajectory prediction'},\n",
    "    {'TC':'Pedestrian halts sharply in front of the crosswalk', 'FI':'Plan-trajectory prediction'},\n",
    "    {'TC':'Front cyclist leaves the lane', 'FI':'Information processing - object detection, Plan - situation understanding'},\n",
    "    {'TC':'Multiple vehicles cut in to ego path in a short time', 'FI':'Plan - situation understanding & decision making'},\n",
    "    {'TC':'Front vehicle drives on lane markings', 'FI':'Plan-situation understanding'},\n",
    "    {'TC':'Many vehicles park along the road side', 'FI':'Information access - offline map backup, Information processing - localization, road mark detection, Plan-situation understanding, prediction'},\n",
    "    {'TC':'Traffic jam in front when neighbor lane is free', 'FI':'Plan - situation understanding + prediction'},\n",
    "    {'TC':'Front vehicle halts on the lane with warning flasher on', 'FI':'Plan - situation understanding'},\n",
    "    {'TC':'Cyclist crosses from the roadside', 'FI':'Information reception - FOV,, Plan - Prediction'},\n",
    "    {'TC':'Oncoming vehicle overtakes a halting vehicle', 'FI':'Plan-situation understanding'},\n",
    "    {'TC':'Scooter/cyclist drives on opposite lane', 'FI':'Plan-situation understanding'},\n",
    "    {'TC':'Traffic jam on the opposite lane', 'FI':'Information processing-object separation, Plan-situation understanding, prediction'},\n",
    "    {'TC':'Halting vehicles on both directions narrow the road', 'FI':'Plan-situation understanding'},\n",
    "    {'TC':'Front cyclist moves towards the road edge and halt', 'FI':'Plan-behavior interpretation & prediction'},\n",
    "]\n",
    "\n",
    "\n",
    "for TC in TCs:\n",
    "    session.add(TriggeringCondition(triggering_condition_name=TC['TC'], functional_insufficiency=TC['FI'], functional_insufficiency_origin='expert'))\n",
    "session.commit()"
   ]
  },
  {
   "cell_type": "code",
   "execution_count": null,
   "metadata": {},
   "outputs": [],
   "source": [
    "tc_enhanced_functional_scenario_1 = TCEnhancedFunctionalScenario(path = \"tc_scenario_catalog/Cyclist_crosses_from_roadside/functional_scenario_description.md\",\n",
    "                                                                 exist_non_complient = 0,\n",
    "                                                                 functional_nominal_scenario_id = 1,\n",
    "                                                                 triggering_condition_id = 12\n",
    "                                                                 )\n",
    "# \n",
    "tc_enhanced_logical_scenario_1 = TCEnhancedLogicalScenario(path = \"tc_scenario_catalog/Cyclist_crosses_from_roadside/logical_scenario_1/logical_scenario_1.scenic\",\n",
    "                                                           logical_nominal_scenario_id = 1)\n",
    "\n",
    "tc_enhanced_functional_scenario_1.tc_enhanced_logical_scenario_items.append(tc_enhanced_logical_scenario_1)\n",
    "\n",
    "session.add(tc_enhanced_functional_scenario_1)\n",
    "session.commit()"
   ]
  },
  {
   "cell_type": "code",
   "execution_count": null,
   "metadata": {},
   "outputs": [],
   "source": [
    "\n",
    "\n",
    "tc_enhanced_concrete_scenario_1 = TCEnhancedConcreteScenario(path = \"tc_scenario_catalog/Cyclist_crosses_from_roadside/logical_scenario_1/concrete_scenario_1/concrete_scenario_1.py\",\n",
    "                                                             concrete_nominal_scenario_id = 1,\n",
    "                                                             tc_enhanced_logical_scenario_id = 1)\n",
    "session.add(tc_enhanced_concrete_scenario_1)\n",
    "session.commit()"
   ]
  },
  {
   "cell_type": "code",
   "execution_count": null,
   "metadata": {},
   "outputs": [],
   "source": [
    "\n",
    "\n",
    "required_behavior_1 = RequiredBehavior(behavior_name=\"collision\", behavior_description=\"Ego shall not collide with other vehicles.\")\n",
    "required_behavior_2 = RequiredBehavior(behavior_name=\"exceed_acceleration\", behavior_description=\"Ego shall not exceed specified acceleration.\")\n",
    "required_behavior_3 = RequiredBehavior(behavior_name=\"minimum_distance\", behavior_description=\"Ego shall keep distance greater than the minimum threshold with other vehicle.\")\n",
    "required_behavior_4 = RequiredBehavior(behavior_name=\"safe_longitudinal_distance\", behavior_description=\"While the AD-Vehicle is not at standstill, and operating in speed range up to 60 km/h, the AD-Function shall adapt the speed to adjust the distance to a lead vehicle in the same lane to be equal or greater than the minimum following distance.\")\n",
    "required_behavior_5 = RequiredBehavior(behavior_name=\"ego_overtake\", behavior_description=\"Ego shall not overtake in unclear traffic situations..\")\n",
    "\n",
    "hazardous_behavior_1 = HazardousBehavior(behavior_description=\"Ego caused collision.\")\n",
    "hazardous_behavior_2 = HazardousBehavior(behavior_description=\"Ego exceeded rated acceleration.\")\n",
    "hazardous_behavior_3 = HazardousBehavior(behavior_description=\"Ego violated minimum distance.\")\n",
    "hazardous_behavior_4 = HazardousBehavior(behavior_description=\"Ego violated safe lateral distance.\")\n",
    "hazardous_behavior_5 = HazardousBehavior(behavior_description=\"Ego overtaked unsafely.\")\n",
    "\n",
    "required_behavior_1.hazardous_behavior = hazardous_behavior_1\n",
    "required_behavior_2.hazardous_behavior = hazardous_behavior_2\n",
    "required_behavior_3.hazardous_behavior = hazardous_behavior_3\n",
    "required_behavior_4.hazardous_behavior = hazardous_behavior_4\n",
    "required_behavior_5.hazardous_behavior = hazardous_behavior_5\n",
    "\n",
    "session.add(required_behavior_1)\n",
    "session.add(required_behavior_2)\n",
    "session.add(required_behavior_3)\n",
    "session.add(required_behavior_4)\n",
    "session.add(required_behavior_5)\n",
    "session.commit()"
   ]
  },
  {
   "cell_type": "code",
   "execution_count": null,
   "metadata": {},
   "outputs": [],
   "source": [
    "test_case_1 = TestCase()\n",
    "tc_enhanced_concrete_scenario_1.test_case = test_case_1\n",
    "\n",
    "test_case_1.required_behaviors.append(required_behavior_1)\n",
    "\n",
    "session.add(test_case_1)\n",
    "session.add(tc_enhanced_concrete_scenario_1)\n",
    "session.commit()"
   ]
  },
  {
   "cell_type": "code",
   "execution_count": null,
   "metadata": {},
   "outputs": [],
   "source": [
    "# Query for a specific FunctionalNominalScenario item (replace 'functional_nominal_scenario_id' with the actual ID of the FunctionalNominalScenario item)\n",
    "functional_nominal_scenario_item = session.query(FunctionalNominalScenario).where(FunctionalNominalScenario.id == 2).first()\n",
    "\n",
    "# If functional_nominal_scenario_item is found, traverse the relationship to ConcreteNominalScenario items\n",
    "if functional_nominal_scenario_item:\n",
    "    # Query ConcreteNominalScenario items related to the specific FunctionalNominalScenario item\n",
    "    concrete_nominal_scenario_items = session.query(ConcreteNominalScenario).join(LogicalNominalScenario).join(FunctionalNominalScenario).filter(FunctionalNominalScenario.id == functional_nominal_scenario_item.id).all()\n",
    "\n",
    "    # Now you have the ConcreteNominalScenario items related to the specific FunctionalNominalScenario item\n",
    "    for concrete_nominal_scenario_item in concrete_nominal_scenario_items:\n",
    "        print(concrete_nominal_scenario_item.path)\n",
    "else:\n",
    "    print(\"FunctionalNominalScenario item not found.\")"
   ]
  },
  {
   "cell_type": "code",
   "execution_count": null,
   "metadata": {},
   "outputs": [],
   "source": [
    "\n",
    "required_behavior_1 = RequiredBehavior(behavior_name=\"ego_drive_normally\", behavior_description=\"Ego shall drive normally without harsh brake, keep same lane, reach destination at the end.\")\n",
    "required_behavior_2 = RequiredBehavior(behavior_name=\"ego_overtake_safe_lateral_distance\", behavior_description=\"Ego shall keep safe lateral distance when overtaking road users.\")\n",
    "required_behavior_3 = RequiredBehavior(behavior_name=\"ego_safe_overtake_oncoming_traffic\", behavior_description=\"Ego shall only overtake when time for manuevor is not enough, given that opposite lane has oncoming traffic.\")\n",
    "required_behavior_4 = RequiredBehavior(behavior_name=\"safe_longitudinal_distance\", behavior_description=\"Ego shall keep safe longitudinal distance.\")\n",
    "required_behavior_5 = RequiredBehavior(behavior_name=\"ego_overtake\", behavior_description=\"ego shall not overtake.\")\n",
    "\n",
    "hazardous_behavior_1 = HazardousBehavior(behavior_description=\"Ego caused collision.\")\n",
    "hazardous_behavior_2 = HazardousBehavior(behavior_description=\"Ego exceeded rated acceleration.\")\n",
    "hazardous_behavior_3 = HazardousBehavior(behavior_description=\"Ego violated minimum distance.\")\n",
    "hazardous_behavior_4 = HazardousBehavior(behavior_description=\"Ego violated safe lateral distance.\")\n",
    "hazardous_behavior_5 = HazardousBehavior(behavior_description=\"Ego overtaked unsafely.\")\n",
    "\n",
    "required_behavior_1.hazardous_behavior = hazardous_behavior_1\n",
    "required_behavior_2.hazardous_behavior = hazardous_behavior_2\n",
    "required_behavior_3.hazardous_behavior = hazardous_behavior_3\n",
    "required_behavior_4.hazardous_behavior = hazardous_behavior_4\n",
    "required_behavior_5.hazardous_behavior = hazardous_behavior_5\n",
    "\n",
    "session.add(required_behavior_1)\n",
    "session.add(required_behavior_2)\n",
    "session.add(required_behavior_3)\n",
    "session.add(required_behavior_4)\n",
    "session.add(required_behavior_5)\n",
    "session.commit()"
   ]
  },
  {
   "cell_type": "code",
   "execution_count": null,
   "metadata": {},
   "outputs": [],
   "source": [
    "# Nominal\n",
    "functional_nominal_scenario_2 = FunctionalNominalScenario(path=\"nominal_scenario_catalog/nominal_scenario_2/functional_scenario_description.md\")\n",
    "# \n",
    "logical_nominal_scenario_2 = LogicalNominalScenario(path=\"nominal_scenario_catalog/nominal_scenario_2/logical_scenario_1/logical_scenario_1.py\")\n",
    "# \n",
    "concrete_nominal_scenario_2 = ConcreteNominalScenario(path=\"nominal_scenario_catalog/nominal_scenario_2/logical_scenario_1/concrete_scenario_1/concrete_scenario_1.py\")\n",
    "# \n",
    "functional_nominal_scenario_2.logical_nominal_scenario_items.append(logical_nominal_scenario_2)\n",
    "logical_nominal_scenario_2.concrete_nominal_scenario_items.append(concrete_nominal_scenario_2)\n",
    "# \n",
    "session.add(functional_nominal_scenario_2)\n",
    "session.commit()\n",
    "\n",
    "# TC enhanced\n",
    "# /home/weidong/Tools/Scenic/scenic_projects/tc_scenario_catalog/Cyclist_drives_on_opposite_lane/logical_scenario_1/concrete_scenario_1/concrete_scenario_1.py\n",
    "tc_enhanced_functional_scenario_2 = TCEnhancedFunctionalScenario(path = \"tc_scenario_catalog/Cyclist_drives_on_opposite_lane/functional_scenario_description.md\",\n",
    "                                                                 exist_non_complient = 0,\n",
    "                                                                 functional_nominal_scenario_id = 2,\n",
    "                                                                 triggering_condition_id = 14\n",
    "                                                                 )\n",
    "tc_enhanced_logical_scenario_2 = TCEnhancedLogicalScenario(path = \"tc_scenario_catalog/Cyclist_drives_on_opposite_lane/logical_scenario_1/logical_scenario_1.py\",\n",
    "                                                           logical_nominal_scenario_id = 2)\n",
    "\n",
    "tc_enhanced_functional_scenario_2.tc_enhanced_logical_scenario_items.append(tc_enhanced_logical_scenario_2)\n",
    "\n",
    "session.add(tc_enhanced_functional_scenario_2)\n",
    "session.commit()\n",
    "\n",
    "# Test case\n",
    "test_case_1 = TestCase()\n",
    "tc_enhanced_concrete_scenario_1.test_case = test_case_1\n",
    "\n",
    "test_case_1.required_behaviors.append(required_behavior_1)\n",
    "\n",
    "session.add(test_case_1)\n",
    "session.add(tc_enhanced_concrete_scenario_1)\n",
    "session.commit()"
   ]
  }
 ],
 "metadata": {
  "kernelspec": {
   "display_name": "Python 3",
   "language": "python",
   "name": "python3"
  },
  "language_info": {
   "codemirror_mode": {
    "name": "ipython",
    "version": 3
   },
   "file_extension": ".py",
   "mimetype": "text/x-python",
   "name": "python",
   "nbconvert_exporter": "python",
   "pygments_lexer": "ipython3",
   "version": "3.8.10"
  }
 },
 "nbformat": 4,
 "nbformat_minor": 2
}
