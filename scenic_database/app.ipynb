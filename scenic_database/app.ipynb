{
 "cells": [
  {
   "cell_type": "code",
   "execution_count": 5,
   "metadata": {},
   "outputs": [
    {
     "name": "stdout",
     "output_type": "stream",
     "text": [
      "2024-04-24 14:32:21,290 INFO sqlalchemy.engine.Engine INSERT INTO functional_nominal_scenario (description) VALUES (?)\n",
      "2024-04-24 14:32:21,292 INFO sqlalchemy.engine.Engine [cached since 266.3s ago] ('This is a functional nominal scenario description.',)\n",
      "2024-04-24 14:32:21,293 INFO sqlalchemy.engine.Engine INSERT INTO logical_nominal_scenario (path, functional_nominal_scenario_id) VALUES (?, ?)\n",
      "2024-04-24 14:32:21,294 INFO sqlalchemy.engine.Engine [cached since 266.3s ago] ('/path/to/logical_nominal_scenario_1', 2)\n",
      "2024-04-24 14:32:21,295 INFO sqlalchemy.engine.Engine INSERT INTO logical_nominal_scenario (path, functional_nominal_scenario_id) VALUES (?, ?)\n",
      "2024-04-24 14:32:21,295 INFO sqlalchemy.engine.Engine [cached since 266.3s ago] ('/path/to/logical_nominal_scenario_2', 2)\n",
      "2024-04-24 14:32:21,296 INFO sqlalchemy.engine.Engine INSERT INTO concrete_nominal_scenario (path, logical_nominal_scenario_id) VALUES (?, ?)\n",
      "2024-04-24 14:32:21,296 INFO sqlalchemy.engine.Engine [cached since 266.3s ago] ('/path/to/concrete_nominal_scenario_1', 3)\n",
      "2024-04-24 14:32:21,297 INFO sqlalchemy.engine.Engine INSERT INTO concrete_nominal_scenario (path, logical_nominal_scenario_id) VALUES (?, ?)\n",
      "2024-04-24 14:32:21,297 INFO sqlalchemy.engine.Engine [cached since 266.3s ago] ('/path/to/concrete_nominal_scenario_2', 3)\n",
      "2024-04-24 14:32:21,298 INFO sqlalchemy.engine.Engine INSERT INTO concrete_nominal_scenario (path, logical_nominal_scenario_id) VALUES (?, ?)\n",
      "2024-04-24 14:32:21,299 INFO sqlalchemy.engine.Engine [cached since 266.3s ago] ('/path/to/concrete_nominal_scenario_3', 4)\n",
      "2024-04-24 14:32:21,300 INFO sqlalchemy.engine.Engine INSERT INTO concrete_nominal_scenario (path, logical_nominal_scenario_id) VALUES (?, ?)\n",
      "2024-04-24 14:32:21,300 INFO sqlalchemy.engine.Engine [cached since 266.3s ago] ('/path/to/concrete_nominal_scenario_4', 4)\n",
      "2024-04-24 14:32:21,301 INFO sqlalchemy.engine.Engine COMMIT\n"
     ]
    }
   ],
   "source": [
    "from sqlalchemy import (Column, ForeignKey, Integer, MetaData, String, Table,\n",
    "                        create_engine)\n",
    "from sqlalchemy.orm import (Mapped, declarative_base, mapped_column,\n",
    "                            relationship, sessionmaker)\n",
    "from models import *\n",
    "# \n",
    "functional_nominal_scenario_1 = FunctionalNominalScenario(description=\"This is a functional nominal scenario description.\")\n",
    "functional_nominal_scenario_2 = FunctionalNominalScenario(description=\"And This is also a functional nominal scenario description.\")\n",
    "# \n",
    "logical_nominal_scenario_1 = LogicalNominalScenario(path=\"/path/to/logical_nominal_scenario_1\")\n",
    "logical_nominal_scenario_2 = LogicalNominalScenario(path=\"/path/to/logical_nominal_scenario_2\")\n",
    "logical_nominal_scenario_3 = LogicalNominalScenario(path=\"/path/to/logical_nominal_scenario_3\")\n",
    "logical_nominal_scenario_4 = LogicalNominalScenario(path=\"/path/to/logical_nominal_scenario_4\")\n",
    "# # \n",
    "concrete_nominal_scenario_1 = ConcreteNominalScenario(path=\"/path/to/concrete_nominal_scenario_1\")\n",
    "concrete_nominal_scenario_2 = ConcreteNominalScenario(path=\"/path/to/concrete_nominal_scenario_2\")\n",
    "concrete_nominal_scenario_3 = ConcreteNominalScenario(path=\"/path/to/concrete_nominal_scenario_3\")\n",
    "concrete_nominal_scenario_4 = ConcreteNominalScenario(path=\"/path/to/concrete_nominal_scenario_4\")\n",
    "concrete_nominal_scenario_5 = ConcreteNominalScenario(path=\"/path/to/concrete_nominal_scenario_5\")\n",
    "concrete_nominal_scenario_6 = ConcreteNominalScenario(path=\"/path/to/concrete_nominal_scenario_6\")\n",
    "concrete_nominal_scenario_7 = ConcreteNominalScenario(path=\"/path/to/concrete_nominal_scenario_7\")\n",
    "concrete_nominal_scenario_8 = ConcreteNominalScenario(path=\"/path/to/concrete_nominal_scenario_8\")\n",
    "\n",
    "# # Associating addresses with users\n",
    "functional_nominal_scenario_1.logical_nominal_scenario_items.extend([logical_nominal_scenario_1, logical_nominal_scenario_2])\n",
    "functional_nominal_scenario_2.logical_nominal_scenario_items.extend([logical_nominal_scenario_3, logical_nominal_scenario_4])\n",
    "logical_nominal_scenario_1.concrete_nominal_scenario_items.extend([concrete_nominal_scenario_1, concrete_nominal_scenario_2])\n",
    "logical_nominal_scenario_2.concrete_nominal_scenario_items.extend([concrete_nominal_scenario_3, concrete_nominal_scenario_4])\n",
    "logical_nominal_scenario_3.concrete_nominal_scenario_items.extend([concrete_nominal_scenario_5, concrete_nominal_scenario_6])\n",
    "logical_nominal_scenario_4.concrete_nominal_scenario_items.extend([concrete_nominal_scenario_7, concrete_nominal_scenario_8])\n",
    "# # Adding users and addresses to the session and committing changes to the database\n",
    "session.add(functional_nominal_scenario_1)\n",
    "# # session.add(user2)\n",
    "session.commit()\n",
    "\n",
    "\n"
   ]
  },
  {
   "cell_type": "code",
   "execution_count": 12,
   "metadata": {},
   "outputs": [
    {
     "name": "stdout",
     "output_type": "stream",
     "text": [
      "2024-04-24 14:40:40,642 INFO sqlalchemy.engine.Engine SELECT functional_nominal_scenario.id AS functional_nominal_scenario_id, functional_nominal_scenario.description AS functional_nominal_scenario_description \n",
      "FROM functional_nominal_scenario \n",
      "WHERE functional_nominal_scenario.id = ?\n",
      " LIMIT ? OFFSET ?\n",
      "2024-04-24 14:40:40,644 INFO sqlalchemy.engine.Engine [cached since 608.4s ago] (2, 1, 0)\n",
      "2024-04-24 14:40:40,647 INFO sqlalchemy.engine.Engine SELECT concrete_nominal_scenario.id AS concrete_nominal_scenario_id, concrete_nominal_scenario.path AS concrete_nominal_scenario_path, concrete_nominal_scenario.logical_nominal_scenario_id AS concrete_nominal_scenario_logical_nominal_scenario_id \n",
      "FROM concrete_nominal_scenario JOIN logical_nominal_scenario ON logical_nominal_scenario.id = concrete_nominal_scenario.logical_nominal_scenario_id JOIN functional_nominal_scenario ON functional_nominal_scenario.id = logical_nominal_scenario.functional_nominal_scenario_id \n",
      "WHERE functional_nominal_scenario.id = ?\n",
      "2024-04-24 14:40:40,647 INFO sqlalchemy.engine.Engine [cached since 608.4s ago] (2,)\n",
      "/path/to/concrete_nominal_scenario_1\n",
      "/path/to/concrete_nominal_scenario_2\n",
      "/path/to/concrete_nominal_scenario_3\n",
      "/path/to/concrete_nominal_scenario_4\n"
     ]
    }
   ],
   "source": [
    "\n",
    "# Query for a specific FunctionalNominalScenario item (replace 'functional_nominal_scenario_id' with the actual ID of the FunctionalNominalScenario item)\n",
    "functional_nominal_scenario_item = session.query(FunctionalNominalScenario).where(FunctionalNominalScenario.id == 2).first()\n",
    "\n",
    "# If functional_nominal_scenario_item is found, traverse the relationship to ConcreteNominalScenario items\n",
    "if functional_nominal_scenario_item:\n",
    "    # Query ConcreteNominalScenario items related to the specific FunctionalNominalScenario item\n",
    "    concrete_nominal_scenario_items = session.query(ConcreteNominalScenario).join(LogicalNominalScenario).join(FunctionalNominalScenario).filter(FunctionalNominalScenario.id == functional_nominal_scenario_item.id).all()\n",
    "\n",
    "    # Now you have the ConcreteNominalScenario items related to the specific FunctionalNominalScenario item\n",
    "    for concrete_nominal_scenario_item in concrete_nominal_scenario_items:\n",
    "        print(concrete_nominal_scenario_item.path)\n",
    "else:\n",
    "    print(\"FunctionalNominalScenario item not found.\")"
   ]
  }
 ],
 "metadata": {
  "kernelspec": {
   "display_name": "Python 3",
   "language": "python",
   "name": "python3"
  },
  "language_info": {
   "codemirror_mode": {
    "name": "ipython",
    "version": 3
   },
   "file_extension": ".py",
   "mimetype": "text/x-python",
   "name": "python",
   "nbconvert_exporter": "python",
   "pygments_lexer": "ipython3",
   "version": "3.8.10"
  }
 },
 "nbformat": 4,
 "nbformat_minor": 2
}
