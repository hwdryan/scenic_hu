{
 "cells": [
  {
   "cell_type": "code",
   "execution_count": 64,
   "metadata": {},
   "outputs": [
    {
     "name": "stdout",
     "output_type": "stream",
     "text": [
      "TC_database.db deleted successfully\n"
     ]
    }
   ],
   "source": [
    "import os\n",
    "\n",
    "# Specify the file path\n",
    "file_path = \"TC_database.db\"\n",
    "\n",
    "# Check if the file exists before attempting to delete it\n",
    "if os.path.exists(file_path):\n",
    "    # Delete the file\n",
    "    os.remove(file_path)\n",
    "    print(f\"{file_path} deleted successfully\")\n",
    "else:\n",
    "    print(f\"{file_path} does not exist\")\n"
   ]
  },
  {
   "cell_type": "code",
   "execution_count": 65,
   "metadata": {},
   "outputs": [],
   "source": [
    "import sqlite3\n",
    "\n",
    "conn = sqlite3.connect('TC_database.db')\n",
    "\n",
    "c = conn.cursor()"
   ]
  },
  {
   "cell_type": "code",
   "execution_count": 66,
   "metadata": {},
   "outputs": [
    {
     "name": "stdout",
     "output_type": "stream",
     "text": [
      "Foreign Keys Enabled: 1\n"
     ]
    }
   ],
   "source": [
    "# Execute the PRAGMA foreign_keys command\n",
    "c.execute(\"PRAGMA foreign_keys = ON\")\n",
    "c.execute(\"PRAGMA foreign_keys;\")\n",
    "\n",
    "# Fetch and print the result\n",
    "result = c.fetchone()[0]\n",
    "print(\"Foreign Keys Enabled:\", result)"
   ]
  },
  {
   "cell_type": "code",
   "execution_count": 67,
   "metadata": {},
   "outputs": [],
   "source": [
    "# c.execute(\"\"\"create table FunctionModule(\n",
    "#           module_id integer primary key,\n",
    "#           module text unique\n",
    "# )\"\"\")\n",
    "\n",
    "# conn.commit()"
   ]
  },
  {
   "cell_type": "code",
   "execution_count": 68,
   "metadata": {},
   "outputs": [],
   "source": [
    "c.execute(\"\"\"create table TriggeringCondition(\n",
    "          TC_id integer primary key,\n",
    "          TC_name text not null unique,\n",
    "          FI text not null,\n",
    "          FI_origin not null\n",
    ")\"\"\")\n",
    "\n",
    "conn.commit()"
   ]
  },
  {
   "cell_type": "code",
   "execution_count": 69,
   "metadata": {},
   "outputs": [],
   "source": [
    "# # functional_insufficiency text not null CHECK (functional_insufficiency IN ('Localization','Perception','Prediction','Planning','Control')),\n",
    "# c.execute(\"\"\"create table FunctionalInsufficiency(\n",
    "#           FI_id integer primary key,\n",
    "#           TC_id integer not null,\n",
    "#           functional_insufficiency text not null CHECK (functional_insufficiency IN ('Localization','Perception','Prediction','Planning','Control')),\n",
    "#           origin text not null,\n",
    "#           foreign key (TC_id) references TriggeringCondition(TC_id),\n",
    "#           foreign key (functional_insufficiency) references FunctionModule(module),\n",
    "#           UNIQUE(TC_id,functional_insufficiency,origin)\n",
    "# )\"\"\")\n",
    "\n",
    "# conn.commit()"
   ]
  },
  {
   "cell_type": "code",
   "execution_count": 70,
   "metadata": {},
   "outputs": [],
   "source": [
    "c.execute(\"\"\"create table DrivingBehaviorRequirement(\n",
    "          behavior_requirement_id integer primary key,\n",
    "          behavior_requirement text not null\n",
    ")\n",
    "\"\"\")\n",
    "\n",
    "conn.commit()"
   ]
  },
  {
   "cell_type": "code",
   "execution_count": 71,
   "metadata": {},
   "outputs": [],
   "source": [
    "c.execute(\"\"\"create table TCEnhancedFunctionalScenario(\n",
    "          functional_scenairo_id integer primary key,\n",
    "          TC_id integer not null,\n",
    "          functional_scenario text not null,\n",
    "          exist_non_complient integer not null,\n",
    "          foreign key(TC_id) references TriggeringCondition(TC_id)\n",
    ")\n",
    "\"\"\")\n",
    "\n",
    "conn.commit()"
   ]
  },
  {
   "cell_type": "code",
   "execution_count": null,
   "metadata": {},
   "outputs": [],
   "source": [
    "c.execute(\"\"\"create table FunctionalScenario(\n",
    "          functional_scenairo_id integer primary key,\n",
    "          TC_id integer not null,\n",
    "          functional_scenario text not null,\n",
    "          exist_non_complient integer not null,\n",
    "          foreign key(TC_id) references TriggeringCondition(TC_id)\n",
    ")\n",
    "\"\"\")\n",
    "\n",
    "conn.commit()"
   ]
  },
  {
   "cell_type": "code",
   "execution_count": 72,
   "metadata": {},
   "outputs": [
    {
     "data": {
      "text/plain": [
       "<sqlite3.Cursor at 0x7fa14ddd7570>"
      ]
     },
     "execution_count": 72,
     "metadata": {},
     "output_type": "execute_result"
    }
   ],
   "source": [
    "c.execute(\"\"\"create table AbstractScenarioRequirement(\n",
    "          abstract_scenairo_id integer not null,\n",
    "          behavior_requirement_id integer not null,\n",
    "          foreign key(abstract_scenairo_id) references TCEnhancedAbstractScenario(abstract_scenairo_id)\n",
    "          foreign key(behavior_requirement_id) references DrivingBehaviorRequirement(behavior_requirement_id)\n",
    ")\n",
    "\"\"\")"
   ]
  },
  {
   "cell_type": "code",
   "execution_count": 73,
   "metadata": {},
   "outputs": [],
   "source": [
    "c.execute(\"\"\"create table TCEnhancedConcreteScenario(\n",
    "          concrete_scenario_id integer primary key,\n",
    "          abstract_scenario_id integer not null,\n",
    "          concrete_scenario text not null,\n",
    "          foreign key(abstract_scenario_id) references TCEnhancedAbstractScenario(abstract_scenario_id)\n",
    ")\n",
    "\"\"\")\n",
    "\n",
    "conn.commit()"
   ]
  },
  {
   "cell_type": "code",
   "execution_count": 74,
   "metadata": {},
   "outputs": [
    {
     "data": {
      "text/plain": [
       "<sqlite3.Cursor at 0x7fa14ddd7570>"
      ]
     },
     "execution_count": 74,
     "metadata": {},
     "output_type": "execute_result"
    }
   ],
   "source": [
    "c.execute(\"\"\"create table ConcreteScenarioRequirement(\n",
    "          concrete_scenario_id integer not null,\n",
    "          behavior_requirement_id integer not null,\n",
    "          foreign key(concrete_scenario_id) references TCEnhancedConcreteScenario(concrete_scenario_id)\n",
    "          foreign key(behavior_requirement_id) references DrivingBehaviorRequirement(behavior_requirement_id)\n",
    ")\n",
    "\"\"\")"
   ]
  },
  {
   "cell_type": "code",
   "execution_count": 75,
   "metadata": {},
   "outputs": [],
   "source": [
    "c.execute(\"\"\"create table HazardousBehavior(\n",
    "          hazardous_behavior_id integer primary key,\n",
    "          hazardous_behavior text not null\n",
    ")\n",
    "\"\"\")\n",
    "\n",
    "conn.commit()"
   ]
  },
  {
   "cell_type": "code",
   "execution_count": 76,
   "metadata": {},
   "outputs": [],
   "source": [
    "c.execute(\"\"\"create table HazardousEvent(\n",
    "          hazardous_event_id integer primary key,\n",
    "          hazardous_event text not null\n",
    ")\n",
    "\"\"\")\n",
    "\n",
    "conn.commit()"
   ]
  },
  {
   "cell_type": "code",
   "execution_count": 77,
   "metadata": {},
   "outputs": [],
   "source": [
    "c.execute(\"\"\"create table ConcreteScenarioTestingResult(\n",
    "          result_id integer primary key,\n",
    "          TC_id integer not null,\n",
    "          concrete_scenario_id integer,\n",
    "          system_info text not null,\n",
    "          test_result text not null,\n",
    "          hazardous_behavior_id integer,\n",
    "          hazardous_event_id integer,\n",
    "          testing_date text not null,\n",
    "          log_file text not null,\n",
    "          foreign key(TC_id) references triggeringConditions(TC_id),\n",
    "          foreign key(concrete_scenario_id) references TCEnhancedConcreteScenario(concrete_scenario_id),\n",
    "          foreign key(hazardous_behavior_id) references HazardousBehavior(hazardous_behavior_id),\n",
    "          foreign key(hazardous_event_id) references HazardousEvent(hazardous_event_id)\n",
    ")\n",
    "\"\"\")\n",
    "\n",
    "conn.commit()"
   ]
  },
  {
   "cell_type": "code",
   "execution_count": 78,
   "metadata": {},
   "outputs": [],
   "source": [
    "conn.commit()\n",
    "conn.close()"
   ]
  },
  {
   "cell_type": "markdown",
   "metadata": {},
   "source": [
    "Function Modules"
   ]
  },
  {
   "cell_type": "code",
   "execution_count": 79,
   "metadata": {},
   "outputs": [],
   "source": [
    "import os, sqlite3\n",
    "\n",
    "conn = sqlite3.connect('TC_database.db')\n",
    "\n",
    "c = conn.cursor()"
   ]
  },
  {
   "cell_type": "code",
   "execution_count": 80,
   "metadata": {},
   "outputs": [],
   "source": [
    "# modules = ['Localization','Perception','Prediction','Planning','Control']\n",
    "\n",
    "# for module in modules:\n",
    "#     c.execute(\"insert into FunctionModule values(NULL,?)\", (module,))\n",
    "\n",
    "# conn.commit()"
   ]
  },
  {
   "cell_type": "markdown",
   "metadata": {},
   "source": [
    "TCs"
   ]
  },
  {
   "cell_type": "code",
   "execution_count": 81,
   "metadata": {},
   "outputs": [],
   "source": [
    "from sqlite3 import IntegrityError\n",
    "TCs = [\n",
    "    {'TC':'Parking vehicle on the roadside with opening door', 'FI':'Information processing-lidar-based object classification, Plan-behavior prediction'},\n",
    "    {'TC':'E-scooter drives on motor lane', 'FI':'Plan-situation understanding'},\n",
    "    {'TC':'Vehicle from the right merging lane without right of way brakes too late', 'FI':'Plan-prediction'},\n",
    "    {'TC':'Workers unload a truck on the road', 'FI':'Information processing-object detection, Plan-trajectory prediction'},\n",
    "    {'TC':'Pedestrian halts sharply in front of the crosswalk', 'FI':'Plan-trajectory prediction'},\n",
    "    {'TC':'Front cyclist leaves the lane', 'FI':'Information processing - object detection, Plan - situation understanding'},\n",
    "    {'TC':'Multiple vehicles cut in to ego path in a short time', 'FI':'Plan - situation understanding & decision making'},\n",
    "    {'TC':'Front vehicle drives on lane markings', 'FI':'Plan-situation understanding'},\n",
    "    {'TC':'Many vehicles park along the road side', 'FI':'Information access - offline map backup, Information processing - localization, road mark detection, Plan-situation understanding, prediction'},\n",
    "    {'TC':'Traffic jam in front when neighbor lane is free', 'FI':'Plan - situation understanding + prediction'},\n",
    "    {'TC':'Front vehicle halts on the lane with warning flasher on', 'FI':'Plan - situation understanding'},\n",
    "    {'TC':'Cyclist crosses from the roadside', 'FI':'Information reception - FOV,, Plan - Prediction'},\n",
    "    {'TC':'Oncoming vehicle overtakes a halting vehicle', 'FI':'Plan-situation understanding'},\n",
    "    {'TC':'Scooter/cyclist drives on opposite lane', 'FI':'Plan-situation understanding'},\n",
    "    {'TC':'Traffic jam on the opposite lane', 'FI':'Information processing-object separation, Plan-situation understanding, prediction'},\n",
    "    {'TC':'Halting vehicles on both directions narrow the road', 'FI':'Plan-situation understanding'},\n",
    "    {'TC':'Front cyclist moves towards the road edge and halt', 'FI':'Plan-behavior interpretation & prediction'},\n",
    "]\n",
    "\n",
    "\n",
    "for TC in TCs:\n",
    "    try:\n",
    "        c.execute(\"insert into TriggeringCondition values(NULL,?,?,?)\", (TC['TC'],TC['FI'],'Expert'))\n",
    "    except IntegrityError:\n",
    "        pass\n",
    "conn.commit()"
   ]
  },
  {
   "cell_type": "code",
   "execution_count": 82,
   "metadata": {},
   "outputs": [],
   "source": [
    "abstract_scenarios = [\n",
    "    {'TC_id':6,'abstract_scenario':'Ego follows lane, front cyclist leaves the lane to the bus station on the right','exist_non_complient':0},\n",
    "    {'TC_id':6,'abstract_scenario':'Ego change lane to right, front cyclist also changes to the right','exist_non_complient':0},\n",
    "    {'TC_id':13,'abstract_scenario':\"The road has one lane for ego's travelling direction and one lane for the opposite direction. On the opposite lane a delivery vehicle halts with warning flasher. The vehicle behind it performs overtaking via ego's lane.\",'exist_non_complient':1},\n",
    "    {'TC_id':17,'abstract_scenario':'Front cyclist moves towards the road edge to talk with a pedestrian','exist_non_complient':0},\n",
    "]\n",
    "\n",
    "\n",
    "for abstract_scenario in abstract_scenarios:\n",
    "    c.execute(\"insert into TCEnhancedAbstractScenario values(NULL,?,?,?)\", (abstract_scenario['TC_id'],abstract_scenario['abstract_scenario'],abstract_scenario['exist_non_complient']))\n",
    "\n",
    "conn.commit()"
   ]
  },
  {
   "cell_type": "code",
   "execution_count": 83,
   "metadata": {},
   "outputs": [],
   "source": [
    "home_dir = os.path.expanduser(\"~\")\n",
    "scenic_project_dir = os.path.join(home_dir, 'Tools/Scenic/scenic_projects/')\n",
    "concrete_scenarios = [\n",
    "    {'abs_id':1,'path':'17_front_cyclist_leaves_the_lane_1/17_front_cyclist_leaves_the_lane_1.scenic'},\n",
    "    {'abs_id':2,'path':'17_front_cyclist_leaves_the_lane_2/17_front_cyclist_leaves_the_lane_2.scenic'},\n",
    "    {'abs_id':3,'path':'Zhijing_scenario/Zhijing_scenario.scenic'},\n",
    "    {'abs_id':4,'path':'21_Front_cyclist_moves_towards_the_road_edge_and_halt_1/21_Front_cyclist_moves_towards_the_road_edge_and_halt_1.scenic'},\n",
    "    {'abs_id':4,'path':'/home/weidong/Tools/Scenic/scenic_database/test.py'},\n",
    "]\n",
    "\n",
    "\n",
    "for concrete_scenario in concrete_scenarios:\n",
    "    # c.execute(\"insert into TCEnhancedConcreteScenario values(NULL,?,?)\", (concrete_scenario['abs_id'],os.path.join(scenic_project_dir,concrete_scenario['path'])))\n",
    "    c.execute(\"insert into TCEnhancedConcreteScenario values(NULL,?,?)\", (concrete_scenario['abs_id'], concrete_scenario['path']))\n",
    "\n",
    "conn.commit()"
   ]
  }
 ],
 "metadata": {
  "kernelspec": {
   "display_name": "Python 3",
   "language": "python",
   "name": "python3"
  },
  "language_info": {
   "codemirror_mode": {
    "name": "ipython",
    "version": 3
   },
   "file_extension": ".py",
   "mimetype": "text/x-python",
   "name": "python",
   "nbconvert_exporter": "python",
   "pygments_lexer": "ipython3",
   "version": "3.11.8"
  }
 },
 "nbformat": 4,
 "nbformat_minor": 2
}
