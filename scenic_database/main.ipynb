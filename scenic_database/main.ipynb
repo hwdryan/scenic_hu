{
 "cells": [
  {
   "cell_type": "code",
   "execution_count": 66,
   "metadata": {},
   "outputs": [],
   "source": [
    "import sqlite3\n",
    "\n",
    "conn = sqlite3.connect('TC_database.db')\n",
    "\n",
    "c = conn.cursor()"
   ]
  },
  {
   "cell_type": "code",
   "execution_count": 67,
   "metadata": {},
   "outputs": [
    {
     "name": "stdout",
     "output_type": "stream",
     "text": [
      "Foreign Keys Enabled: 1\n"
     ]
    }
   ],
   "source": [
    "# Execute the PRAGMA foreign_keys command\n",
    "c.execute(\"PRAGMA foreign_keys = ON\")\n",
    "c.execute(\"PRAGMA foreign_keys;\")\n",
    "\n",
    "# Fetch and print the result\n",
    "result = c.fetchone()[0]\n",
    "print(\"Foreign Keys Enabled:\", result)"
   ]
  },
  {
   "cell_type": "code",
   "execution_count": 68,
   "metadata": {},
   "outputs": [],
   "source": [
    "c.execute(\"\"\"create table FunctionModule(\n",
    "          module_id integer primary key,\n",
    "          module text unique\n",
    ")\"\"\")\n",
    "\n",
    "conn.commit()"
   ]
  },
  {
   "cell_type": "code",
   "execution_count": 69,
   "metadata": {},
   "outputs": [],
   "source": [
    "c.execute(\"\"\"create table TriggeringCondition(\n",
    "          TC_id integer primary key,\n",
    "          TC_name text not null unique\n",
    ")\"\"\")\n",
    "\n",
    "conn.commit()"
   ]
  },
  {
   "cell_type": "code",
   "execution_count": 70,
   "metadata": {},
   "outputs": [],
   "source": [
    "# functional_insufficiency text not null CHECK (functional_insufficiency IN ('Localization','Perception','Prediction','Planning','Control')),\n",
    "c.execute(\"\"\"create table FunctionalInsufficiency(\n",
    "          FI_id integer primary key,\n",
    "          TC_id integer not null,\n",
    "          functional_insufficiency text not null CHECK (functional_insufficiency IN ('Localization','Perception','Prediction','Planning','Control')),\n",
    "          origin text not null,\n",
    "          foreign key (TC_id) references TriggeringCondition(TC_id),\n",
    "          foreign key (functional_insufficiency) references FunctionModule(module),\n",
    "          UNIQUE(TC_id,functional_insufficiency,origin)\n",
    ")\"\"\")\n",
    "\n",
    "conn.commit()"
   ]
  },
  {
   "cell_type": "code",
   "execution_count": 71,
   "metadata": {},
   "outputs": [],
   "source": [
    "c.execute(\"\"\"create table TCEnhancedAbstractScenario(\n",
    "          abstract_scenairo_id integer primary key,\n",
    "          TC_id integer not null,\n",
    "          abstract_scenario text not null,\n",
    "          nominal_scenario text not null,\n",
    "          foreign key(TC_id) references TriggeringCondition(TC_id)\n",
    ")\n",
    "\"\"\")\n",
    "\n",
    "conn.commit()"
   ]
  },
  {
   "cell_type": "code",
   "execution_count": 72,
   "metadata": {},
   "outputs": [],
   "source": [
    "c.execute(\"\"\"create table TCEnhancedConcreteScenario(\n",
    "          concrete_scenairo_id integer primary key,\n",
    "          abstract_scenario_id integer not null,\n",
    "          concrete_scenario text not null,\n",
    "          foreign key(abstract_scenario_id) references TCEnhancedAbstractScenario(abstract_scenario_id)\n",
    ")\n",
    "\"\"\")\n",
    "\n",
    "conn.commit()"
   ]
  },
  {
   "cell_type": "code",
   "execution_count": 73,
   "metadata": {},
   "outputs": [],
   "source": [
    "c.execute(\"\"\"create table ConcreteScenarioTestingResult(\n",
    "          result_id integer primary key,\n",
    "          TC_id integer not null,\n",
    "          concrete_scenairo_id integer,\n",
    "          system_info text not null,\n",
    "          test_criteria text not null,\n",
    "          test_result text not null,\n",
    "          hazardous_behavior text,\n",
    "          hazardous_event text,\n",
    "          testing_date text not null,\n",
    "          log_file text not null,\n",
    "          foreign key(TC_id) references triggeringConditions(TC_id),\n",
    "          foreign key(concrete_scenairo_id) references TCEnhancedConcreteScenario(concrete_scenairo_id)\n",
    ")\n",
    "\"\"\")\n",
    "\n",
    "conn.commit()"
   ]
  },
  {
   "cell_type": "code",
   "execution_count": 74,
   "metadata": {},
   "outputs": [],
   "source": [
    "conn.commit()\n",
    "conn.close()"
   ]
  },
  {
   "cell_type": "markdown",
   "metadata": {},
   "source": [
    "Function Modules"
   ]
  },
  {
   "cell_type": "code",
   "execution_count": 75,
   "metadata": {},
   "outputs": [],
   "source": [
    "conn = sqlite3.connect('TC_database.db')\n",
    "\n",
    "c = conn.cursor()\n",
    "\n",
    "modules = ['Localization','Perception','Prediction','Planning','Control']\n",
    "\n",
    "for module in modules:\n",
    "    c.execute(\"insert into FunctionModule values(NULL,?)\", (module,))\n",
    "\n",
    "conn.commit()"
   ]
  },
  {
   "cell_type": "markdown",
   "metadata": {},
   "source": [
    "TCs"
   ]
  },
  {
   "cell_type": "code",
   "execution_count": 76,
   "metadata": {},
   "outputs": [],
   "source": [
    "from sqlite3 import IntegrityError\n",
    "TCs = [\n",
    "    'Parking vehicle on the roadside with opening door',\n",
    "    'E-scooter drives on motor lane',\n",
    "    'Vehicle from the right merging lane without right of way brakes too late',\n",
    "    'Workers unload a truck on the road',\n",
    "    'Pedestrian halts sharply in front of the crosswalk',\n",
    "    'Front cyclist leaves the lane',\n",
    "    'Multiple vehicles cut in to ego path in a short time',\n",
    "    'Front vehicle drives on lane markings',\n",
    "    'Many vehicles park along the road side',\n",
    "    'Traffic jam in front when neighbor lane is free',\n",
    "    'Front vehicle halts on the lane with warning flasher on',\n",
    "    'Cyclist crosses from the roadside',\n",
    "    'Oncoming vehicle overtakes a halting vehicle',\n",
    "    'Scooter/cyclist drives on opposite lane',\n",
    "    'Traffic jam on the opposite lane',\n",
    "    'Halting vehicles on both directions narrow the road',\n",
    "    'Front cyclist moves towards the road edge and halt',\n",
    "]\n",
    "\n",
    "\n",
    "for TC in TCs:\n",
    "    try:\n",
    "        c.execute(\"insert into TriggeringCondition values(NULL,?)\", (TC,))\n",
    "    except IntegrityError:\n",
    "        pass\n",
    "conn.commit()"
   ]
  },
  {
   "cell_type": "markdown",
   "metadata": {},
   "source": [
    "TC functional insufficiency"
   ]
  },
  {
   "cell_type": "code",
   "execution_count": 77,
   "metadata": {},
   "outputs": [],
   "source": [
    "\n",
    "TCs = [\n",
    "    (1,'Planning','Expert'),\n",
    "    (2,'Planning','Expert'),\n",
    "    (3,'Prediction','Expert'),\n",
    "    (4,'Prediction','Expert'),\n",
    "    (5,'Prediction','Expert'),\n",
    "    (6,'Planning','Expert'),\n",
    "    (7,'Planning','Expert'),\n",
    "    (8,'Planning','Expert'),\n",
    "    (9,'Planning','Expert'),\n",
    "    (10,'Planning','Expert'),\n",
    "    (10,'Prediction','Expert'),\n",
    "    (11,'Planning','Expert'),\n",
    "    (12,'Prediction','Expert'),\n",
    "    (13,'Planning','Expert'),\n",
    "    (13,'Prediction','Expert'),\n",
    "    (14,'Planning','Expert'),\n",
    "    (15,'Planning','Expert'),\n",
    "    (15,'Prediction','Expert'),\n",
    "    (16,'Planning','Expert'),\n",
    "    (17,'Planning','Expert'),\n",
    "    (17,'Prediction','Expert'),\n",
    "]\n",
    "\n",
    "\n",
    "for TC in TCs:\n",
    "    c.execute(\"insert into FunctionalInsufficiency(TC_id,functional_insufficiency,origin) values(?,?,?)\", TC)\n",
    "\n",
    "conn.commit()"
   ]
  },
  {
   "cell_type": "code",
   "execution_count": 79,
   "metadata": {},
   "outputs": [],
   "source": [
    "abstract_scenarios = []\n",
    "\n",
    "for abstract_scenario in abstract_scenarios:\n",
    "    c.execute(\"insert into TCEnhancedAbstractScenario(TC_id,abstract_scenario,nominal_scenairo) values(?,?,?)\", TC)\n",
    "\n",
    "conn.commit()"
   ]
  }
 ],
 "metadata": {
  "kernelspec": {
   "display_name": "Python 3",
   "language": "python",
   "name": "python3"
  },
  "language_info": {
   "codemirror_mode": {
    "name": "ipython",
    "version": 3
   },
   "file_extension": ".py",
   "mimetype": "text/x-python",
   "name": "python",
   "nbconvert_exporter": "python",
   "pygments_lexer": "ipython3",
   "version": "3.11.8"
  }
 },
 "nbformat": 4,
 "nbformat_minor": 2
}
