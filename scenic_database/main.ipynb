{
 "cells": [
  {
   "cell_type": "code",
   "execution_count": 44,
   "metadata": {},
   "outputs": [],
   "source": [
    "import sqlite3\n",
    "\n",
    "conn = sqlite3.connect('TC_database.db')\n",
    "\n",
    "c = conn.cursor()"
   ]
  },
  {
   "cell_type": "code",
   "execution_count": 45,
   "metadata": {},
   "outputs": [],
   "source": [
    "c.execute(\"\"\"create table FunctionModule(\n",
    "          module_id integer primary key,\n",
    "          module text not null\n",
    ")\n",
    "\"\"\")\n",
    "\n",
    "conn.commit()"
   ]
  },
  {
   "cell_type": "code",
   "execution_count": 46,
   "metadata": {},
   "outputs": [],
   "source": [
    "c.execute(\"\"\"create table TriggeringCondition(\n",
    "          TC_id integer primary key,\n",
    "          TC_name text not null unique\n",
    ")\n",
    "\"\"\")\n",
    "\n",
    "conn.commit()"
   ]
  },
  {
   "cell_type": "code",
   "execution_count": 47,
   "metadata": {},
   "outputs": [],
   "source": [
    "c.execute(\"\"\"create table TCFunctionalInsufficiency(\n",
    "          TCFI_id integer primary key,\n",
    "          TC_name text not null,\n",
    "          functional_insufficiency text not null,\n",
    "          origin text not null,\n",
    "          foreign key(TC_name) references TriggeringCondition(TC_name),\n",
    "          foreign key(functional_insufficiency) references FunctionModule(module)\n",
    ")\n",
    "\"\"\")\n",
    "\n",
    "conn.commit()"
   ]
  },
  {
   "cell_type": "code",
   "execution_count": 48,
   "metadata": {},
   "outputs": [],
   "source": [
    "c.execute(\"\"\"create table TCEnhancedAbstractScenario(\n",
    "          abstract_scenairo_id integer primary key,\n",
    "          TC_name text not null,\n",
    "          abstract_scenario text not null,\n",
    "          nominal_scenario text not null,\n",
    "          foreign key(TC_name) references TriggeringCondition(TC_name)\n",
    ")\n",
    "\"\"\")\n",
    "\n",
    "conn.commit()"
   ]
  },
  {
   "cell_type": "code",
   "execution_count": 49,
   "metadata": {},
   "outputs": [],
   "source": [
    "c.execute(\"\"\"create table TCEnhancedConcreteScenario(\n",
    "          concrete_scenairo_id integer primary key,\n",
    "          abstract_scenario_id integer not null,\n",
    "          concrete_scenario text not null,\n",
    "          foreign key(abstract_scenario_id) references TCEnhancedAbstractScenario(abstract_scenario_id)\n",
    ")\n",
    "\"\"\")\n",
    "\n",
    "conn.commit()"
   ]
  },
  {
   "cell_type": "code",
   "execution_count": 50,
   "metadata": {},
   "outputs": [],
   "source": [
    "c.execute(\"\"\"create table ConcreteScenarioTestingResult(\n",
    "          TC_name text not null,\n",
    "          concrete_scenairo_id integer primary key,\n",
    "          system_info text not null,\n",
    "          test_criteria text not null,\n",
    "          test_result text not null,\n",
    "          hazardous_behavior text,\n",
    "          hazardous_event text,\n",
    "          testing_date text not null,\n",
    "          log_file text not null,\n",
    "          foreign key(TC_name) references triggeringConditions(TC_name),\n",
    "          foreign key(concrete_scenairo_id) references TCEnhancedConcreteScenario(concrete_scenairo_id)\n",
    ")\n",
    "\"\"\")\n",
    "\n",
    "conn.commit()"
   ]
  },
  {
   "cell_type": "code",
   "execution_count": 51,
   "metadata": {},
   "outputs": [],
   "source": [
    "conn.commit()\n",
    "conn.close()"
   ]
  },
  {
   "cell_type": "markdown",
   "metadata": {},
   "source": [
    "Function Modules"
   ]
  },
  {
   "cell_type": "code",
   "execution_count": 53,
   "metadata": {},
   "outputs": [],
   "source": [
    "conn = sqlite3.connect('TC_database.db')\n",
    "\n",
    "c = conn.cursor()\n",
    "\n",
    "modules = ['Localization','Perception','Prediction','Planning','Control']\n",
    "\n",
    "for module in modules:\n",
    "    c.execute(\"insert into FunctionModule values(NULL,?)\", (module,))\n",
    "\n",
    "conn.commit()"
   ]
  },
  {
   "cell_type": "code",
   "execution_count": null,
   "metadata": {},
   "outputs": [],
   "source": [
    "\n",
    "TCs = [\n",
    "    'Tree branch above the road',\n",
    "    'Missing lane marking on a turning lane',\n",
    "    'A junction with limitation of allowed driving directions',\n",
    "    'Parking vehicle on the roadside with opening door',\n",
    "    'Traffic light at unusual position',\n",
    "    'E-scooter drives on motor lane',\n",
    "    'Vehicle from the right merging lane without right of way brakes too late',\n",
    "    'Workers unload a truck on the road',\n",
    "    'Pedestrian halts sharply in front of the crosswalk',\n",
    "    'Workers shut the cargo door of truck on road after unloading',\n",
    "    'Front cyclist leaves the lane',\n",
    "    'Shared single direction lane with \\'BUS\\' mark',\n",
    "    'Multiple vehicles cut in to ego path in a short time',\n",
    "    'Front vehicle drives on lane markings',\n",
    "    'Many vehicles park along the road side',\n",
    "    'Truck with trailer on the neighborhood lane turns on indicators too late before cutting in',\n",
    "    'Traffic jam in front when neighbor lane is free',\n",
    "    'Front vehicle halts on the lane with warning flasher on',\n",
    "    'Vehicle parks on the lane',\n",
    "    'Missing negations on invalid/original lane markings',\n",
    "    'Missing negations on invalid/original traffic sign',\n",
    "    'Inconsistent yellow lane markings',\n",
    "    'Cyclist crosses from the roadside',\n",
    "    'Vehicle behind road works barrier merges into ego\\'s path',\n",
    "    'Oncoming vehicle overtakes a halting vehicle',\n",
    "    'Scooter/cyclist drives on opposite lane',\n",
    "    'Parking vehicles occlude pedestrians',\n",
    "    'Traffic jam on the opposite lane',\n",
    "    'Vehicle halts on negated bus lane',\n",
    "    'Halting vehicles on both directions narrow the road',\n",
    "    'Unregistered traffic guidance object',\n",
    "    'Animal crosses the road suddenly',\n",
    "    'Front cyclist moves towards the road edge and halt',\n",
    "    'Construction partially blocks ego lane',\n",
    "    'Unusual/unknown roadside modification',\n",
    "    'Massive road structure modification (e.g., roadwork detour)'\n",
    "]\n",
    "\n",
    "\n",
    "for TC in TCs:\n",
    "    c.execute(\"insert into TriggeringCondition(TC_name) values(?)\", (TC,))\n",
    "\n",
    "conn.commit()"
   ]
  },
  {
   "cell_type": "markdown",
   "metadata": {},
   "source": [
    "TCs"
   ]
  }
 ],
 "metadata": {
  "kernelspec": {
   "display_name": "Python 3",
   "language": "python",
   "name": "python3"
  },
  "language_info": {
   "codemirror_mode": {
    "name": "ipython",
    "version": 3
   },
   "file_extension": ".py",
   "mimetype": "text/x-python",
   "name": "python",
   "nbconvert_exporter": "python",
   "pygments_lexer": "ipython3",
   "version": "3.8.10"
  }
 },
 "nbformat": 4,
 "nbformat_minor": 2
}
